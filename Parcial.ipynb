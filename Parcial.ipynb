{
  "nbformat": 4,
  "nbformat_minor": 0,
  "metadata": {
    "colab": {
      "provenance": []
    },
    "kernelspec": {
      "name": "python3",
      "display_name": "Python 3"
    },
    "language_info": {
      "name": "python"
    }
  },
  "cells": [
    {
      "cell_type": "markdown",
      "source": [
        "# **Parcial 1**\n",
        "\n",
        "**Integrantes**\n",
        "\n",
        "* Jean C. Trujillo P.\n",
        "* Juan J. Cervantes S.\n",
        "* Fernando A. Oliveros O.\n",
        "* Ricardo G. Pacheco C.\n",
        "\n",
        "**Tema: Minas y Energias**\n",
        "\n",
        " # **Información de la data**\n",
        "**Titulo:**  Meta FNCER: Incorporar en la matriz energética nueva capacidad instalada a partir de Fuentes No Convencionales de Energía Renovable - FNCER\n",
        "\n",
        "**Descripción (proporcionada por la página):**\n",
        "\n",
        "Incluye informes de capacidad instalada FNCER instalada o pruebas de matriz de producción. En cada corte OR se consideran los proyectos reportados directamente por los agentes, los proyectos registrados en PARATEC (http://paratec.xm.com.co/paratec/SitePages/generacion.aspx?q=capacity) y los proyectos pequeños reportados por los agentes. Las metas son mediciones en diferentes horizontes. La meta de 1500 MW se fijó en el plan nacional de desarrollo para terminar el gobierno. Sin embargo, a fines de 2022, puede superar los 2.000 MW.\n",
        "\n",
        "**Resumen de la data:**\n",
        "\n",
        "Lo que se indica en el texto es que se están llevando a cabo informes sobre la capacidad instalada de las Fuentes No Convencionales de Energía Renovable (FNCER) y pruebas de matriz de producción. Estos informes incluyen proyectos informados directamente por los agentes, proyectos registrados en PARATEC y proyectos pequeños informados por los agentes.\n",
        "\n",
        "En resumen, se trata de un proceso de medición y registro de la capacidad instalada de las FNCER en Colombia, con el objetivo de alcanzar metas específicas en términos de generación de energía renovable. Se espera que se supere la meta originalmente establecida para fines del 2022.\n",
        "\n",
        "Con esa información, nos enfocaremos específicamente en estos datos:\n",
        "\n",
        " * Energía [kWh/día]\n",
        " * Emisiones CO2 [Ton/año]\n",
        " * Inversion estimada\n",
        " * Departamento\n",
        " * Municipios \n",
        " * Tipo\n",
        " \n",
        "\n",
        "\n"
      ],
      "metadata": {
        "id": "lORdNQvE3yOm"
      }
    },
    {
      "cell_type": "markdown",
      "source": [
        "# **Librerias**\n",
        "\n",
        "Las librerias que estamos utilizando para este anàlisis son las de **Pandas** y **Matplotlib**, lo que nos permitirà hacer un anàlisis mas detallado y poder mostrar graficas para mejor entendimiento del mismo."
      ],
      "metadata": {
        "id": "nuq0eFJvNtdo"
      }
    },
    {
      "cell_type": "code",
      "execution_count": null,
      "metadata": {
        "id": "_-GNAu7p2rEH"
      },
      "outputs": [],
      "source": [
        "import pandas as pd\n",
        "import numpy as np\n",
        "from matplotlib import pyplot as plt\n"
      ]
    },
    {
      "cell_type": "markdown",
      "source": [
        "# **Cargar el archivo csv.**"
      ],
      "metadata": {
        "id": "puiaogbwDuMb"
      }
    },
    {
      "cell_type": "markdown",
      "source": [
        "A continuacion podemos ver el resultado de la tabla de la data que va a ser analizada."
      ],
      "metadata": {
        "id": "zLls4i6R3eH-"
      }
    },
    {
      "cell_type": "code",
      "source": [
        "data = pd.read_csv('MetaFNCER.csv')\n",
        "data"
      ],
      "metadata": {
        "colab": {
          "base_uri": "https://localhost:8080/",
          "height": 659
        },
        "id": "iV0O_XqD28a7",
        "outputId": "2af087c1-6f4a-401a-85e9-a2bf83de86c0"
      },
      "execution_count": null,
      "outputs": [
        {
          "output_type": "execute_result",
          "data": {
            "text/plain": [
              "                             Proyecto    Tipo  Capacidad     Departamento  \\\n",
              "0                           JEPIRACHI  Eólico      18.42       LA GUAJIRA   \n",
              "1            AUTOG CELSIA SOLAR YUMBO   Solar       9.80  VALLE DEL CAUCA   \n",
              "2                CELSIA SOLAR BOLIVAR   Solar       8.06          BOLÍVAR   \n",
              "3    EL PASO SOLAR (ENEL GREEN POWER)   Solar      67.00            CESAR   \n",
              "4                  SOLAR CASTILLA ECP   Solar      20.00             META   \n",
              "..                                ...     ...        ...              ...   \n",
              "153                    BUGA 1 PARTE 2   Solar       5.94  VALLE DEL CAUCA   \n",
              "154                    BUGA 1 PARTE 1   Solar       3.96  VALLE DEL CAUCA   \n",
              "155                     REFINERÍA GRB   Solar      21.00        SANTANDER   \n",
              "156       EMSA GD Y AG (34 Proyectos)   Solar       1.90             META   \n",
              "157      ENELAR GD Y AG (4 Proyectos)   Solar       0.11           ARAUCA   \n",
              "\n",
              "             Municipio  Código Departamento  Código Municipio  \\\n",
              "0               URIBIA                   44             44847   \n",
              "1                YUMBO                   76             76892   \n",
              "2           SANTA ROSA                   13             13683   \n",
              "3              EL PASO                   20             20250   \n",
              "4    CASTILLA LA NUEVA                   50             50150   \n",
              "..                 ...                  ...               ...   \n",
              "153                 \"\"                   76                76   \n",
              "154                 \"\"                   76                76   \n",
              "155    BARRANCABERMEJA                   68             68081   \n",
              "156      VILLAVICENCIO                   50             50001   \n",
              "157             ARAUCA                   81             81001   \n",
              "\n",
              "          Fecha estimada FPO  Energía [kWh/día]  Usuarios  \\\n",
              "0    2004-04-27T00:00:00.000             176832     30665   \n",
              "1    2017-03-09T00:00:00.000              47040      8157   \n",
              "2    2019-02-01T00:00:00.000              38688      6709   \n",
              "3    2019-04-05T00:00:00.000             321600     55769   \n",
              "4    2019-10-10T00:00:00.000              96000     16647   \n",
              "..                       ...                ...       ...   \n",
              "153  2022-12-31T00:00:00.000              28512      4944   \n",
              "154  2022-07-31T00:00:00.000              19008      3296   \n",
              "155  2023-12-31T00:00:00.000             100800     17480   \n",
              "156  2022-05-31T00:00:00.000               9120      1582   \n",
              "157  2022-05-31T00:00:00.000                528        92   \n",
              "\n",
              "     Inversión estimada [COP]  Empleos estimados  Emisiones CO2 [Ton/año]  \n",
              "0                 79206000000                 51                    51635  \n",
              "1                 42140000000                 68                    13736  \n",
              "2                 34658000000                 56                    11297  \n",
              "3                288100000000                466                    93907  \n",
              "4                 86000000000                139                    28032  \n",
              "..                        ...                ...                      ...  \n",
              "153               22275000000                 41                     8326  \n",
              "154               14850000000                 28                     5550  \n",
              "155               78750000000                146                    29434  \n",
              "156                8170000000                 13                     2663  \n",
              "157                 473000000                  1                      154  \n",
              "\n",
              "[158 rows x 13 columns]"
            ],
            "text/html": [
              "\n",
              "  <div id=\"df-47e5c1bd-6a9f-4968-abc9-f38012e02f9d\">\n",
              "    <div class=\"colab-df-container\">\n",
              "      <div>\n",
              "<style scoped>\n",
              "    .dataframe tbody tr th:only-of-type {\n",
              "        vertical-align: middle;\n",
              "    }\n",
              "\n",
              "    .dataframe tbody tr th {\n",
              "        vertical-align: top;\n",
              "    }\n",
              "\n",
              "    .dataframe thead th {\n",
              "        text-align: right;\n",
              "    }\n",
              "</style>\n",
              "<table border=\"1\" class=\"dataframe\">\n",
              "  <thead>\n",
              "    <tr style=\"text-align: right;\">\n",
              "      <th></th>\n",
              "      <th>Proyecto</th>\n",
              "      <th>Tipo</th>\n",
              "      <th>Capacidad</th>\n",
              "      <th>Departamento</th>\n",
              "      <th>Municipio</th>\n",
              "      <th>Código Departamento</th>\n",
              "      <th>Código Municipio</th>\n",
              "      <th>Fecha estimada FPO</th>\n",
              "      <th>Energía [kWh/día]</th>\n",
              "      <th>Usuarios</th>\n",
              "      <th>Inversión estimada [COP]</th>\n",
              "      <th>Empleos estimados</th>\n",
              "      <th>Emisiones CO2 [Ton/año]</th>\n",
              "    </tr>\n",
              "  </thead>\n",
              "  <tbody>\n",
              "    <tr>\n",
              "      <th>0</th>\n",
              "      <td>JEPIRACHI</td>\n",
              "      <td>Eólico</td>\n",
              "      <td>18.42</td>\n",
              "      <td>LA GUAJIRA</td>\n",
              "      <td>URIBIA</td>\n",
              "      <td>44</td>\n",
              "      <td>44847</td>\n",
              "      <td>2004-04-27T00:00:00.000</td>\n",
              "      <td>176832</td>\n",
              "      <td>30665</td>\n",
              "      <td>79206000000</td>\n",
              "      <td>51</td>\n",
              "      <td>51635</td>\n",
              "    </tr>\n",
              "    <tr>\n",
              "      <th>1</th>\n",
              "      <td>AUTOG CELSIA SOLAR YUMBO</td>\n",
              "      <td>Solar</td>\n",
              "      <td>9.80</td>\n",
              "      <td>VALLE DEL CAUCA</td>\n",
              "      <td>YUMBO</td>\n",
              "      <td>76</td>\n",
              "      <td>76892</td>\n",
              "      <td>2017-03-09T00:00:00.000</td>\n",
              "      <td>47040</td>\n",
              "      <td>8157</td>\n",
              "      <td>42140000000</td>\n",
              "      <td>68</td>\n",
              "      <td>13736</td>\n",
              "    </tr>\n",
              "    <tr>\n",
              "      <th>2</th>\n",
              "      <td>CELSIA SOLAR BOLIVAR</td>\n",
              "      <td>Solar</td>\n",
              "      <td>8.06</td>\n",
              "      <td>BOLÍVAR</td>\n",
              "      <td>SANTA ROSA</td>\n",
              "      <td>13</td>\n",
              "      <td>13683</td>\n",
              "      <td>2019-02-01T00:00:00.000</td>\n",
              "      <td>38688</td>\n",
              "      <td>6709</td>\n",
              "      <td>34658000000</td>\n",
              "      <td>56</td>\n",
              "      <td>11297</td>\n",
              "    </tr>\n",
              "    <tr>\n",
              "      <th>3</th>\n",
              "      <td>EL PASO SOLAR (ENEL GREEN POWER)</td>\n",
              "      <td>Solar</td>\n",
              "      <td>67.00</td>\n",
              "      <td>CESAR</td>\n",
              "      <td>EL PASO</td>\n",
              "      <td>20</td>\n",
              "      <td>20250</td>\n",
              "      <td>2019-04-05T00:00:00.000</td>\n",
              "      <td>321600</td>\n",
              "      <td>55769</td>\n",
              "      <td>288100000000</td>\n",
              "      <td>466</td>\n",
              "      <td>93907</td>\n",
              "    </tr>\n",
              "    <tr>\n",
              "      <th>4</th>\n",
              "      <td>SOLAR CASTILLA ECP</td>\n",
              "      <td>Solar</td>\n",
              "      <td>20.00</td>\n",
              "      <td>META</td>\n",
              "      <td>CASTILLA LA NUEVA</td>\n",
              "      <td>50</td>\n",
              "      <td>50150</td>\n",
              "      <td>2019-10-10T00:00:00.000</td>\n",
              "      <td>96000</td>\n",
              "      <td>16647</td>\n",
              "      <td>86000000000</td>\n",
              "      <td>139</td>\n",
              "      <td>28032</td>\n",
              "    </tr>\n",
              "    <tr>\n",
              "      <th>...</th>\n",
              "      <td>...</td>\n",
              "      <td>...</td>\n",
              "      <td>...</td>\n",
              "      <td>...</td>\n",
              "      <td>...</td>\n",
              "      <td>...</td>\n",
              "      <td>...</td>\n",
              "      <td>...</td>\n",
              "      <td>...</td>\n",
              "      <td>...</td>\n",
              "      <td>...</td>\n",
              "      <td>...</td>\n",
              "      <td>...</td>\n",
              "    </tr>\n",
              "    <tr>\n",
              "      <th>153</th>\n",
              "      <td>BUGA 1 PARTE 2</td>\n",
              "      <td>Solar</td>\n",
              "      <td>5.94</td>\n",
              "      <td>VALLE DEL CAUCA</td>\n",
              "      <td>\"\"</td>\n",
              "      <td>76</td>\n",
              "      <td>76</td>\n",
              "      <td>2022-12-31T00:00:00.000</td>\n",
              "      <td>28512</td>\n",
              "      <td>4944</td>\n",
              "      <td>22275000000</td>\n",
              "      <td>41</td>\n",
              "      <td>8326</td>\n",
              "    </tr>\n",
              "    <tr>\n",
              "      <th>154</th>\n",
              "      <td>BUGA 1 PARTE 1</td>\n",
              "      <td>Solar</td>\n",
              "      <td>3.96</td>\n",
              "      <td>VALLE DEL CAUCA</td>\n",
              "      <td>\"\"</td>\n",
              "      <td>76</td>\n",
              "      <td>76</td>\n",
              "      <td>2022-07-31T00:00:00.000</td>\n",
              "      <td>19008</td>\n",
              "      <td>3296</td>\n",
              "      <td>14850000000</td>\n",
              "      <td>28</td>\n",
              "      <td>5550</td>\n",
              "    </tr>\n",
              "    <tr>\n",
              "      <th>155</th>\n",
              "      <td>REFINERÍA GRB</td>\n",
              "      <td>Solar</td>\n",
              "      <td>21.00</td>\n",
              "      <td>SANTANDER</td>\n",
              "      <td>BARRANCABERMEJA</td>\n",
              "      <td>68</td>\n",
              "      <td>68081</td>\n",
              "      <td>2023-12-31T00:00:00.000</td>\n",
              "      <td>100800</td>\n",
              "      <td>17480</td>\n",
              "      <td>78750000000</td>\n",
              "      <td>146</td>\n",
              "      <td>29434</td>\n",
              "    </tr>\n",
              "    <tr>\n",
              "      <th>156</th>\n",
              "      <td>EMSA GD Y AG (34 Proyectos)</td>\n",
              "      <td>Solar</td>\n",
              "      <td>1.90</td>\n",
              "      <td>META</td>\n",
              "      <td>VILLAVICENCIO</td>\n",
              "      <td>50</td>\n",
              "      <td>50001</td>\n",
              "      <td>2022-05-31T00:00:00.000</td>\n",
              "      <td>9120</td>\n",
              "      <td>1582</td>\n",
              "      <td>8170000000</td>\n",
              "      <td>13</td>\n",
              "      <td>2663</td>\n",
              "    </tr>\n",
              "    <tr>\n",
              "      <th>157</th>\n",
              "      <td>ENELAR GD Y AG (4 Proyectos)</td>\n",
              "      <td>Solar</td>\n",
              "      <td>0.11</td>\n",
              "      <td>ARAUCA</td>\n",
              "      <td>ARAUCA</td>\n",
              "      <td>81</td>\n",
              "      <td>81001</td>\n",
              "      <td>2022-05-31T00:00:00.000</td>\n",
              "      <td>528</td>\n",
              "      <td>92</td>\n",
              "      <td>473000000</td>\n",
              "      <td>1</td>\n",
              "      <td>154</td>\n",
              "    </tr>\n",
              "  </tbody>\n",
              "</table>\n",
              "<p>158 rows × 13 columns</p>\n",
              "</div>\n",
              "      <button class=\"colab-df-convert\" onclick=\"convertToInteractive('df-47e5c1bd-6a9f-4968-abc9-f38012e02f9d')\"\n",
              "              title=\"Convert this dataframe to an interactive table.\"\n",
              "              style=\"display:none;\">\n",
              "        \n",
              "  <svg xmlns=\"http://www.w3.org/2000/svg\" height=\"24px\"viewBox=\"0 0 24 24\"\n",
              "       width=\"24px\">\n",
              "    <path d=\"M0 0h24v24H0V0z\" fill=\"none\"/>\n",
              "    <path d=\"M18.56 5.44l.94 2.06.94-2.06 2.06-.94-2.06-.94-.94-2.06-.94 2.06-2.06.94zm-11 1L8.5 8.5l.94-2.06 2.06-.94-2.06-.94L8.5 2.5l-.94 2.06-2.06.94zm10 10l.94 2.06.94-2.06 2.06-.94-2.06-.94-.94-2.06-.94 2.06-2.06.94z\"/><path d=\"M17.41 7.96l-1.37-1.37c-.4-.4-.92-.59-1.43-.59-.52 0-1.04.2-1.43.59L10.3 9.45l-7.72 7.72c-.78.78-.78 2.05 0 2.83L4 21.41c.39.39.9.59 1.41.59.51 0 1.02-.2 1.41-.59l7.78-7.78 2.81-2.81c.8-.78.8-2.07 0-2.86zM5.41 20L4 18.59l7.72-7.72 1.47 1.35L5.41 20z\"/>\n",
              "  </svg>\n",
              "      </button>\n",
              "      \n",
              "  <style>\n",
              "    .colab-df-container {\n",
              "      display:flex;\n",
              "      flex-wrap:wrap;\n",
              "      gap: 12px;\n",
              "    }\n",
              "\n",
              "    .colab-df-convert {\n",
              "      background-color: #E8F0FE;\n",
              "      border: none;\n",
              "      border-radius: 50%;\n",
              "      cursor: pointer;\n",
              "      display: none;\n",
              "      fill: #1967D2;\n",
              "      height: 32px;\n",
              "      padding: 0 0 0 0;\n",
              "      width: 32px;\n",
              "    }\n",
              "\n",
              "    .colab-df-convert:hover {\n",
              "      background-color: #E2EBFA;\n",
              "      box-shadow: 0px 1px 2px rgba(60, 64, 67, 0.3), 0px 1px 3px 1px rgba(60, 64, 67, 0.15);\n",
              "      fill: #174EA6;\n",
              "    }\n",
              "\n",
              "    [theme=dark] .colab-df-convert {\n",
              "      background-color: #3B4455;\n",
              "      fill: #D2E3FC;\n",
              "    }\n",
              "\n",
              "    [theme=dark] .colab-df-convert:hover {\n",
              "      background-color: #434B5C;\n",
              "      box-shadow: 0px 1px 3px 1px rgba(0, 0, 0, 0.15);\n",
              "      filter: drop-shadow(0px 1px 2px rgba(0, 0, 0, 0.3));\n",
              "      fill: #FFFFFF;\n",
              "    }\n",
              "  </style>\n",
              "\n",
              "      <script>\n",
              "        const buttonEl =\n",
              "          document.querySelector('#df-47e5c1bd-6a9f-4968-abc9-f38012e02f9d button.colab-df-convert');\n",
              "        buttonEl.style.display =\n",
              "          google.colab.kernel.accessAllowed ? 'block' : 'none';\n",
              "\n",
              "        async function convertToInteractive(key) {\n",
              "          const element = document.querySelector('#df-47e5c1bd-6a9f-4968-abc9-f38012e02f9d');\n",
              "          const dataTable =\n",
              "            await google.colab.kernel.invokeFunction('convertToInteractive',\n",
              "                                                     [key], {});\n",
              "          if (!dataTable) return;\n",
              "\n",
              "          const docLinkHtml = 'Like what you see? Visit the ' +\n",
              "            '<a target=\"_blank\" href=https://colab.research.google.com/notebooks/data_table.ipynb>data table notebook</a>'\n",
              "            + ' to learn more about interactive tables.';\n",
              "          element.innerHTML = '';\n",
              "          dataTable['output_type'] = 'display_data';\n",
              "          await google.colab.output.renderOutput(dataTable, element);\n",
              "          const docLink = document.createElement('div');\n",
              "          docLink.innerHTML = docLinkHtml;\n",
              "          element.appendChild(docLink);\n",
              "        }\n",
              "      </script>\n",
              "    </div>\n",
              "  </div>\n",
              "  "
            ]
          },
          "metadata": {},
          "execution_count": 872
        }
      ]
    },
    {
      "cell_type": "markdown",
      "source": [
        "# **Mostrar los 5 primeros registros**"
      ],
      "metadata": {
        "id": "_Aqkbcm1D_qp"
      }
    },
    {
      "cell_type": "markdown",
      "source": [
        "Aquí vemos los cinco primeros registro de la data"
      ],
      "metadata": {
        "id": "tVKYCuoH3rCh"
      }
    },
    {
      "cell_type": "code",
      "source": [
        "data.head()"
      ],
      "metadata": {
        "colab": {
          "base_uri": "https://localhost:8080/",
          "height": 354
        },
        "id": "8ybzFG823a5e",
        "outputId": "7f80b859-258b-4d3f-86b7-326cf33981ad"
      },
      "execution_count": null,
      "outputs": [
        {
          "output_type": "execute_result",
          "data": {
            "text/plain": [
              "                           Proyecto    Tipo  Capacidad     Departamento  \\\n",
              "0                         JEPIRACHI  Eólico      18.42       LA GUAJIRA   \n",
              "1          AUTOG CELSIA SOLAR YUMBO   Solar       9.80  VALLE DEL CAUCA   \n",
              "2              CELSIA SOLAR BOLIVAR   Solar       8.06          BOLÍVAR   \n",
              "3  EL PASO SOLAR (ENEL GREEN POWER)   Solar      67.00            CESAR   \n",
              "4                SOLAR CASTILLA ECP   Solar      20.00             META   \n",
              "\n",
              "           Municipio  Código Departamento  Código Municipio  \\\n",
              "0             URIBIA                   44             44847   \n",
              "1              YUMBO                   76             76892   \n",
              "2         SANTA ROSA                   13             13683   \n",
              "3            EL PASO                   20             20250   \n",
              "4  CASTILLA LA NUEVA                   50             50150   \n",
              "\n",
              "        Fecha estimada FPO  Energía [kWh/día]  Usuarios  \\\n",
              "0  2004-04-27T00:00:00.000             176832     30665   \n",
              "1  2017-03-09T00:00:00.000              47040      8157   \n",
              "2  2019-02-01T00:00:00.000              38688      6709   \n",
              "3  2019-04-05T00:00:00.000             321600     55769   \n",
              "4  2019-10-10T00:00:00.000              96000     16647   \n",
              "\n",
              "   Inversión estimada [COP]  Empleos estimados  Emisiones CO2 [Ton/año]  \n",
              "0               79206000000                 51                    51635  \n",
              "1               42140000000                 68                    13736  \n",
              "2               34658000000                 56                    11297  \n",
              "3              288100000000                466                    93907  \n",
              "4               86000000000                139                    28032  "
            ],
            "text/html": [
              "\n",
              "  <div id=\"df-c2bc9306-a158-4319-a0ab-6361dc01965c\">\n",
              "    <div class=\"colab-df-container\">\n",
              "      <div>\n",
              "<style scoped>\n",
              "    .dataframe tbody tr th:only-of-type {\n",
              "        vertical-align: middle;\n",
              "    }\n",
              "\n",
              "    .dataframe tbody tr th {\n",
              "        vertical-align: top;\n",
              "    }\n",
              "\n",
              "    .dataframe thead th {\n",
              "        text-align: right;\n",
              "    }\n",
              "</style>\n",
              "<table border=\"1\" class=\"dataframe\">\n",
              "  <thead>\n",
              "    <tr style=\"text-align: right;\">\n",
              "      <th></th>\n",
              "      <th>Proyecto</th>\n",
              "      <th>Tipo</th>\n",
              "      <th>Capacidad</th>\n",
              "      <th>Departamento</th>\n",
              "      <th>Municipio</th>\n",
              "      <th>Código Departamento</th>\n",
              "      <th>Código Municipio</th>\n",
              "      <th>Fecha estimada FPO</th>\n",
              "      <th>Energía [kWh/día]</th>\n",
              "      <th>Usuarios</th>\n",
              "      <th>Inversión estimada [COP]</th>\n",
              "      <th>Empleos estimados</th>\n",
              "      <th>Emisiones CO2 [Ton/año]</th>\n",
              "    </tr>\n",
              "  </thead>\n",
              "  <tbody>\n",
              "    <tr>\n",
              "      <th>0</th>\n",
              "      <td>JEPIRACHI</td>\n",
              "      <td>Eólico</td>\n",
              "      <td>18.42</td>\n",
              "      <td>LA GUAJIRA</td>\n",
              "      <td>URIBIA</td>\n",
              "      <td>44</td>\n",
              "      <td>44847</td>\n",
              "      <td>2004-04-27T00:00:00.000</td>\n",
              "      <td>176832</td>\n",
              "      <td>30665</td>\n",
              "      <td>79206000000</td>\n",
              "      <td>51</td>\n",
              "      <td>51635</td>\n",
              "    </tr>\n",
              "    <tr>\n",
              "      <th>1</th>\n",
              "      <td>AUTOG CELSIA SOLAR YUMBO</td>\n",
              "      <td>Solar</td>\n",
              "      <td>9.80</td>\n",
              "      <td>VALLE DEL CAUCA</td>\n",
              "      <td>YUMBO</td>\n",
              "      <td>76</td>\n",
              "      <td>76892</td>\n",
              "      <td>2017-03-09T00:00:00.000</td>\n",
              "      <td>47040</td>\n",
              "      <td>8157</td>\n",
              "      <td>42140000000</td>\n",
              "      <td>68</td>\n",
              "      <td>13736</td>\n",
              "    </tr>\n",
              "    <tr>\n",
              "      <th>2</th>\n",
              "      <td>CELSIA SOLAR BOLIVAR</td>\n",
              "      <td>Solar</td>\n",
              "      <td>8.06</td>\n",
              "      <td>BOLÍVAR</td>\n",
              "      <td>SANTA ROSA</td>\n",
              "      <td>13</td>\n",
              "      <td>13683</td>\n",
              "      <td>2019-02-01T00:00:00.000</td>\n",
              "      <td>38688</td>\n",
              "      <td>6709</td>\n",
              "      <td>34658000000</td>\n",
              "      <td>56</td>\n",
              "      <td>11297</td>\n",
              "    </tr>\n",
              "    <tr>\n",
              "      <th>3</th>\n",
              "      <td>EL PASO SOLAR (ENEL GREEN POWER)</td>\n",
              "      <td>Solar</td>\n",
              "      <td>67.00</td>\n",
              "      <td>CESAR</td>\n",
              "      <td>EL PASO</td>\n",
              "      <td>20</td>\n",
              "      <td>20250</td>\n",
              "      <td>2019-04-05T00:00:00.000</td>\n",
              "      <td>321600</td>\n",
              "      <td>55769</td>\n",
              "      <td>288100000000</td>\n",
              "      <td>466</td>\n",
              "      <td>93907</td>\n",
              "    </tr>\n",
              "    <tr>\n",
              "      <th>4</th>\n",
              "      <td>SOLAR CASTILLA ECP</td>\n",
              "      <td>Solar</td>\n",
              "      <td>20.00</td>\n",
              "      <td>META</td>\n",
              "      <td>CASTILLA LA NUEVA</td>\n",
              "      <td>50</td>\n",
              "      <td>50150</td>\n",
              "      <td>2019-10-10T00:00:00.000</td>\n",
              "      <td>96000</td>\n",
              "      <td>16647</td>\n",
              "      <td>86000000000</td>\n",
              "      <td>139</td>\n",
              "      <td>28032</td>\n",
              "    </tr>\n",
              "  </tbody>\n",
              "</table>\n",
              "</div>\n",
              "      <button class=\"colab-df-convert\" onclick=\"convertToInteractive('df-c2bc9306-a158-4319-a0ab-6361dc01965c')\"\n",
              "              title=\"Convert this dataframe to an interactive table.\"\n",
              "              style=\"display:none;\">\n",
              "        \n",
              "  <svg xmlns=\"http://www.w3.org/2000/svg\" height=\"24px\"viewBox=\"0 0 24 24\"\n",
              "       width=\"24px\">\n",
              "    <path d=\"M0 0h24v24H0V0z\" fill=\"none\"/>\n",
              "    <path d=\"M18.56 5.44l.94 2.06.94-2.06 2.06-.94-2.06-.94-.94-2.06-.94 2.06-2.06.94zm-11 1L8.5 8.5l.94-2.06 2.06-.94-2.06-.94L8.5 2.5l-.94 2.06-2.06.94zm10 10l.94 2.06.94-2.06 2.06-.94-2.06-.94-.94-2.06-.94 2.06-2.06.94z\"/><path d=\"M17.41 7.96l-1.37-1.37c-.4-.4-.92-.59-1.43-.59-.52 0-1.04.2-1.43.59L10.3 9.45l-7.72 7.72c-.78.78-.78 2.05 0 2.83L4 21.41c.39.39.9.59 1.41.59.51 0 1.02-.2 1.41-.59l7.78-7.78 2.81-2.81c.8-.78.8-2.07 0-2.86zM5.41 20L4 18.59l7.72-7.72 1.47 1.35L5.41 20z\"/>\n",
              "  </svg>\n",
              "      </button>\n",
              "      \n",
              "  <style>\n",
              "    .colab-df-container {\n",
              "      display:flex;\n",
              "      flex-wrap:wrap;\n",
              "      gap: 12px;\n",
              "    }\n",
              "\n",
              "    .colab-df-convert {\n",
              "      background-color: #E8F0FE;\n",
              "      border: none;\n",
              "      border-radius: 50%;\n",
              "      cursor: pointer;\n",
              "      display: none;\n",
              "      fill: #1967D2;\n",
              "      height: 32px;\n",
              "      padding: 0 0 0 0;\n",
              "      width: 32px;\n",
              "    }\n",
              "\n",
              "    .colab-df-convert:hover {\n",
              "      background-color: #E2EBFA;\n",
              "      box-shadow: 0px 1px 2px rgba(60, 64, 67, 0.3), 0px 1px 3px 1px rgba(60, 64, 67, 0.15);\n",
              "      fill: #174EA6;\n",
              "    }\n",
              "\n",
              "    [theme=dark] .colab-df-convert {\n",
              "      background-color: #3B4455;\n",
              "      fill: #D2E3FC;\n",
              "    }\n",
              "\n",
              "    [theme=dark] .colab-df-convert:hover {\n",
              "      background-color: #434B5C;\n",
              "      box-shadow: 0px 1px 3px 1px rgba(0, 0, 0, 0.15);\n",
              "      filter: drop-shadow(0px 1px 2px rgba(0, 0, 0, 0.3));\n",
              "      fill: #FFFFFF;\n",
              "    }\n",
              "  </style>\n",
              "\n",
              "      <script>\n",
              "        const buttonEl =\n",
              "          document.querySelector('#df-c2bc9306-a158-4319-a0ab-6361dc01965c button.colab-df-convert');\n",
              "        buttonEl.style.display =\n",
              "          google.colab.kernel.accessAllowed ? 'block' : 'none';\n",
              "\n",
              "        async function convertToInteractive(key) {\n",
              "          const element = document.querySelector('#df-c2bc9306-a158-4319-a0ab-6361dc01965c');\n",
              "          const dataTable =\n",
              "            await google.colab.kernel.invokeFunction('convertToInteractive',\n",
              "                                                     [key], {});\n",
              "          if (!dataTable) return;\n",
              "\n",
              "          const docLinkHtml = 'Like what you see? Visit the ' +\n",
              "            '<a target=\"_blank\" href=https://colab.research.google.com/notebooks/data_table.ipynb>data table notebook</a>'\n",
              "            + ' to learn more about interactive tables.';\n",
              "          element.innerHTML = '';\n",
              "          dataTable['output_type'] = 'display_data';\n",
              "          await google.colab.output.renderOutput(dataTable, element);\n",
              "          const docLink = document.createElement('div');\n",
              "          docLink.innerHTML = docLinkHtml;\n",
              "          element.appendChild(docLink);\n",
              "        }\n",
              "      </script>\n",
              "    </div>\n",
              "  </div>\n",
              "  "
            ]
          },
          "metadata": {},
          "execution_count": 873
        }
      ]
    },
    {
      "cell_type": "markdown",
      "source": [
        "\n",
        "#**Información de los datos**\n",
        "Visualizamos los datos de la data, con el método .info() donde se mostrará cada columna, filas, cantidad de datos, sí hay datos nulos y el tipo de dato de esa fila en específico\n",
        "\n"
      ],
      "metadata": {
        "id": "xMkXHYyGEIqX"
      }
    },
    {
      "cell_type": "code",
      "source": [
        "data.info()"
      ],
      "metadata": {
        "id": "zrNTmo5X3p2C",
        "colab": {
          "base_uri": "https://localhost:8080/"
        },
        "outputId": "04c9cc35-c47e-4848-efbd-dcb4d119ad86"
      },
      "execution_count": null,
      "outputs": [
        {
          "output_type": "stream",
          "name": "stdout",
          "text": [
            "<class 'pandas.core.frame.DataFrame'>\n",
            "RangeIndex: 158 entries, 0 to 157\n",
            "Data columns (total 13 columns):\n",
            " #   Column                    Non-Null Count  Dtype  \n",
            "---  ------                    --------------  -----  \n",
            " 0   Proyecto                  158 non-null    object \n",
            " 1   Tipo                      158 non-null    object \n",
            " 2   Capacidad                 158 non-null    float64\n",
            " 3   Departamento              158 non-null    object \n",
            " 4   Municipio                 158 non-null    object \n",
            " 5   Código Departamento       158 non-null    int64  \n",
            " 6   Código Municipio          158 non-null    int64  \n",
            " 7   Fecha estimada FPO        158 non-null    object \n",
            " 8   Energía [kWh/día]         158 non-null    int64  \n",
            " 9   Usuarios                  158 non-null    int64  \n",
            " 10  Inversión estimada [COP]  158 non-null    int64  \n",
            " 11  Empleos estimados         158 non-null    int64  \n",
            " 12  Emisiones CO2 [Ton/año]   158 non-null    int64  \n",
            "dtypes: float64(1), int64(7), object(5)\n",
            "memory usage: 16.2+ KB\n"
          ]
        }
      ]
    },
    {
      "cell_type": "markdown",
      "source": [
        "Se obtiene un total de 13 columnas con los siguientes tipos de datos:\n",
        "\n",
        "* Float64 - 1 columnas\n",
        "* int64 - 7 columnas\n",
        "* object - 5 columnas\n",
        "\n",
        "Teniendo un total de **158** filas.\n",
        "\n",
        "Para mayor comprención tenemos **8** columnas de tipo **numerico** y **5** de tipo texto donde nos enfocaremos especificamente en:\n",
        "\n",
        " * Energía [kWh/día]\n",
        " * Emisiones CO2 [Ton/año]\n",
        " * Departamento\n",
        " * Municipios \n",
        " * Tipo \n",
        " * Inversion estimada\n",
        "\n",
        "\n",
        " **¿Por qué enfocarnos en estas columnas?**\n",
        "\n",
        " Para tener clarida de como fueron los resultados de la mediciones realizadas nos enfocaremos en los **Departamentos** y **Municipios** en las que estas fueron realizadas asi como fueron los resultados de estas en los consumos de **energia** y **emisiones** verificando los valores de la **inversion que se estimo** como el **tipo** de la misma."
      ],
      "metadata": {
        "id": "ON5drT5_INz7"
      }
    },
    {
      "cell_type": "markdown",
      "source": [
        "# **Datos nulos**\n",
        "\n",
        "Antes de empezar podemos observar que no hay ningun dato que falte en las columnas de la tabla."
      ],
      "metadata": {
        "id": "asXydJSmMFR9"
      }
    },
    {
      "cell_type": "code",
      "source": [
        "data.isnull().sum()"
      ],
      "metadata": {
        "id": "YbzuDhgRINgb",
        "colab": {
          "base_uri": "https://localhost:8080/"
        },
        "outputId": "81ca28b1-0c26-4416-cac4-d4f4b906371c"
      },
      "execution_count": null,
      "outputs": [
        {
          "output_type": "execute_result",
          "data": {
            "text/plain": [
              "Proyecto                    0\n",
              "Tipo                        0\n",
              "Capacidad                   0\n",
              "Departamento                0\n",
              "Municipio                   0\n",
              "Código Departamento         0\n",
              "Código Municipio            0\n",
              "Fecha estimada FPO          0\n",
              "Energía [kWh/día]           0\n",
              "Usuarios                    0\n",
              "Inversión estimada [COP]    0\n",
              "Empleos estimados           0\n",
              "Emisiones CO2 [Ton/año]     0\n",
              "dtype: int64"
            ]
          },
          "metadata": {},
          "execution_count": 875
        }
      ]
    },
    {
      "cell_type": "markdown",
      "source": [
        "#**Grupo de filas**\n",
        "Usamos data.iloc, podemos visualizar un rango de filas de la data."
      ],
      "metadata": {
        "id": "ksxh-oOKMsqM"
      }
    },
    {
      "cell_type": "code",
      "source": [
        "data.iloc[5:10]"
      ],
      "metadata": {
        "colab": {
          "base_uri": "https://localhost:8080/",
          "height": 354
        },
        "id": "TMLgm3aHMy3N",
        "outputId": "6d08d9ee-b1d7-46cf-e0d8-120529d2d89d"
      },
      "execution_count": null,
      "outputs": [
        {
          "output_type": "execute_result",
          "data": {
            "text/plain": [
              "                           Proyecto   Tipo  Capacidad  \\\n",
              "5   AGPE TECNOEMPAQUES DE OCCIDENTE  Solar       0.10   \n",
              "6              RADAR FAC SAN ANDRÉS  Solar       0.01   \n",
              "7        AGPE SFV MCDONALDS SOLEDAD  Solar       0.09   \n",
              "8              CELSIA SOLAR ESPINAL  Solar       9.90   \n",
              "9  FEDERACIÓN NACIONAL DE CAFETEROS  Solar       0.08   \n",
              "\n",
              "                                        Departamento   Municipio  \\\n",
              "5                                    VALLE DEL CAUCA        CALI   \n",
              "6  ARCHIPIÉLAGO DE SAN ANDRÉS, PROVIDENCIA Y SANT...  SAN ANDRÉS   \n",
              "7                                          ATLÁNTICO     SOLEDAD   \n",
              "8                                             TOLIMA     ESPINAL   \n",
              "9                                             TOLIMA      IBAGUÉ   \n",
              "\n",
              "   Código Departamento  Código Municipio       Fecha estimada FPO  \\\n",
              "5                   76             76001  2019-12-19T00:00:00.000   \n",
              "6                   88             88001  2019-12-30T00:00:00.000   \n",
              "7                    8              8758  2020-02-27T00:00:00.000   \n",
              "8                   73             73268  2020-05-31T00:00:00.000   \n",
              "9                   73             73001  2020-09-02T00:00:00.000   \n",
              "\n",
              "   Energía [kWh/día]  Usuarios  Inversión estimada [COP]  Empleos estimados  \\\n",
              "5                480        83                 430000000                  1   \n",
              "6                 48         8                  43000000                  0   \n",
              "7                432        75                 387000000                  1   \n",
              "8              47520      8240               42570000000                 69   \n",
              "9                384        67                 344000000                  1   \n",
              "\n",
              "   Emisiones CO2 [Ton/año]  \n",
              "5                      140  \n",
              "6                       14  \n",
              "7                      126  \n",
              "8                    13876  \n",
              "9                      112  "
            ],
            "text/html": [
              "\n",
              "  <div id=\"df-57ef8a61-8208-4d28-be50-c5dbf3ec7656\">\n",
              "    <div class=\"colab-df-container\">\n",
              "      <div>\n",
              "<style scoped>\n",
              "    .dataframe tbody tr th:only-of-type {\n",
              "        vertical-align: middle;\n",
              "    }\n",
              "\n",
              "    .dataframe tbody tr th {\n",
              "        vertical-align: top;\n",
              "    }\n",
              "\n",
              "    .dataframe thead th {\n",
              "        text-align: right;\n",
              "    }\n",
              "</style>\n",
              "<table border=\"1\" class=\"dataframe\">\n",
              "  <thead>\n",
              "    <tr style=\"text-align: right;\">\n",
              "      <th></th>\n",
              "      <th>Proyecto</th>\n",
              "      <th>Tipo</th>\n",
              "      <th>Capacidad</th>\n",
              "      <th>Departamento</th>\n",
              "      <th>Municipio</th>\n",
              "      <th>Código Departamento</th>\n",
              "      <th>Código Municipio</th>\n",
              "      <th>Fecha estimada FPO</th>\n",
              "      <th>Energía [kWh/día]</th>\n",
              "      <th>Usuarios</th>\n",
              "      <th>Inversión estimada [COP]</th>\n",
              "      <th>Empleos estimados</th>\n",
              "      <th>Emisiones CO2 [Ton/año]</th>\n",
              "    </tr>\n",
              "  </thead>\n",
              "  <tbody>\n",
              "    <tr>\n",
              "      <th>5</th>\n",
              "      <td>AGPE TECNOEMPAQUES DE OCCIDENTE</td>\n",
              "      <td>Solar</td>\n",
              "      <td>0.10</td>\n",
              "      <td>VALLE DEL CAUCA</td>\n",
              "      <td>CALI</td>\n",
              "      <td>76</td>\n",
              "      <td>76001</td>\n",
              "      <td>2019-12-19T00:00:00.000</td>\n",
              "      <td>480</td>\n",
              "      <td>83</td>\n",
              "      <td>430000000</td>\n",
              "      <td>1</td>\n",
              "      <td>140</td>\n",
              "    </tr>\n",
              "    <tr>\n",
              "      <th>6</th>\n",
              "      <td>RADAR FAC SAN ANDRÉS</td>\n",
              "      <td>Solar</td>\n",
              "      <td>0.01</td>\n",
              "      <td>ARCHIPIÉLAGO DE SAN ANDRÉS, PROVIDENCIA Y SANT...</td>\n",
              "      <td>SAN ANDRÉS</td>\n",
              "      <td>88</td>\n",
              "      <td>88001</td>\n",
              "      <td>2019-12-30T00:00:00.000</td>\n",
              "      <td>48</td>\n",
              "      <td>8</td>\n",
              "      <td>43000000</td>\n",
              "      <td>0</td>\n",
              "      <td>14</td>\n",
              "    </tr>\n",
              "    <tr>\n",
              "      <th>7</th>\n",
              "      <td>AGPE SFV MCDONALDS SOLEDAD</td>\n",
              "      <td>Solar</td>\n",
              "      <td>0.09</td>\n",
              "      <td>ATLÁNTICO</td>\n",
              "      <td>SOLEDAD</td>\n",
              "      <td>8</td>\n",
              "      <td>8758</td>\n",
              "      <td>2020-02-27T00:00:00.000</td>\n",
              "      <td>432</td>\n",
              "      <td>75</td>\n",
              "      <td>387000000</td>\n",
              "      <td>1</td>\n",
              "      <td>126</td>\n",
              "    </tr>\n",
              "    <tr>\n",
              "      <th>8</th>\n",
              "      <td>CELSIA SOLAR ESPINAL</td>\n",
              "      <td>Solar</td>\n",
              "      <td>9.90</td>\n",
              "      <td>TOLIMA</td>\n",
              "      <td>ESPINAL</td>\n",
              "      <td>73</td>\n",
              "      <td>73268</td>\n",
              "      <td>2020-05-31T00:00:00.000</td>\n",
              "      <td>47520</td>\n",
              "      <td>8240</td>\n",
              "      <td>42570000000</td>\n",
              "      <td>69</td>\n",
              "      <td>13876</td>\n",
              "    </tr>\n",
              "    <tr>\n",
              "      <th>9</th>\n",
              "      <td>FEDERACIÓN NACIONAL DE CAFETEROS</td>\n",
              "      <td>Solar</td>\n",
              "      <td>0.08</td>\n",
              "      <td>TOLIMA</td>\n",
              "      <td>IBAGUÉ</td>\n",
              "      <td>73</td>\n",
              "      <td>73001</td>\n",
              "      <td>2020-09-02T00:00:00.000</td>\n",
              "      <td>384</td>\n",
              "      <td>67</td>\n",
              "      <td>344000000</td>\n",
              "      <td>1</td>\n",
              "      <td>112</td>\n",
              "    </tr>\n",
              "  </tbody>\n",
              "</table>\n",
              "</div>\n",
              "      <button class=\"colab-df-convert\" onclick=\"convertToInteractive('df-57ef8a61-8208-4d28-be50-c5dbf3ec7656')\"\n",
              "              title=\"Convert this dataframe to an interactive table.\"\n",
              "              style=\"display:none;\">\n",
              "        \n",
              "  <svg xmlns=\"http://www.w3.org/2000/svg\" height=\"24px\"viewBox=\"0 0 24 24\"\n",
              "       width=\"24px\">\n",
              "    <path d=\"M0 0h24v24H0V0z\" fill=\"none\"/>\n",
              "    <path d=\"M18.56 5.44l.94 2.06.94-2.06 2.06-.94-2.06-.94-.94-2.06-.94 2.06-2.06.94zm-11 1L8.5 8.5l.94-2.06 2.06-.94-2.06-.94L8.5 2.5l-.94 2.06-2.06.94zm10 10l.94 2.06.94-2.06 2.06-.94-2.06-.94-.94-2.06-.94 2.06-2.06.94z\"/><path d=\"M17.41 7.96l-1.37-1.37c-.4-.4-.92-.59-1.43-.59-.52 0-1.04.2-1.43.59L10.3 9.45l-7.72 7.72c-.78.78-.78 2.05 0 2.83L4 21.41c.39.39.9.59 1.41.59.51 0 1.02-.2 1.41-.59l7.78-7.78 2.81-2.81c.8-.78.8-2.07 0-2.86zM5.41 20L4 18.59l7.72-7.72 1.47 1.35L5.41 20z\"/>\n",
              "  </svg>\n",
              "      </button>\n",
              "      \n",
              "  <style>\n",
              "    .colab-df-container {\n",
              "      display:flex;\n",
              "      flex-wrap:wrap;\n",
              "      gap: 12px;\n",
              "    }\n",
              "\n",
              "    .colab-df-convert {\n",
              "      background-color: #E8F0FE;\n",
              "      border: none;\n",
              "      border-radius: 50%;\n",
              "      cursor: pointer;\n",
              "      display: none;\n",
              "      fill: #1967D2;\n",
              "      height: 32px;\n",
              "      padding: 0 0 0 0;\n",
              "      width: 32px;\n",
              "    }\n",
              "\n",
              "    .colab-df-convert:hover {\n",
              "      background-color: #E2EBFA;\n",
              "      box-shadow: 0px 1px 2px rgba(60, 64, 67, 0.3), 0px 1px 3px 1px rgba(60, 64, 67, 0.15);\n",
              "      fill: #174EA6;\n",
              "    }\n",
              "\n",
              "    [theme=dark] .colab-df-convert {\n",
              "      background-color: #3B4455;\n",
              "      fill: #D2E3FC;\n",
              "    }\n",
              "\n",
              "    [theme=dark] .colab-df-convert:hover {\n",
              "      background-color: #434B5C;\n",
              "      box-shadow: 0px 1px 3px 1px rgba(0, 0, 0, 0.15);\n",
              "      filter: drop-shadow(0px 1px 2px rgba(0, 0, 0, 0.3));\n",
              "      fill: #FFFFFF;\n",
              "    }\n",
              "  </style>\n",
              "\n",
              "      <script>\n",
              "        const buttonEl =\n",
              "          document.querySelector('#df-57ef8a61-8208-4d28-be50-c5dbf3ec7656 button.colab-df-convert');\n",
              "        buttonEl.style.display =\n",
              "          google.colab.kernel.accessAllowed ? 'block' : 'none';\n",
              "\n",
              "        async function convertToInteractive(key) {\n",
              "          const element = document.querySelector('#df-57ef8a61-8208-4d28-be50-c5dbf3ec7656');\n",
              "          const dataTable =\n",
              "            await google.colab.kernel.invokeFunction('convertToInteractive',\n",
              "                                                     [key], {});\n",
              "          if (!dataTable) return;\n",
              "\n",
              "          const docLinkHtml = 'Like what you see? Visit the ' +\n",
              "            '<a target=\"_blank\" href=https://colab.research.google.com/notebooks/data_table.ipynb>data table notebook</a>'\n",
              "            + ' to learn more about interactive tables.';\n",
              "          element.innerHTML = '';\n",
              "          dataTable['output_type'] = 'display_data';\n",
              "          await google.colab.output.renderOutput(dataTable, element);\n",
              "          const docLink = document.createElement('div');\n",
              "          docLink.innerHTML = docLinkHtml;\n",
              "          element.appendChild(docLink);\n",
              "        }\n",
              "      </script>\n",
              "    </div>\n",
              "  </div>\n",
              "  "
            ]
          },
          "metadata": {},
          "execution_count": 876
        }
      ]
    },
    {
      "cell_type": "markdown",
      "source": [
        "# **Grupo de columnas**\n",
        "Para poder seleccionar un grupo de columnas que tengamos en la data, se hace usando doble corchete y colocando el nombre de la columna."
      ],
      "metadata": {
        "id": "bgX0qanJNxPv"
      }
    },
    {
      "cell_type": "code",
      "source": [
        "data[['Departamento', 'Municipio','Tipo']]"
      ],
      "metadata": {
        "colab": {
          "base_uri": "https://localhost:8080/",
          "height": 424
        },
        "id": "FBGuOMJCN06H",
        "outputId": "74997c5c-1cdb-46df-ad66-e550393a5237"
      },
      "execution_count": null,
      "outputs": [
        {
          "output_type": "execute_result",
          "data": {
            "text/plain": [
              "        Departamento          Municipio    Tipo\n",
              "0         LA GUAJIRA             URIBIA  Eólico\n",
              "1    VALLE DEL CAUCA              YUMBO   Solar\n",
              "2            BOLÍVAR         SANTA ROSA   Solar\n",
              "3              CESAR            EL PASO   Solar\n",
              "4               META  CASTILLA LA NUEVA   Solar\n",
              "..               ...                ...     ...\n",
              "153  VALLE DEL CAUCA                 \"\"   Solar\n",
              "154  VALLE DEL CAUCA                 \"\"   Solar\n",
              "155        SANTANDER    BARRANCABERMEJA   Solar\n",
              "156             META      VILLAVICENCIO   Solar\n",
              "157           ARAUCA             ARAUCA   Solar\n",
              "\n",
              "[158 rows x 3 columns]"
            ],
            "text/html": [
              "\n",
              "  <div id=\"df-de787b81-bfa5-4ee3-8d93-f1a4b5a56aa1\">\n",
              "    <div class=\"colab-df-container\">\n",
              "      <div>\n",
              "<style scoped>\n",
              "    .dataframe tbody tr th:only-of-type {\n",
              "        vertical-align: middle;\n",
              "    }\n",
              "\n",
              "    .dataframe tbody tr th {\n",
              "        vertical-align: top;\n",
              "    }\n",
              "\n",
              "    .dataframe thead th {\n",
              "        text-align: right;\n",
              "    }\n",
              "</style>\n",
              "<table border=\"1\" class=\"dataframe\">\n",
              "  <thead>\n",
              "    <tr style=\"text-align: right;\">\n",
              "      <th></th>\n",
              "      <th>Departamento</th>\n",
              "      <th>Municipio</th>\n",
              "      <th>Tipo</th>\n",
              "    </tr>\n",
              "  </thead>\n",
              "  <tbody>\n",
              "    <tr>\n",
              "      <th>0</th>\n",
              "      <td>LA GUAJIRA</td>\n",
              "      <td>URIBIA</td>\n",
              "      <td>Eólico</td>\n",
              "    </tr>\n",
              "    <tr>\n",
              "      <th>1</th>\n",
              "      <td>VALLE DEL CAUCA</td>\n",
              "      <td>YUMBO</td>\n",
              "      <td>Solar</td>\n",
              "    </tr>\n",
              "    <tr>\n",
              "      <th>2</th>\n",
              "      <td>BOLÍVAR</td>\n",
              "      <td>SANTA ROSA</td>\n",
              "      <td>Solar</td>\n",
              "    </tr>\n",
              "    <tr>\n",
              "      <th>3</th>\n",
              "      <td>CESAR</td>\n",
              "      <td>EL PASO</td>\n",
              "      <td>Solar</td>\n",
              "    </tr>\n",
              "    <tr>\n",
              "      <th>4</th>\n",
              "      <td>META</td>\n",
              "      <td>CASTILLA LA NUEVA</td>\n",
              "      <td>Solar</td>\n",
              "    </tr>\n",
              "    <tr>\n",
              "      <th>...</th>\n",
              "      <td>...</td>\n",
              "      <td>...</td>\n",
              "      <td>...</td>\n",
              "    </tr>\n",
              "    <tr>\n",
              "      <th>153</th>\n",
              "      <td>VALLE DEL CAUCA</td>\n",
              "      <td>\"\"</td>\n",
              "      <td>Solar</td>\n",
              "    </tr>\n",
              "    <tr>\n",
              "      <th>154</th>\n",
              "      <td>VALLE DEL CAUCA</td>\n",
              "      <td>\"\"</td>\n",
              "      <td>Solar</td>\n",
              "    </tr>\n",
              "    <tr>\n",
              "      <th>155</th>\n",
              "      <td>SANTANDER</td>\n",
              "      <td>BARRANCABERMEJA</td>\n",
              "      <td>Solar</td>\n",
              "    </tr>\n",
              "    <tr>\n",
              "      <th>156</th>\n",
              "      <td>META</td>\n",
              "      <td>VILLAVICENCIO</td>\n",
              "      <td>Solar</td>\n",
              "    </tr>\n",
              "    <tr>\n",
              "      <th>157</th>\n",
              "      <td>ARAUCA</td>\n",
              "      <td>ARAUCA</td>\n",
              "      <td>Solar</td>\n",
              "    </tr>\n",
              "  </tbody>\n",
              "</table>\n",
              "<p>158 rows × 3 columns</p>\n",
              "</div>\n",
              "      <button class=\"colab-df-convert\" onclick=\"convertToInteractive('df-de787b81-bfa5-4ee3-8d93-f1a4b5a56aa1')\"\n",
              "              title=\"Convert this dataframe to an interactive table.\"\n",
              "              style=\"display:none;\">\n",
              "        \n",
              "  <svg xmlns=\"http://www.w3.org/2000/svg\" height=\"24px\"viewBox=\"0 0 24 24\"\n",
              "       width=\"24px\">\n",
              "    <path d=\"M0 0h24v24H0V0z\" fill=\"none\"/>\n",
              "    <path d=\"M18.56 5.44l.94 2.06.94-2.06 2.06-.94-2.06-.94-.94-2.06-.94 2.06-2.06.94zm-11 1L8.5 8.5l.94-2.06 2.06-.94-2.06-.94L8.5 2.5l-.94 2.06-2.06.94zm10 10l.94 2.06.94-2.06 2.06-.94-2.06-.94-.94-2.06-.94 2.06-2.06.94z\"/><path d=\"M17.41 7.96l-1.37-1.37c-.4-.4-.92-.59-1.43-.59-.52 0-1.04.2-1.43.59L10.3 9.45l-7.72 7.72c-.78.78-.78 2.05 0 2.83L4 21.41c.39.39.9.59 1.41.59.51 0 1.02-.2 1.41-.59l7.78-7.78 2.81-2.81c.8-.78.8-2.07 0-2.86zM5.41 20L4 18.59l7.72-7.72 1.47 1.35L5.41 20z\"/>\n",
              "  </svg>\n",
              "      </button>\n",
              "      \n",
              "  <style>\n",
              "    .colab-df-container {\n",
              "      display:flex;\n",
              "      flex-wrap:wrap;\n",
              "      gap: 12px;\n",
              "    }\n",
              "\n",
              "    .colab-df-convert {\n",
              "      background-color: #E8F0FE;\n",
              "      border: none;\n",
              "      border-radius: 50%;\n",
              "      cursor: pointer;\n",
              "      display: none;\n",
              "      fill: #1967D2;\n",
              "      height: 32px;\n",
              "      padding: 0 0 0 0;\n",
              "      width: 32px;\n",
              "    }\n",
              "\n",
              "    .colab-df-convert:hover {\n",
              "      background-color: #E2EBFA;\n",
              "      box-shadow: 0px 1px 2px rgba(60, 64, 67, 0.3), 0px 1px 3px 1px rgba(60, 64, 67, 0.15);\n",
              "      fill: #174EA6;\n",
              "    }\n",
              "\n",
              "    [theme=dark] .colab-df-convert {\n",
              "      background-color: #3B4455;\n",
              "      fill: #D2E3FC;\n",
              "    }\n",
              "\n",
              "    [theme=dark] .colab-df-convert:hover {\n",
              "      background-color: #434B5C;\n",
              "      box-shadow: 0px 1px 3px 1px rgba(0, 0, 0, 0.15);\n",
              "      filter: drop-shadow(0px 1px 2px rgba(0, 0, 0, 0.3));\n",
              "      fill: #FFFFFF;\n",
              "    }\n",
              "  </style>\n",
              "\n",
              "      <script>\n",
              "        const buttonEl =\n",
              "          document.querySelector('#df-de787b81-bfa5-4ee3-8d93-f1a4b5a56aa1 button.colab-df-convert');\n",
              "        buttonEl.style.display =\n",
              "          google.colab.kernel.accessAllowed ? 'block' : 'none';\n",
              "\n",
              "        async function convertToInteractive(key) {\n",
              "          const element = document.querySelector('#df-de787b81-bfa5-4ee3-8d93-f1a4b5a56aa1');\n",
              "          const dataTable =\n",
              "            await google.colab.kernel.invokeFunction('convertToInteractive',\n",
              "                                                     [key], {});\n",
              "          if (!dataTable) return;\n",
              "\n",
              "          const docLinkHtml = 'Like what you see? Visit the ' +\n",
              "            '<a target=\"_blank\" href=https://colab.research.google.com/notebooks/data_table.ipynb>data table notebook</a>'\n",
              "            + ' to learn more about interactive tables.';\n",
              "          element.innerHTML = '';\n",
              "          dataTable['output_type'] = 'display_data';\n",
              "          await google.colab.output.renderOutput(dataTable, element);\n",
              "          const docLink = document.createElement('div');\n",
              "          docLink.innerHTML = docLinkHtml;\n",
              "          element.appendChild(docLink);\n",
              "        }\n",
              "      </script>\n",
              "    </div>\n",
              "  </div>\n",
              "  "
            ]
          },
          "metadata": {},
          "execution_count": 877
        }
      ]
    },
    {
      "cell_type": "markdown",
      "source": [
        "# **Consulta de tres campos cuantitativos**\n",
        "# **Muestra general**\n",
        "Acá podemos ver una vista estadística general de la data\n"
      ],
      "metadata": {
        "id": "c3IZpageOiwL"
      }
    },
    {
      "cell_type": "code",
      "source": [
        "data.describe()"
      ],
      "metadata": {
        "colab": {
          "base_uri": "https://localhost:8080/",
          "height": 300
        },
        "id": "cV-nL-ysOscp",
        "outputId": "57dacc84-af02-4df5-eae1-60b02582a93c"
      },
      "execution_count": null,
      "outputs": [
        {
          "output_type": "execute_result",
          "data": {
            "text/plain": [
              "        Capacidad  Código Departamento  Código Municipio  Energía [kWh/día]  \\\n",
              "count  158.000000           158.000000        158.000000       1.580000e+02   \n",
              "mean    37.971646            42.829114      41551.797468       2.312960e+05   \n",
              "std     78.068671            26.605922      27283.549553       5.070385e+05   \n",
              "min      0.010000             5.000000         23.000000       2.100000e+01   \n",
              "25%      2.275000            17.500000      13675.500000       1.092000e+04   \n",
              "50%      9.900000            44.000000      44847.000000       4.752000e+04   \n",
              "75%     20.750000            70.000000      68514.750000       1.123800e+05   \n",
              "max    700.000000            94.000000      94001.000000       3.360000e+06   \n",
              "\n",
              "            Usuarios  Inversión estimada [COP]  Empleos estimados  \\\n",
              "count     158.000000              1.580000e+02         158.000000   \n",
              "mean    40109.063291              1.450582e+11         221.607595   \n",
              "std     87925.819429              2.938303e+11         485.174312   \n",
              "min         4.000000              9.800000e+06           0.000000   \n",
              "25%      1893.750000              9.513750e+09          16.000000   \n",
              "50%      8240.000000              3.963250e+10          69.000000   \n",
              "75%     19487.750000              8.557000e+10         144.250000   \n",
              "max    582659.000000              2.625000e+12        4872.000000   \n",
              "\n",
              "       Emisiones CO2 [Ton/año]  \n",
              "count               158.000000  \n",
              "mean              67538.462025  \n",
              "std              148055.230112  \n",
              "min                   6.000000  \n",
              "25%                3189.000000  \n",
              "50%               13876.000000  \n",
              "75%               32814.750000  \n",
              "max              981120.000000  "
            ],
            "text/html": [
              "\n",
              "  <div id=\"df-bdaa7f68-ade8-46ce-9fbe-1bd4b00e7c11\">\n",
              "    <div class=\"colab-df-container\">\n",
              "      <div>\n",
              "<style scoped>\n",
              "    .dataframe tbody tr th:only-of-type {\n",
              "        vertical-align: middle;\n",
              "    }\n",
              "\n",
              "    .dataframe tbody tr th {\n",
              "        vertical-align: top;\n",
              "    }\n",
              "\n",
              "    .dataframe thead th {\n",
              "        text-align: right;\n",
              "    }\n",
              "</style>\n",
              "<table border=\"1\" class=\"dataframe\">\n",
              "  <thead>\n",
              "    <tr style=\"text-align: right;\">\n",
              "      <th></th>\n",
              "      <th>Capacidad</th>\n",
              "      <th>Código Departamento</th>\n",
              "      <th>Código Municipio</th>\n",
              "      <th>Energía [kWh/día]</th>\n",
              "      <th>Usuarios</th>\n",
              "      <th>Inversión estimada [COP]</th>\n",
              "      <th>Empleos estimados</th>\n",
              "      <th>Emisiones CO2 [Ton/año]</th>\n",
              "    </tr>\n",
              "  </thead>\n",
              "  <tbody>\n",
              "    <tr>\n",
              "      <th>count</th>\n",
              "      <td>158.000000</td>\n",
              "      <td>158.000000</td>\n",
              "      <td>158.000000</td>\n",
              "      <td>1.580000e+02</td>\n",
              "      <td>158.000000</td>\n",
              "      <td>1.580000e+02</td>\n",
              "      <td>158.000000</td>\n",
              "      <td>158.000000</td>\n",
              "    </tr>\n",
              "    <tr>\n",
              "      <th>mean</th>\n",
              "      <td>37.971646</td>\n",
              "      <td>42.829114</td>\n",
              "      <td>41551.797468</td>\n",
              "      <td>2.312960e+05</td>\n",
              "      <td>40109.063291</td>\n",
              "      <td>1.450582e+11</td>\n",
              "      <td>221.607595</td>\n",
              "      <td>67538.462025</td>\n",
              "    </tr>\n",
              "    <tr>\n",
              "      <th>std</th>\n",
              "      <td>78.068671</td>\n",
              "      <td>26.605922</td>\n",
              "      <td>27283.549553</td>\n",
              "      <td>5.070385e+05</td>\n",
              "      <td>87925.819429</td>\n",
              "      <td>2.938303e+11</td>\n",
              "      <td>485.174312</td>\n",
              "      <td>148055.230112</td>\n",
              "    </tr>\n",
              "    <tr>\n",
              "      <th>min</th>\n",
              "      <td>0.010000</td>\n",
              "      <td>5.000000</td>\n",
              "      <td>23.000000</td>\n",
              "      <td>2.100000e+01</td>\n",
              "      <td>4.000000</td>\n",
              "      <td>9.800000e+06</td>\n",
              "      <td>0.000000</td>\n",
              "      <td>6.000000</td>\n",
              "    </tr>\n",
              "    <tr>\n",
              "      <th>25%</th>\n",
              "      <td>2.275000</td>\n",
              "      <td>17.500000</td>\n",
              "      <td>13675.500000</td>\n",
              "      <td>1.092000e+04</td>\n",
              "      <td>1893.750000</td>\n",
              "      <td>9.513750e+09</td>\n",
              "      <td>16.000000</td>\n",
              "      <td>3189.000000</td>\n",
              "    </tr>\n",
              "    <tr>\n",
              "      <th>50%</th>\n",
              "      <td>9.900000</td>\n",
              "      <td>44.000000</td>\n",
              "      <td>44847.000000</td>\n",
              "      <td>4.752000e+04</td>\n",
              "      <td>8240.000000</td>\n",
              "      <td>3.963250e+10</td>\n",
              "      <td>69.000000</td>\n",
              "      <td>13876.000000</td>\n",
              "    </tr>\n",
              "    <tr>\n",
              "      <th>75%</th>\n",
              "      <td>20.750000</td>\n",
              "      <td>70.000000</td>\n",
              "      <td>68514.750000</td>\n",
              "      <td>1.123800e+05</td>\n",
              "      <td>19487.750000</td>\n",
              "      <td>8.557000e+10</td>\n",
              "      <td>144.250000</td>\n",
              "      <td>32814.750000</td>\n",
              "    </tr>\n",
              "    <tr>\n",
              "      <th>max</th>\n",
              "      <td>700.000000</td>\n",
              "      <td>94.000000</td>\n",
              "      <td>94001.000000</td>\n",
              "      <td>3.360000e+06</td>\n",
              "      <td>582659.000000</td>\n",
              "      <td>2.625000e+12</td>\n",
              "      <td>4872.000000</td>\n",
              "      <td>981120.000000</td>\n",
              "    </tr>\n",
              "  </tbody>\n",
              "</table>\n",
              "</div>\n",
              "      <button class=\"colab-df-convert\" onclick=\"convertToInteractive('df-bdaa7f68-ade8-46ce-9fbe-1bd4b00e7c11')\"\n",
              "              title=\"Convert this dataframe to an interactive table.\"\n",
              "              style=\"display:none;\">\n",
              "        \n",
              "  <svg xmlns=\"http://www.w3.org/2000/svg\" height=\"24px\"viewBox=\"0 0 24 24\"\n",
              "       width=\"24px\">\n",
              "    <path d=\"M0 0h24v24H0V0z\" fill=\"none\"/>\n",
              "    <path d=\"M18.56 5.44l.94 2.06.94-2.06 2.06-.94-2.06-.94-.94-2.06-.94 2.06-2.06.94zm-11 1L8.5 8.5l.94-2.06 2.06-.94-2.06-.94L8.5 2.5l-.94 2.06-2.06.94zm10 10l.94 2.06.94-2.06 2.06-.94-2.06-.94-.94-2.06-.94 2.06-2.06.94z\"/><path d=\"M17.41 7.96l-1.37-1.37c-.4-.4-.92-.59-1.43-.59-.52 0-1.04.2-1.43.59L10.3 9.45l-7.72 7.72c-.78.78-.78 2.05 0 2.83L4 21.41c.39.39.9.59 1.41.59.51 0 1.02-.2 1.41-.59l7.78-7.78 2.81-2.81c.8-.78.8-2.07 0-2.86zM5.41 20L4 18.59l7.72-7.72 1.47 1.35L5.41 20z\"/>\n",
              "  </svg>\n",
              "      </button>\n",
              "      \n",
              "  <style>\n",
              "    .colab-df-container {\n",
              "      display:flex;\n",
              "      flex-wrap:wrap;\n",
              "      gap: 12px;\n",
              "    }\n",
              "\n",
              "    .colab-df-convert {\n",
              "      background-color: #E8F0FE;\n",
              "      border: none;\n",
              "      border-radius: 50%;\n",
              "      cursor: pointer;\n",
              "      display: none;\n",
              "      fill: #1967D2;\n",
              "      height: 32px;\n",
              "      padding: 0 0 0 0;\n",
              "      width: 32px;\n",
              "    }\n",
              "\n",
              "    .colab-df-convert:hover {\n",
              "      background-color: #E2EBFA;\n",
              "      box-shadow: 0px 1px 2px rgba(60, 64, 67, 0.3), 0px 1px 3px 1px rgba(60, 64, 67, 0.15);\n",
              "      fill: #174EA6;\n",
              "    }\n",
              "\n",
              "    [theme=dark] .colab-df-convert {\n",
              "      background-color: #3B4455;\n",
              "      fill: #D2E3FC;\n",
              "    }\n",
              "\n",
              "    [theme=dark] .colab-df-convert:hover {\n",
              "      background-color: #434B5C;\n",
              "      box-shadow: 0px 1px 3px 1px rgba(0, 0, 0, 0.15);\n",
              "      filter: drop-shadow(0px 1px 2px rgba(0, 0, 0, 0.3));\n",
              "      fill: #FFFFFF;\n",
              "    }\n",
              "  </style>\n",
              "\n",
              "      <script>\n",
              "        const buttonEl =\n",
              "          document.querySelector('#df-bdaa7f68-ade8-46ce-9fbe-1bd4b00e7c11 button.colab-df-convert');\n",
              "        buttonEl.style.display =\n",
              "          google.colab.kernel.accessAllowed ? 'block' : 'none';\n",
              "\n",
              "        async function convertToInteractive(key) {\n",
              "          const element = document.querySelector('#df-bdaa7f68-ade8-46ce-9fbe-1bd4b00e7c11');\n",
              "          const dataTable =\n",
              "            await google.colab.kernel.invokeFunction('convertToInteractive',\n",
              "                                                     [key], {});\n",
              "          if (!dataTable) return;\n",
              "\n",
              "          const docLinkHtml = 'Like what you see? Visit the ' +\n",
              "            '<a target=\"_blank\" href=https://colab.research.google.com/notebooks/data_table.ipynb>data table notebook</a>'\n",
              "            + ' to learn more about interactive tables.';\n",
              "          element.innerHTML = '';\n",
              "          dataTable['output_type'] = 'display_data';\n",
              "          await google.colab.output.renderOutput(dataTable, element);\n",
              "          const docLink = document.createElement('div');\n",
              "          docLink.innerHTML = docLinkHtml;\n",
              "          element.appendChild(docLink);\n",
              "        }\n",
              "      </script>\n",
              "    </div>\n",
              "  </div>\n",
              "  "
            ]
          },
          "metadata": {},
          "execution_count": 878
        }
      ]
    },
    {
      "cell_type": "markdown",
      "source": [
        "# **Media**\n",
        "\n",
        "Al calcular la media de la columna **Emisiones** el resultado que obtenemos el el siguiente."
      ],
      "metadata": {
        "id": "i4gEjv21Rim-"
      }
    },
    {
      "cell_type": "code",
      "source": [
        "media = data['Emisiones CO2 [Ton/año]'].mean()"
      ],
      "metadata": {
        "id": "NLkoVkZiO6OI"
      },
      "execution_count": null,
      "outputs": []
    },
    {
      "cell_type": "code",
      "source": [
        "media"
      ],
      "metadata": {
        "colab": {
          "base_uri": "https://localhost:8080/"
        },
        "id": "ITIROq4laYKz",
        "outputId": "f292bd4c-954f-451c-9317-c26f9adff5af"
      },
      "execution_count": null,
      "outputs": [
        {
          "output_type": "execute_result",
          "data": {
            "text/plain": [
              "67538.46202531646"
            ]
          },
          "metadata": {},
          "execution_count": 880
        }
      ]
    },
    {
      "cell_type": "markdown",
      "source": [
        "Podemos decir que el promedio de los datos que están en la columna de **emisiones** es igual a **67538.46202531646**"
      ],
      "metadata": {
        "id": "OMVZCqbRR5G1"
      }
    },
    {
      "cell_type": "markdown",
      "source": [
        "#**Mediana**\n",
        "\n",
        "Posteriormente procedemos a realizar la mediana para la misma columna la cual tiene por nombre **emisiones**"
      ],
      "metadata": {
        "id": "Vmm9dIEiSMKx"
      }
    },
    {
      "cell_type": "code",
      "source": [
        "mediana = data['Emisiones CO2 [Ton/año]'].median()"
      ],
      "metadata": {
        "id": "fgHlKVKiSL9K"
      },
      "execution_count": null,
      "outputs": []
    },
    {
      "cell_type": "code",
      "source": [
        "mediana"
      ],
      "metadata": {
        "colab": {
          "base_uri": "https://localhost:8080/"
        },
        "id": "AItR4EmtaeqE",
        "outputId": "a3d0b3f2-23ef-4b93-8ab4-0e9fc81b4f8e"
      },
      "execution_count": null,
      "outputs": [
        {
          "output_type": "execute_result",
          "data": {
            "text/plain": [
              "13876.0"
            ]
          },
          "metadata": {},
          "execution_count": 882
        }
      ]
    },
    {
      "cell_type": "markdown",
      "source": [
        "Llegando a la conclución de que el la cantidad repetida de **emisiones** es equivalente a **13876.0**"
      ],
      "metadata": {
        "id": "__rAwOt6SgMh"
      }
    },
    {
      "cell_type": "markdown",
      "source": [
        "# **Maximo**\n",
        "Luego podemos obtener los valores máximos de la columna Emisiones CO2 [Ton/año], Con el método .max() "
      ],
      "metadata": {
        "id": "ith8sfaPTRH_"
      }
    },
    {
      "cell_type": "code",
      "source": [
        "maximo = data['Emisiones CO2 [Ton/año]'].max()"
      ],
      "metadata": {
        "id": "fp-0KQwRTmCI"
      },
      "execution_count": null,
      "outputs": []
    },
    {
      "cell_type": "code",
      "source": [
        "maximo"
      ],
      "metadata": {
        "colab": {
          "base_uri": "https://localhost:8080/"
        },
        "id": "7GeQgEsjakSV",
        "outputId": "14a8c811-974c-4ce1-f902-35f1b938bb4c"
      },
      "execution_count": null,
      "outputs": [
        {
          "output_type": "execute_result",
          "data": {
            "text/plain": [
              "981120"
            ]
          },
          "metadata": {},
          "execution_count": 884
        }
      ]
    },
    {
      "cell_type": "markdown",
      "source": [
        "Podemos observar que el maximo de la columna Emisiones CO2 [Ton/año] es de **981120**\n"
      ],
      "metadata": {
        "id": "H2ESH270Ts0s"
      }
    },
    {
      "cell_type": "markdown",
      "source": [
        "# **Mínimo**\n",
        "Para que podemos obtener los valores mínimos de la columna Emisiones CO2 [Ton/año], lo hacemos con el método .max() "
      ],
      "metadata": {
        "id": "6kNJvv1GT6e_"
      }
    },
    {
      "cell_type": "code",
      "source": [
        "minimo = data['Emisiones CO2 [Ton/año]'].min()"
      ],
      "metadata": {
        "id": "J_B7YP0wUiR2"
      },
      "execution_count": null,
      "outputs": []
    },
    {
      "cell_type": "code",
      "source": [
        "minimo"
      ],
      "metadata": {
        "colab": {
          "base_uri": "https://localhost:8080/"
        },
        "id": "LOTu5NbbapU9",
        "outputId": "47a620c9-c0e1-4c40-fcd8-1ce66c3e5727"
      },
      "execution_count": null,
      "outputs": [
        {
          "output_type": "execute_result",
          "data": {
            "text/plain": [
              "6"
            ]
          },
          "metadata": {},
          "execution_count": 886
        }
      ]
    },
    {
      "cell_type": "markdown",
      "source": [
        "Vemos que el valor minimo de la columna Emisiones CO2 [Ton/año] es de 6"
      ],
      "metadata": {
        "id": "45WnvNSnU8oa"
      }
    },
    {
      "cell_type": "markdown",
      "source": [
        "#**Moda**\n",
        "Con la moda, podemos sacar el valor que se repite con mayor frecuencia en las columnas"
      ],
      "metadata": {
        "id": "kpYyjQN6VU6T"
      }
    },
    {
      "cell_type": "code",
      "source": [
        "moda = data['Emisiones CO2 [Ton/año]'].mode()"
      ],
      "metadata": {
        "id": "IVMzt8mAVaaH"
      },
      "execution_count": null,
      "outputs": []
    },
    {
      "cell_type": "code",
      "source": [
        "moda"
      ],
      "metadata": {
        "colab": {
          "base_uri": "https://localhost:8080/"
        },
        "id": "iGmpzoCPa2pN",
        "outputId": "e9efb0fd-b866-4ae9-a17c-0206f944d95d"
      },
      "execution_count": null,
      "outputs": [
        {
          "output_type": "execute_result",
          "data": {
            "text/plain": [
              "0    13876\n",
              "Name: Emisiones CO2 [Ton/año], dtype: int64"
            ]
          },
          "metadata": {},
          "execution_count": 888
        }
      ]
    },
    {
      "cell_type": "markdown",
      "source": [
        "Observamos que el valor de moda es decir el valor que mas se repite en la columna Emisiones CO2 [Ton/año] es de 0    13876\n",
        "Name: Emisiones CO2 [Ton/año], dtype: int64"
      ],
      "metadata": {
        "id": "ikoBjlzGVw-O"
      }
    },
    {
      "cell_type": "markdown",
      "source": [
        "# **Copia del Data Frame**"
      ],
      "metadata": {
        "id": "HIv6EIt_Z407"
      }
    },
    {
      "cell_type": "markdown",
      "source": [
        "Esta copia va a ser almacenada en una variable que tiene por nombre data_copia para efectuar una eliminación de datos de la misma."
      ],
      "metadata": {
        "id": "-gcv2YheZqdE"
      }
    },
    {
      "cell_type": "code",
      "source": [
        "data_copia = data.copy()"
      ],
      "metadata": {
        "id": "VgxVeS8YZ_ol"
      },
      "execution_count": null,
      "outputs": []
    },
    {
      "cell_type": "markdown",
      "source": [
        "# **Eliminación de Datos**."
      ],
      "metadata": {
        "id": "pCB4eKg1bcqH"
      }
    },
    {
      "cell_type": "code",
      "source": [
        "#Determina la el porcentaje de datos que va a eliminar de la columna\n",
        "tamano_muestra = int(len(data_copia['Emisiones CO2 [Ton/año]']) * 0.1)\n",
        "\n",
        "#Los datos seran borrados aleatoremente y almacenados en la valirable data_cop\n",
        "data_cop = data_copia['Emisiones CO2 [Ton/año]'].drop(data_copia.sample(n=tamano_muestra).index)"
      ],
      "metadata": {
        "id": "X3erkyR2bhTY"
      },
      "execution_count": null,
      "outputs": []
    },
    {
      "cell_type": "markdown",
      "source": [],
      "metadata": {
        "id": "8dY1oBE1rBFm"
      }
    },
    {
      "cell_type": "code",
      "source": [
        "print (tamano_muestra)"
      ],
      "metadata": {
        "colab": {
          "base_uri": "https://localhost:8080/"
        },
        "id": "KnC_CU3uheZz",
        "outputId": "9c0b9873-1384-4478-b57c-c2907f326733"
      },
      "execution_count": null,
      "outputs": [
        {
          "output_type": "stream",
          "name": "stdout",
          "text": [
            "15\n"
          ]
        }
      ]
    },
    {
      "cell_type": "code",
      "source": [
        "data_cop"
      ],
      "metadata": {
        "colab": {
          "base_uri": "https://localhost:8080/"
        },
        "id": "wHm7D8fVgifU",
        "outputId": "c2018629-c238-40b1-a20d-d2eebd45ad8e"
      },
      "execution_count": null,
      "outputs": [
        {
          "output_type": "execute_result",
          "data": {
            "text/plain": [
              "0      51635\n",
              "1      13736\n",
              "2      11297\n",
              "3      93907\n",
              "4      28032\n",
              "       ...  \n",
              "153     8326\n",
              "154     5550\n",
              "155    29434\n",
              "156     2663\n",
              "157      154\n",
              "Name: Emisiones CO2 [Ton/año], Length: 143, dtype: int64"
            ]
          },
          "metadata": {},
          "execution_count": 947
        }
      ]
    },
    {
      "cell_type": "code",
      "source": [
        "len(data_cop)"
      ],
      "metadata": {
        "colab": {
          "base_uri": "https://localhost:8080/"
        },
        "id": "11wJoSldqLnH",
        "outputId": "e76184c1-2cee-4644-d008-602992607e99"
      },
      "execution_count": null,
      "outputs": [
        {
          "output_type": "execute_result",
          "data": {
            "text/plain": [
              "143"
            ]
          },
          "metadata": {},
          "execution_count": 893
        }
      ]
    },
    {
      "cell_type": "markdown",
      "source": [
        "# **Agregar datos**\n"
      ],
      "metadata": {
        "id": "dyO7tf9NrDOP"
      }
    },
    {
      "cell_type": "code",
      "source": [
        "moda"
      ],
      "metadata": {
        "colab": {
          "base_uri": "https://localhost:8080/"
        },
        "id": "a2RUt3Ms0J3T",
        "outputId": "b8843227-7416-47f8-a8d2-bde820237e64"
      },
      "execution_count": null,
      "outputs": [
        {
          "output_type": "execute_result",
          "data": {
            "text/plain": [
              "0    13876\n",
              "Name: Emisiones CO2 [Ton/año], dtype: int64"
            ]
          },
          "metadata": {},
          "execution_count": 945
        }
      ]
    },
    {
      "cell_type": "code",
      "source": [
        "# Reemplazar los campos vacíos con 0\n",
        "data_copi['Emisiones CO2 [Ton/año]'] = data_cop.replace('', moda[0])"
      ],
      "metadata": {
        "id": "xv_96x8grFaf"
      },
      "execution_count": null,
      "outputs": []
    },
    {
      "cell_type": "code",
      "source": [
        "data_copi['Emisiones CO2 [Ton/año]']"
      ],
      "metadata": {
        "colab": {
          "base_uri": "https://localhost:8080/"
        },
        "id": "ewXlBj13v4MK",
        "outputId": "cd2b1936-9632-4dca-c092-1cceed63b55b"
      },
      "execution_count": null,
      "outputs": [
        {
          "output_type": "execute_result",
          "data": {
            "text/plain": [
              "0      51635.0\n",
              "1      13736.0\n",
              "2      11297.0\n",
              "3      93907.0\n",
              "4      28032.0\n",
              "        ...   \n",
              "153     8326.0\n",
              "154     5550.0\n",
              "155    29434.0\n",
              "156     2663.0\n",
              "157      154.0\n",
              "Name: Emisiones CO2 [Ton/año], Length: 158, dtype: float64"
            ]
          },
          "metadata": {},
          "execution_count": 946
        }
      ]
    },
    {
      "cell_type": "code",
      "source": [
        "data_copi['Emisiones CO2 [Ton/año]'].unique()"
      ],
      "metadata": {
        "colab": {
          "base_uri": "https://localhost:8080/"
        },
        "id": "xh4PRh4d0fsk",
        "outputId": "9d4332c0-36d3-47ef-93c6-387315894d59"
      },
      "execution_count": null,
      "outputs": [
        {
          "output_type": "execute_result",
          "data": {
            "text/plain": [
              "array([5.16350e+04, 1.37360e+04, 1.12970e+04, 9.39070e+04, 2.80320e+04,\n",
              "       1.40000e+02, 1.40000e+01, 1.26000e+02, 1.38760e+04, 1.12000e+02,\n",
              "               nan, 2.80000e+02, 2.78920e+04, 4.20500e+03, 2.10200e+03,\n",
              "       8.41000e+02, 7.71000e+02, 3.22000e+02, 2.94000e+02, 5.60000e+01,\n",
              "       4.20000e+01, 1.96200e+03, 2.43900e+03, 3.15400e+03, 1.21900e+03,\n",
              "       2.38000e+02, 3.08400e+03, 1.40200e+03, 9.16600e+03, 6.36300e+03,\n",
              "       7.09200e+03, 8.40000e+01, 2.10000e+02, 1.37780e+04, 1.85000e+03,\n",
              "       3.35260e+04, 1.17450e+04, 1.44080e+04, 3.35000e+03, 1.76600e+03,\n",
              "       1.69590e+04, 8.54980e+04, 2.59300e+03, 2.52300e+03, 4.20000e+02,\n",
              "       1.40440e+04, 1.58400e+03, 3.29400e+03, 2.38272e+05, 6.00000e+00,\n",
              "       2.50890e+04, 1.26144e+05, 1.38758e+05, 2.70510e+04, 8.55000e+03,\n",
              "       1.40020e+05, 1.20540e+04, 3.64420e+04, 8.41000e+03, 1.96220e+04,\n",
              "       7.56864e+05, 5.94278e+05, 8.32600e+03, 9.71300e+03, 1.95240e+04,\n",
              "       3.06810e+04, 8.36800e+03, 2.51030e+04, 2.67570e+04, 1.21939e+05,\n",
              "       8.36760e+04, 1.68192e+05, 2.80320e+05, 5.17200e+03, 5.91500e+03,\n",
              "       5.60600e+03, 1.31800e+03, 4.90600e+03, 5.81700e+03, 8.55000e+02,\n",
              "       7.70900e+03, 5.46708e+05, 6.30720e+04, 4.94204e+05, 2.10240e+05,\n",
              "       1.12128e+05, 1.40160e+05, 9.81120e+05, 7.00800e+04, 1.16333e+05,\n",
              "       2.24256e+05, 2.77096e+05, 2.52288e+05, 7.00800e+05, 1.39459e+05,\n",
              "       4.90560e+04, 1.86410e+04, 5.55000e+03, 2.94340e+04, 2.66300e+03,\n",
              "       1.54000e+02])"
            ]
          },
          "metadata": {},
          "execution_count": 950
        }
      ]
    },
    {
      "cell_type": "markdown",
      "source": [
        "# **Metodo Unique**\n",
        "\n",
        "El siguiente metodo lo vamos a utilizar para identificar cuales son los valores que estan registrados en las columnas **Departamento**, **Municipio** y **Tipo** de la tabla que estamos trabajando."
      ],
      "metadata": {
        "id": "qJyM_5dyMYLv"
      }
    },
    {
      "cell_type": "code",
      "source": [
        "data['Departamento'].unique()"
      ],
      "metadata": {
        "colab": {
          "base_uri": "https://localhost:8080/"
        },
        "id": "1VXsG4K5uisx",
        "outputId": "793775da-315f-48df-a913-8acc32f57cfc"
      },
      "execution_count": null,
      "outputs": [
        {
          "output_type": "execute_result",
          "data": {
            "text/plain": [
              "array(['LA GUAJIRA', 'VALLE DEL CAUCA', 'BOLÍVAR', 'CESAR', 'META',\n",
              "       'ARCHIPIÉLAGO DE SAN ANDRÉS, PROVIDENCIA Y SANTA CATALINA',\n",
              "       'ATLÁNTICO', 'TOLIMA', 'ANTIOQUIA', 'CHOCÓ', 'RISARALDA',\n",
              "       'CÓRDOBA', 'GUAINÍA', 'SANTANDER', 'CALDAS', 'HUILA', 'ARAUCA',\n",
              "       'BOYACÁ', 'BOGOTÁ D.C.', 'NORTE DE SANTANDER', 'CASANARE', 'SUCRE',\n",
              "       'CAUCA', 'QUINDÍO', 'MAGDALENA', 'CUNDINAMARCA'], dtype=object)"
            ]
          },
          "metadata": {},
          "execution_count": 895
        }
      ]
    },
    {
      "cell_type": "markdown",
      "source": [
        "Podemos ver que en la columna departamento nos muestra los nombre de los departamentos donde fue aplicada esta FNCER, podemos observar por ejemplos nombres como La Guajira, Boyacá, Magdalena etc."
      ],
      "metadata": {
        "id": "8iqcBQxcMs3C"
      }
    },
    {
      "cell_type": "code",
      "source": [
        "data['Municipio'].unique()"
      ],
      "metadata": {
        "colab": {
          "base_uri": "https://localhost:8080/"
        },
        "id": "gTGgPfQPu5HT",
        "outputId": "2c88fa76-7f95-42c5-9f1d-63c5661203e5"
      },
      "execution_count": null,
      "outputs": [
        {
          "output_type": "execute_result",
          "data": {
            "text/plain": [
              "array(['URIBIA', 'YUMBO', 'SANTA ROSA', 'EL PASO', 'CASTILLA LA NUEVA',\n",
              "       'CALI', 'SAN ANDRÉS', 'SOLEDAD', 'ESPINAL', 'IBAGUÉ', 'MEDELLÍN',\n",
              "       'UNGUÍA', 'PUERTO GAITÁN', 'CARTAGENA DE INDIAS', 'PEREIRA',\n",
              "       'PLANETA RICA', 'CANDELARIA', 'RIONEGRO', 'INÍRIDA',\n",
              "       'BARRANCABERMEJA', 'MANIZALES', 'NEIVA', 'ARAUCA', 'MONTERÍA',\n",
              "       'TUNJA', 'BOGOTÁ D.C.', 'SAN JOSÉ DE CÚCUTA', 'YOPAL',\n",
              "       'BARRANQUILLA', 'ZARZAL', 'SAN BENITO ABAD', 'GALAPA', 'POPAYÁN',\n",
              "       'ARMENIA', 'VILLAVICENCIO', 'LA DORADA', 'VILLANUEVA', 'ARMERO',\n",
              "       'SAN SEBASTIÁN DE MARIQUITA', 'CHINÚ', 'SAN LUIS DE SINCÉ',\n",
              "       'CARTAGO', 'ZONA BANANERA', 'BARANOA', 'POLONUEVO', 'ARJONA',\n",
              "       'CIÉNAGA', 'YAGUARÁ', 'CANTAGALLO', 'MAICAO', 'MELGAR',\n",
              "       'ANDALUCÍA', 'MALAMBO', 'MANATÍ', 'SAN JOSÉ DE TOLUVIEJO',\n",
              "       'FLANDES', 'PUERTO TEJADA', 'LOS SANTOS', 'GUADUAS', 'SABANALARGA',\n",
              "       'GIRARDOTA', 'SUESCA', 'SOPÓ', 'MADRID', 'SOACHA', 'SESQUILÉ',\n",
              "       'GINEBRA', 'PIEDECUESTA', 'AGUACHICA', 'LA GLORIA', 'LA ESPERANZA',\n",
              "       'CHIRIGUANÁ', 'CIMITARRA', '\"\"', 'SANTA CATALINA', 'PUERTO NARE',\n",
              "       'ALVARADO', 'FUNDACIÓN', 'TULUÁ'], dtype=object)"
            ]
          },
          "metadata": {},
          "execution_count": 896
        }
      ]
    },
    {
      "cell_type": "markdown",
      "source": [
        "Podemos observar que al igual que en la columna **Departamento** al realizar el metodo unique en la columna **Municipio** esta nos muestra los resultados de los nombres de estos como por ejemplo: **URIBIA**, **MANATÍ**, **SOLEDAD** entre otros.\n"
      ],
      "metadata": {
        "id": "sg5Y6RWHP5sz"
      }
    },
    {
      "cell_type": "code",
      "source": [
        "data.replace({'Municipio': {'\"\"':'SANTA LUCIA'}}, inplace= True)"
      ],
      "metadata": {
        "id": "Ul3NWsdIba0u"
      },
      "execution_count": null,
      "outputs": []
    },
    {
      "cell_type": "markdown",
      "source": [
        "Con el metodo replace() lo que hacemos es cambiar datos que estan incorrectos, en este caso estamos cambiando las comillas que estan en la columna **Municipio** por el nombre de **Santa Lucia**."
      ],
      "metadata": {
        "id": "3xzVIgESOZHt"
      }
    },
    {
      "cell_type": "code",
      "source": [
        "data['Municipio'].unique()"
      ],
      "metadata": {
        "colab": {
          "base_uri": "https://localhost:8080/"
        },
        "id": "W84ajdR7Y6ws",
        "outputId": "5972e5d2-107e-4153-f731-aecc3098dfd6"
      },
      "execution_count": null,
      "outputs": [
        {
          "output_type": "execute_result",
          "data": {
            "text/plain": [
              "array(['URIBIA', 'YUMBO', 'SANTA ROSA', 'EL PASO', 'CASTILLA LA NUEVA',\n",
              "       'CALI', 'SAN ANDRÉS', 'SOLEDAD', 'ESPINAL', 'IBAGUÉ', 'MEDELLÍN',\n",
              "       'UNGUÍA', 'PUERTO GAITÁN', 'CARTAGENA DE INDIAS', 'PEREIRA',\n",
              "       'PLANETA RICA', 'CANDELARIA', 'RIONEGRO', 'INÍRIDA',\n",
              "       'BARRANCABERMEJA', 'MANIZALES', 'NEIVA', 'ARAUCA', 'MONTERÍA',\n",
              "       'TUNJA', 'BOGOTÁ D.C.', 'SAN JOSÉ DE CÚCUTA', 'YOPAL',\n",
              "       'BARRANQUILLA', 'ZARZAL', 'SAN BENITO ABAD', 'GALAPA', 'POPAYÁN',\n",
              "       'ARMENIA', 'VILLAVICENCIO', 'LA DORADA', 'VILLANUEVA', 'ARMERO',\n",
              "       'SAN SEBASTIÁN DE MARIQUITA', 'CHINÚ', 'SAN LUIS DE SINCÉ',\n",
              "       'CARTAGO', 'ZONA BANANERA', 'BARANOA', 'POLONUEVO', 'ARJONA',\n",
              "       'CIÉNAGA', 'YAGUARÁ', 'CANTAGALLO', 'MAICAO', 'MELGAR',\n",
              "       'ANDALUCÍA', 'MALAMBO', 'MANATÍ', 'SAN JOSÉ DE TOLUVIEJO',\n",
              "       'FLANDES', 'PUERTO TEJADA', 'LOS SANTOS', 'GUADUAS', 'SABANALARGA',\n",
              "       'GIRARDOTA', 'SUESCA', 'SOPÓ', 'MADRID', 'SOACHA', 'SESQUILÉ',\n",
              "       'GINEBRA', 'PIEDECUESTA', 'AGUACHICA', 'LA GLORIA', 'LA ESPERANZA',\n",
              "       'CHIRIGUANÁ', 'CIMITARRA', 'SANTA LUCIA', 'SANTA CATALINA',\n",
              "       'PUERTO NARE', 'ALVARADO', 'FUNDACIÓN', 'TULUÁ'], dtype=object)"
            ]
          },
          "metadata": {},
          "execution_count": 898
        }
      ]
    },
    {
      "cell_type": "markdown",
      "source": [
        "Una vez replazado los valores podernos observa que se ha efectuado el cambio pasando de tener unas comillas a salir el nombre de **SANTA LUCIA**."
      ],
      "metadata": {
        "id": "T-yGcQJoZZrt"
      }
    },
    {
      "cell_type": "code",
      "source": [
        "data"
      ],
      "metadata": {
        "colab": {
          "base_uri": "https://localhost:8080/",
          "height": 659
        },
        "id": "LHgibk6xZAHV",
        "outputId": "49f6516a-fdd8-4847-b95d-e9e83eab0083"
      },
      "execution_count": null,
      "outputs": [
        {
          "output_type": "execute_result",
          "data": {
            "text/plain": [
              "                             Proyecto    Tipo  Capacidad     Departamento  \\\n",
              "0                           JEPIRACHI  Eólico      18.42       LA GUAJIRA   \n",
              "1            AUTOG CELSIA SOLAR YUMBO   Solar       9.80  VALLE DEL CAUCA   \n",
              "2                CELSIA SOLAR BOLIVAR   Solar       8.06          BOLÍVAR   \n",
              "3    EL PASO SOLAR (ENEL GREEN POWER)   Solar      67.00            CESAR   \n",
              "4                  SOLAR CASTILLA ECP   Solar      20.00             META   \n",
              "..                                ...     ...        ...              ...   \n",
              "153                    BUGA 1 PARTE 2   Solar       5.94  VALLE DEL CAUCA   \n",
              "154                    BUGA 1 PARTE 1   Solar       3.96  VALLE DEL CAUCA   \n",
              "155                     REFINERÍA GRB   Solar      21.00        SANTANDER   \n",
              "156       EMSA GD Y AG (34 Proyectos)   Solar       1.90             META   \n",
              "157      ENELAR GD Y AG (4 Proyectos)   Solar       0.11           ARAUCA   \n",
              "\n",
              "             Municipio  Código Departamento  Código Municipio  \\\n",
              "0               URIBIA                   44             44847   \n",
              "1                YUMBO                   76             76892   \n",
              "2           SANTA ROSA                   13             13683   \n",
              "3              EL PASO                   20             20250   \n",
              "4    CASTILLA LA NUEVA                   50             50150   \n",
              "..                 ...                  ...               ...   \n",
              "153        SANTA LUCIA                   76                76   \n",
              "154        SANTA LUCIA                   76                76   \n",
              "155    BARRANCABERMEJA                   68             68081   \n",
              "156      VILLAVICENCIO                   50             50001   \n",
              "157             ARAUCA                   81             81001   \n",
              "\n",
              "          Fecha estimada FPO  Energía [kWh/día]  Usuarios  \\\n",
              "0    2004-04-27T00:00:00.000             176832     30665   \n",
              "1    2017-03-09T00:00:00.000              47040      8157   \n",
              "2    2019-02-01T00:00:00.000              38688      6709   \n",
              "3    2019-04-05T00:00:00.000             321600     55769   \n",
              "4    2019-10-10T00:00:00.000              96000     16647   \n",
              "..                       ...                ...       ...   \n",
              "153  2022-12-31T00:00:00.000              28512      4944   \n",
              "154  2022-07-31T00:00:00.000              19008      3296   \n",
              "155  2023-12-31T00:00:00.000             100800     17480   \n",
              "156  2022-05-31T00:00:00.000               9120      1582   \n",
              "157  2022-05-31T00:00:00.000                528        92   \n",
              "\n",
              "     Inversión estimada [COP]  Empleos estimados  Emisiones CO2 [Ton/año]  \n",
              "0                 79206000000                 51                    51635  \n",
              "1                 42140000000                 68                    13736  \n",
              "2                 34658000000                 56                    11297  \n",
              "3                288100000000                466                    93907  \n",
              "4                 86000000000                139                    28032  \n",
              "..                        ...                ...                      ...  \n",
              "153               22275000000                 41                     8326  \n",
              "154               14850000000                 28                     5550  \n",
              "155               78750000000                146                    29434  \n",
              "156                8170000000                 13                     2663  \n",
              "157                 473000000                  1                      154  \n",
              "\n",
              "[158 rows x 13 columns]"
            ],
            "text/html": [
              "\n",
              "  <div id=\"df-7d226c6c-b400-411d-826f-d35de1498c71\">\n",
              "    <div class=\"colab-df-container\">\n",
              "      <div>\n",
              "<style scoped>\n",
              "    .dataframe tbody tr th:only-of-type {\n",
              "        vertical-align: middle;\n",
              "    }\n",
              "\n",
              "    .dataframe tbody tr th {\n",
              "        vertical-align: top;\n",
              "    }\n",
              "\n",
              "    .dataframe thead th {\n",
              "        text-align: right;\n",
              "    }\n",
              "</style>\n",
              "<table border=\"1\" class=\"dataframe\">\n",
              "  <thead>\n",
              "    <tr style=\"text-align: right;\">\n",
              "      <th></th>\n",
              "      <th>Proyecto</th>\n",
              "      <th>Tipo</th>\n",
              "      <th>Capacidad</th>\n",
              "      <th>Departamento</th>\n",
              "      <th>Municipio</th>\n",
              "      <th>Código Departamento</th>\n",
              "      <th>Código Municipio</th>\n",
              "      <th>Fecha estimada FPO</th>\n",
              "      <th>Energía [kWh/día]</th>\n",
              "      <th>Usuarios</th>\n",
              "      <th>Inversión estimada [COP]</th>\n",
              "      <th>Empleos estimados</th>\n",
              "      <th>Emisiones CO2 [Ton/año]</th>\n",
              "    </tr>\n",
              "  </thead>\n",
              "  <tbody>\n",
              "    <tr>\n",
              "      <th>0</th>\n",
              "      <td>JEPIRACHI</td>\n",
              "      <td>Eólico</td>\n",
              "      <td>18.42</td>\n",
              "      <td>LA GUAJIRA</td>\n",
              "      <td>URIBIA</td>\n",
              "      <td>44</td>\n",
              "      <td>44847</td>\n",
              "      <td>2004-04-27T00:00:00.000</td>\n",
              "      <td>176832</td>\n",
              "      <td>30665</td>\n",
              "      <td>79206000000</td>\n",
              "      <td>51</td>\n",
              "      <td>51635</td>\n",
              "    </tr>\n",
              "    <tr>\n",
              "      <th>1</th>\n",
              "      <td>AUTOG CELSIA SOLAR YUMBO</td>\n",
              "      <td>Solar</td>\n",
              "      <td>9.80</td>\n",
              "      <td>VALLE DEL CAUCA</td>\n",
              "      <td>YUMBO</td>\n",
              "      <td>76</td>\n",
              "      <td>76892</td>\n",
              "      <td>2017-03-09T00:00:00.000</td>\n",
              "      <td>47040</td>\n",
              "      <td>8157</td>\n",
              "      <td>42140000000</td>\n",
              "      <td>68</td>\n",
              "      <td>13736</td>\n",
              "    </tr>\n",
              "    <tr>\n",
              "      <th>2</th>\n",
              "      <td>CELSIA SOLAR BOLIVAR</td>\n",
              "      <td>Solar</td>\n",
              "      <td>8.06</td>\n",
              "      <td>BOLÍVAR</td>\n",
              "      <td>SANTA ROSA</td>\n",
              "      <td>13</td>\n",
              "      <td>13683</td>\n",
              "      <td>2019-02-01T00:00:00.000</td>\n",
              "      <td>38688</td>\n",
              "      <td>6709</td>\n",
              "      <td>34658000000</td>\n",
              "      <td>56</td>\n",
              "      <td>11297</td>\n",
              "    </tr>\n",
              "    <tr>\n",
              "      <th>3</th>\n",
              "      <td>EL PASO SOLAR (ENEL GREEN POWER)</td>\n",
              "      <td>Solar</td>\n",
              "      <td>67.00</td>\n",
              "      <td>CESAR</td>\n",
              "      <td>EL PASO</td>\n",
              "      <td>20</td>\n",
              "      <td>20250</td>\n",
              "      <td>2019-04-05T00:00:00.000</td>\n",
              "      <td>321600</td>\n",
              "      <td>55769</td>\n",
              "      <td>288100000000</td>\n",
              "      <td>466</td>\n",
              "      <td>93907</td>\n",
              "    </tr>\n",
              "    <tr>\n",
              "      <th>4</th>\n",
              "      <td>SOLAR CASTILLA ECP</td>\n",
              "      <td>Solar</td>\n",
              "      <td>20.00</td>\n",
              "      <td>META</td>\n",
              "      <td>CASTILLA LA NUEVA</td>\n",
              "      <td>50</td>\n",
              "      <td>50150</td>\n",
              "      <td>2019-10-10T00:00:00.000</td>\n",
              "      <td>96000</td>\n",
              "      <td>16647</td>\n",
              "      <td>86000000000</td>\n",
              "      <td>139</td>\n",
              "      <td>28032</td>\n",
              "    </tr>\n",
              "    <tr>\n",
              "      <th>...</th>\n",
              "      <td>...</td>\n",
              "      <td>...</td>\n",
              "      <td>...</td>\n",
              "      <td>...</td>\n",
              "      <td>...</td>\n",
              "      <td>...</td>\n",
              "      <td>...</td>\n",
              "      <td>...</td>\n",
              "      <td>...</td>\n",
              "      <td>...</td>\n",
              "      <td>...</td>\n",
              "      <td>...</td>\n",
              "      <td>...</td>\n",
              "    </tr>\n",
              "    <tr>\n",
              "      <th>153</th>\n",
              "      <td>BUGA 1 PARTE 2</td>\n",
              "      <td>Solar</td>\n",
              "      <td>5.94</td>\n",
              "      <td>VALLE DEL CAUCA</td>\n",
              "      <td>SANTA LUCIA</td>\n",
              "      <td>76</td>\n",
              "      <td>76</td>\n",
              "      <td>2022-12-31T00:00:00.000</td>\n",
              "      <td>28512</td>\n",
              "      <td>4944</td>\n",
              "      <td>22275000000</td>\n",
              "      <td>41</td>\n",
              "      <td>8326</td>\n",
              "    </tr>\n",
              "    <tr>\n",
              "      <th>154</th>\n",
              "      <td>BUGA 1 PARTE 1</td>\n",
              "      <td>Solar</td>\n",
              "      <td>3.96</td>\n",
              "      <td>VALLE DEL CAUCA</td>\n",
              "      <td>SANTA LUCIA</td>\n",
              "      <td>76</td>\n",
              "      <td>76</td>\n",
              "      <td>2022-07-31T00:00:00.000</td>\n",
              "      <td>19008</td>\n",
              "      <td>3296</td>\n",
              "      <td>14850000000</td>\n",
              "      <td>28</td>\n",
              "      <td>5550</td>\n",
              "    </tr>\n",
              "    <tr>\n",
              "      <th>155</th>\n",
              "      <td>REFINERÍA GRB</td>\n",
              "      <td>Solar</td>\n",
              "      <td>21.00</td>\n",
              "      <td>SANTANDER</td>\n",
              "      <td>BARRANCABERMEJA</td>\n",
              "      <td>68</td>\n",
              "      <td>68081</td>\n",
              "      <td>2023-12-31T00:00:00.000</td>\n",
              "      <td>100800</td>\n",
              "      <td>17480</td>\n",
              "      <td>78750000000</td>\n",
              "      <td>146</td>\n",
              "      <td>29434</td>\n",
              "    </tr>\n",
              "    <tr>\n",
              "      <th>156</th>\n",
              "      <td>EMSA GD Y AG (34 Proyectos)</td>\n",
              "      <td>Solar</td>\n",
              "      <td>1.90</td>\n",
              "      <td>META</td>\n",
              "      <td>VILLAVICENCIO</td>\n",
              "      <td>50</td>\n",
              "      <td>50001</td>\n",
              "      <td>2022-05-31T00:00:00.000</td>\n",
              "      <td>9120</td>\n",
              "      <td>1582</td>\n",
              "      <td>8170000000</td>\n",
              "      <td>13</td>\n",
              "      <td>2663</td>\n",
              "    </tr>\n",
              "    <tr>\n",
              "      <th>157</th>\n",
              "      <td>ENELAR GD Y AG (4 Proyectos)</td>\n",
              "      <td>Solar</td>\n",
              "      <td>0.11</td>\n",
              "      <td>ARAUCA</td>\n",
              "      <td>ARAUCA</td>\n",
              "      <td>81</td>\n",
              "      <td>81001</td>\n",
              "      <td>2022-05-31T00:00:00.000</td>\n",
              "      <td>528</td>\n",
              "      <td>92</td>\n",
              "      <td>473000000</td>\n",
              "      <td>1</td>\n",
              "      <td>154</td>\n",
              "    </tr>\n",
              "  </tbody>\n",
              "</table>\n",
              "<p>158 rows × 13 columns</p>\n",
              "</div>\n",
              "      <button class=\"colab-df-convert\" onclick=\"convertToInteractive('df-7d226c6c-b400-411d-826f-d35de1498c71')\"\n",
              "              title=\"Convert this dataframe to an interactive table.\"\n",
              "              style=\"display:none;\">\n",
              "        \n",
              "  <svg xmlns=\"http://www.w3.org/2000/svg\" height=\"24px\"viewBox=\"0 0 24 24\"\n",
              "       width=\"24px\">\n",
              "    <path d=\"M0 0h24v24H0V0z\" fill=\"none\"/>\n",
              "    <path d=\"M18.56 5.44l.94 2.06.94-2.06 2.06-.94-2.06-.94-.94-2.06-.94 2.06-2.06.94zm-11 1L8.5 8.5l.94-2.06 2.06-.94-2.06-.94L8.5 2.5l-.94 2.06-2.06.94zm10 10l.94 2.06.94-2.06 2.06-.94-2.06-.94-.94-2.06-.94 2.06-2.06.94z\"/><path d=\"M17.41 7.96l-1.37-1.37c-.4-.4-.92-.59-1.43-.59-.52 0-1.04.2-1.43.59L10.3 9.45l-7.72 7.72c-.78.78-.78 2.05 0 2.83L4 21.41c.39.39.9.59 1.41.59.51 0 1.02-.2 1.41-.59l7.78-7.78 2.81-2.81c.8-.78.8-2.07 0-2.86zM5.41 20L4 18.59l7.72-7.72 1.47 1.35L5.41 20z\"/>\n",
              "  </svg>\n",
              "      </button>\n",
              "      \n",
              "  <style>\n",
              "    .colab-df-container {\n",
              "      display:flex;\n",
              "      flex-wrap:wrap;\n",
              "      gap: 12px;\n",
              "    }\n",
              "\n",
              "    .colab-df-convert {\n",
              "      background-color: #E8F0FE;\n",
              "      border: none;\n",
              "      border-radius: 50%;\n",
              "      cursor: pointer;\n",
              "      display: none;\n",
              "      fill: #1967D2;\n",
              "      height: 32px;\n",
              "      padding: 0 0 0 0;\n",
              "      width: 32px;\n",
              "    }\n",
              "\n",
              "    .colab-df-convert:hover {\n",
              "      background-color: #E2EBFA;\n",
              "      box-shadow: 0px 1px 2px rgba(60, 64, 67, 0.3), 0px 1px 3px 1px rgba(60, 64, 67, 0.15);\n",
              "      fill: #174EA6;\n",
              "    }\n",
              "\n",
              "    [theme=dark] .colab-df-convert {\n",
              "      background-color: #3B4455;\n",
              "      fill: #D2E3FC;\n",
              "    }\n",
              "\n",
              "    [theme=dark] .colab-df-convert:hover {\n",
              "      background-color: #434B5C;\n",
              "      box-shadow: 0px 1px 3px 1px rgba(0, 0, 0, 0.15);\n",
              "      filter: drop-shadow(0px 1px 2px rgba(0, 0, 0, 0.3));\n",
              "      fill: #FFFFFF;\n",
              "    }\n",
              "  </style>\n",
              "\n",
              "      <script>\n",
              "        const buttonEl =\n",
              "          document.querySelector('#df-7d226c6c-b400-411d-826f-d35de1498c71 button.colab-df-convert');\n",
              "        buttonEl.style.display =\n",
              "          google.colab.kernel.accessAllowed ? 'block' : 'none';\n",
              "\n",
              "        async function convertToInteractive(key) {\n",
              "          const element = document.querySelector('#df-7d226c6c-b400-411d-826f-d35de1498c71');\n",
              "          const dataTable =\n",
              "            await google.colab.kernel.invokeFunction('convertToInteractive',\n",
              "                                                     [key], {});\n",
              "          if (!dataTable) return;\n",
              "\n",
              "          const docLinkHtml = 'Like what you see? Visit the ' +\n",
              "            '<a target=\"_blank\" href=https://colab.research.google.com/notebooks/data_table.ipynb>data table notebook</a>'\n",
              "            + ' to learn more about interactive tables.';\n",
              "          element.innerHTML = '';\n",
              "          dataTable['output_type'] = 'display_data';\n",
              "          await google.colab.output.renderOutput(dataTable, element);\n",
              "          const docLink = document.createElement('div');\n",
              "          docLink.innerHTML = docLinkHtml;\n",
              "          element.appendChild(docLink);\n",
              "        }\n",
              "      </script>\n",
              "    </div>\n",
              "  </div>\n",
              "  "
            ]
          },
          "metadata": {},
          "execution_count": 899
        }
      ]
    },
    {
      "cell_type": "markdown",
      "source": [
        "Con esto copiamos el data frame con las ultimas actualizaciones que hemos hecho para poder trabajar desde este nuevo."
      ],
      "metadata": {
        "id": "ghtW9obEaFVS"
      }
    },
    {
      "cell_type": "code",
      "source": [
        "data['Tipo'].unique()"
      ],
      "metadata": {
        "colab": {
          "base_uri": "https://localhost:8080/"
        },
        "id": "fa0CdUQnu78l",
        "outputId": "1b6ffc03-7236-454b-b18e-b4602db946f5"
      },
      "execution_count": null,
      "outputs": [
        {
          "output_type": "execute_result",
          "data": {
            "text/plain": [
              "array(['Eólico', 'Solar'], dtype=object)"
            ]
          },
          "metadata": {},
          "execution_count": 900
        }
      ]
    },
    {
      "cell_type": "markdown",
      "source": [
        "Para la columna nombrada como **Tipo** podemos darnos cuenta que los **FNCER(Fuentes No Convencionales de Energía Renovable)** que manejaron durante todo el periodo fueron dos,  la **Eólica** y la **Solar**."
      ],
      "metadata": {
        "id": "cND2YYYnPftX"
      }
    },
    {
      "cell_type": "markdown",
      "source": [
        "# **Histogramas**\n",
        "Un histograma es un gráfico que usa barras para simbolizar cómo se distribuye un conjunto de datos. También sirve para ver rápidamente cómo se ha comportado una muestra basada en una variable numérica o cuantitativa. Por ejemplo, cómo varían las edades en un grupo de artistas de una banda sinfónica"
      ],
      "metadata": {
        "id": "RfbsbtHaWGcY"
      }
    },
    {
      "cell_type": "code",
      "source": [
        "plt.hist(x=data['Energía [kWh/día]'], color= '#F2AB6D', rwidth=0.95)\n",
        "plt.xlabel(\"Values\")\n",
        "plt.ylabel(\"Frecuency\")\n",
        "plt.title(\"Histogram\")\n",
        "plt.show()"
      ],
      "metadata": {
        "colab": {
          "base_uri": "https://localhost:8080/",
          "height": 295
        },
        "id": "uN99COWviNQj",
        "outputId": "65886f42-6b47-4356-d971-486fd990b9d8"
      },
      "execution_count": null,
      "outputs": [
        {
          "output_type": "display_data",
          "data": {
            "text/plain": [
              "<Figure size 432x288 with 1 Axes>"
            ],
            "image/png": "[encoded data removed]"
          },
          "metadata": {
            "needs_background": "light"
          }
        }
      ]
    },
    {
      "cell_type": "markdown",
      "source": [
        "En el siguiente histograma Emisiones CO2 [Ton/año], tenemos una representacion de la cantidad de emisiones de CO2 que tiene al año, donde la parte horizontal son los porcentajes, y la parte vertical es la cantidad que corresponde a cada porcentaje."
      ],
      "metadata": {
        "id": "QsXxw9L3WhYJ"
      }
    },
    {
      "cell_type": "code",
      "source": [
        "plt.hist(x=data['Usuarios'], color= '#F2AB6D', rwidth=0.95)\n",
        "plt.xlabel(\"Values\")\n",
        "plt.ylabel(\"Frecuency\")\n",
        "plt.title(\"Histogram\")\n",
        "plt.show()"
      ],
      "metadata": {
        "colab": {
          "base_uri": "https://localhost:8080/",
          "height": 295
        },
        "id": "CkdPfrqvA0KG",
        "outputId": "c1da27b9-263d-4005-9d57-528fa9eb7d64"
      },
      "execution_count": null,
      "outputs": [
        {
          "output_type": "display_data",
          "data": {
            "text/plain": [
              "<Figure size 432x288 with 1 Axes>"
            ],
            "image/png": "[encoded data removed]"
          },
          "metadata": {
            "needs_background": "light"
          }
        }
      ]
    },
    {
      "cell_type": "markdown",
      "source": [],
      "metadata": {
        "id": "OihQdzsfkmWx"
      }
    },
    {
      "cell_type": "markdown",
      "source": [
        "# **Grafico de Barras**"
      ],
      "metadata": {
        "id": "aBKjKuKoki-B"
      }
    },
    {
      "cell_type": "markdown",
      "source": [],
      "metadata": {
        "id": "feynut3hN_97"
      }
    },
    {
      "cell_type": "code",
      "source": [
        "# Contar las apariciones de los valores en la columna \"Municpios\"\n",
        "con = data['Municipio'].value_counts()\n",
        "\n",
        "# Seleccionar los 5 Municipios con más apariciones\n",
        "top_municipios = con.nlargest(5)\n",
        "\n",
        "# Filtrar el DataFrame para incluir solo las filas con las Municipios más comunes\n",
        "data_top_municipios = data[data['Municipio'].isin(top_municipios.index)]\n",
        "\n",
        "# Crear un gráfico de barras que muestra la cantidad de personas en cada Municipio\n",
        "plt.bar(top_municipios.index, top_municipios.values)\n",
        "plt.title('Municipios')\n",
        "plt.xlabel('Municipios')\n",
        "plt.ylabel('Número de apariciones')\n",
        "plt.show()"
      ],
      "metadata": {
        "colab": {
          "base_uri": "https://localhost:8080/",
          "height": 295
        },
        "id": "ruOovhRBPmUP",
        "outputId": "6bd20fbd-45b1-489f-c4e0-9bc07b7a813a"
      },
      "execution_count": null,
      "outputs": [
        {
          "output_type": "display_data",
          "data": {
            "text/plain": [
              "<Figure size 432x288 with 1 Axes>"
            ],
            "image/png": "[encoded data removed]"
          },
          "metadata": {
            "needs_background": "light"
          }
        }
      ]
    },
    {
      "cell_type": "markdown",
      "source": [
        "Vemos que en la gráfica sacamos los municipios y veces que más repeticiones tienen en los datos como **Uribía**, **Pereira**, **Puerto Gaitán**, de más repeticiones a menos repeticiones vemos que **Uribía** y **Pereira** son los municipios que tienen la mayoría mencionado en los datos con más de 8 repeticiones.\n"
      ],
      "metadata": {
        "id": "k5_BR8uLDbQb"
      }
    },
    {
      "cell_type": "code",
      "source": [
        "# Contar las apariciones de los valores en la columna \"Departamentos\"\n",
        "con = data['Departamento'].value_counts()\n",
        "\n",
        "# Seleccionar los 5 departamentos con más apariciones\n",
        "top_departamentos = con.nlargest(5)\n",
        "\n",
        "# Filtrar el DataFrame para incluir solo las filas con las departamentos más comunes\n",
        "data_top_departamentos = data[data['Departamento'].isin(top_departamentos.index)]\n",
        "\n",
        "# Crear un gráfico de barras que muestra la cantidad de personas en cada departamento\n",
        "plt.bar(top_departamentos.index, top_departamentos.values)\n",
        "plt.title('Departamentos')\n",
        "plt.xlabel('Departamentos')\n",
        "plt.ylabel('Número de apariciones')\n",
        "plt.show()"
      ],
      "metadata": {
        "colab": {
          "base_uri": "https://localhost:8080/",
          "height": 295
        },
        "id": "hJEwl9-zKBES",
        "outputId": "87e73d64-5a83-4850-d77d-a8218441c245"
      },
      "execution_count": null,
      "outputs": [
        {
          "output_type": "display_data",
          "data": {
            "text/plain": [
              "<Figure size 432x288 with 1 Axes>"
            ],
            "image/png": "[encoded data removed]"
          },
          "metadata": {
            "needs_background": "light"
          }
        }
      ]
    },
    {
      "cell_type": "markdown",
      "source": [
        "Podemos observar que en la grafica nos salen los departamentos y las veces que mas tienden a repetirse en la data, como son valle del cauca, Atlantico, Tolima, La guajira, los cuales vienen de mayor repiticiones a menos, podemos ver que Valle del cauca es el departamentos que mas repiticiones tiene con más de 16 repeticiones."
      ],
      "metadata": {
        "id": "UhHOiCkvCXed"
      }
    },
    {
      "cell_type": "markdown",
      "source": [
        "# **Graficos de torta.**\n",
        "\n",
        "Los graficos de tortas nos permiten tener una mejor vision de cual es la cantidad de datos que hay en la tabla, permitiendonos poder ver los porcentajes para tener la capacidad de hacer un mejor analisis."
      ],
      "metadata": {
        "id": "8T8N3oT-K7o_"
      }
    },
    {
      "cell_type": "code",
      "source": [
        "plt.pie(top_municipios.values, labels=top_municipios.index, autopct='%1.1f%%')\n",
        "plt.title('Top 5 municipios')\n",
        "plt.show()"
      ],
      "metadata": {
        "colab": {
          "base_uri": "https://localhost:8080/",
          "height": 264
        },
        "id": "ZZgkLHaAQaUI",
        "outputId": "fce60c2f-214b-48fe-a3fc-46e87f068f47"
      },
      "execution_count": null,
      "outputs": [
        {
          "output_type": "display_data",
          "data": {
            "text/plain": [
              "<Figure size 432x288 with 1 Axes>"
            ],
            "image/png": "[encoded data removed]"
          },
          "metadata": {}
        }
      ]
    },
    {
      "cell_type": "markdown",
      "source": [
        "Aquì podemos ver el porcentaje que ocupa los 5 primeros municipios en la data, teniendo como **Pereira** y **Uribia** como los departamento que mas **FNCER(Fuentes No Convencionales de Energía Renovable)** durante este periodo seguido  de **Puerto Gaitàn**."
      ],
      "metadata": {
        "id": "v_DX4jrkJe2r"
      }
    },
    {
      "cell_type": "code",
      "source": [
        "plt.pie(top_departamentos.values, labels=top_departamentos.index, autopct='%1.1f%%')\n",
        "plt.title('Top 5 departamentos')\n",
        "plt.show()"
      ],
      "metadata": {
        "colab": {
          "base_uri": "https://localhost:8080/",
          "height": 264
        },
        "id": "mSOGuL2GPS3u",
        "outputId": "dc4909f4-e007-4c9f-f667-3d6c7bf9cf73"
      },
      "execution_count": null,
      "outputs": [
        {
          "output_type": "display_data",
          "data": {
            "text/plain": [
              "<Figure size 432x288 with 1 Axes>"
            ],
            "image/png": "[encoded data removed]"
          },
          "metadata": {}
        }
      ]
    },
    {
      "cell_type": "markdown",
      "source": [
        "Aquì podemos ver el porcentaje que ocupa los 5 primeros departamentos en la data, teniendo como **Valle del Cauca** como el departamento en el que mas **FNCER(Fuentes No Convencionales de Energía Renovable)** seguido  de **Atlantico** y **Tolima**."
      ],
      "metadata": {
        "id": "eLRMKql9EPxK"
      }
    },
    {
      "cell_type": "markdown",
      "source": [
        "# **CAJA DE BIGOTES.**\n"
      ],
      "metadata": {
        "id": "wCqqp9T5M6IE"
      }
    },
    {
      "cell_type": "markdown",
      "source": [
        "Un gráfico de bigotes es una forma conveniente de representar visualmente grupos de datos numéricos por cuartil. Las líneas paralelas a la caja se denominan \"bigotes\" y se utilizan para indicar la variabilidad fuera de los cuartiles superior e inferior.\n"
      ],
      "metadata": {
        "id": "4xf3RusPjJ4z"
      }
    },
    {
      "cell_type": "code",
      "source": [
        "plt.boxplot(data['Usuarios'])\n",
        "plt.show()"
      ],
      "metadata": {
        "colab": {
          "base_uri": "https://localhost:8080/",
          "height": 265
        },
        "id": "ujZ_1eP_BtC6",
        "outputId": "138e9199-13bb-4b1e-a2dc-5db24ef9c729"
      },
      "execution_count": null,
      "outputs": [
        {
          "output_type": "display_data",
          "data": {
            "text/plain": [
              "<Figure size 432x288 with 1 Axes>"
            ],
            "image/png": "[encoded data removed]"
          },
          "metadata": {
            "needs_background": "light"
          }
        }
      ]
    },
    {
      "cell_type": "markdown",
      "source": [
        "Tomamos la columna de Usuario para poder hacer la caja de bigotes con esa podemos observar que tenemos muchos datos atipicos que son datos que se sobrepasan del rango que se esta trabajando."
      ],
      "metadata": {
        "id": "cYIysAXFjl2Q"
      }
    },
    {
      "cell_type": "markdown",
      "source": [
        "#  **LIMPIEZA DE LOS DATOS ATIPICOS**\n"
      ],
      "metadata": {
        "id": "9zBUVw0moQHC"
      }
    },
    {
      "cell_type": "code",
      "source": [
        "Q1 = data['Usuarios'].quantile(0.18)\n",
        "print(\"Primer Cuartil\", Q1)\n",
        "\n",
        "Q3 = data['Usuarios'].quantile(0.65)\n",
        "print(\"Tercer Cuartil\", Q3)\n",
        "\n",
        "IQR = Q3 - Q1\n",
        "print(\"Rango Intercuartil\", IQR)\n",
        "\n",
        "Mediana = data['Usuarios'].median()\n",
        "print(\"Mediana\", Mediana)\n",
        "\n",
        "Valor_Miniom = data['Usuarios'].min()\n",
        "print(\"Valor Minimo\", Valor_Miniom)\n",
        "\n",
        "Valor_Maximo = data['Usuarios'].max()\n",
        "print(\"Valor Máximo\", Valor_Maximo)\n"
      ],
      "metadata": {
        "colab": {
          "base_uri": "https://localhost:8080/"
        },
        "id": "FQpwPvpZH3G1",
        "outputId": "7fca6d32-0f05-49d3-c8d0-aaaea1615102"
      },
      "execution_count": null,
      "outputs": [
        {
          "output_type": "stream",
          "name": "stdout",
          "text": [
            "Primer Cuartil 1086.42\n",
            "Tercer Cuartil 16564.0\n",
            "Rango Intercuartil 15477.58\n",
            "Mediana 8240.0\n",
            "Valor Minimo 4\n",
            "Valor Máximo 582659\n"
          ]
        }
      ]
    },
    {
      "cell_type": "markdown",
      "source": [
        "Como podemos observar en la anterior sección tenemos demasiados datos atipicos, entonces aqui estamos haciendo la limpieza de los datos, tomamos los valores del primer y tercer cuartil, luego le sacamos la mediana y el valor minimo y el maximo para poder ver que datos tienen. "
      ],
      "metadata": {
        "id": "pKEbZ0v7o9zl"
      }
    },
    {
      "cell_type": "code",
      "source": [
        "BI_Calculado = (Q1 - 1.5 * IQR)\n",
        "print(\"BI_CALCULADO \\n\", BI_Calculado)\n",
        "\n",
        "BS_Calculado = (Q3 + 1.5 * IQR)\n",
        "print(\"BS_CALCULADO \\n\", BS_Calculado)"
      ],
      "metadata": {
        "colab": {
          "base_uri": "https://localhost:8080/"
        },
        "id": "De_hKeGsLZRO",
        "outputId": "f4db5afb-f699-4efd-cdef-98294f983a69"
      },
      "execution_count": null,
      "outputs": [
        {
          "output_type": "stream",
          "name": "stdout",
          "text": [
            "BI_CALCULADO \n",
            " -22129.949999999997\n",
            "BS_CALCULADO \n",
            " 39780.369999999995\n"
          ]
        }
      ]
    },
    {
      "cell_type": "markdown",
      "source": [
        "En esta seccion estamos sacando una resta del primer cuartil menos el 1.5 de datos por el rango de caurtil, y luego hacemos otra operacion, el valor del tercer cuartil mas el 1.5 por el rengo de cuartil."
      ],
      "metadata": {
        "id": "0B2Ph4PZotXS"
      }
    },
    {
      "cell_type": "code",
      "source": [
        "ubicacion_outliers = ((data['Usuarios'] < BI_Calculado) | (data['Usuarios'] > BS_Calculado))\n",
        "print(\"\\n Ubicacion de Outliers \\n\", ubicacion_outliers)"
      ],
      "metadata": {
        "colab": {
          "base_uri": "https://localhost:8080/"
        },
        "id": "VJgrqx2vLdLl",
        "outputId": "bc368eda-16b3-4be0-a5dc-74a9a221f371"
      },
      "execution_count": null,
      "outputs": [
        {
          "output_type": "stream",
          "name": "stdout",
          "text": [
            "\n",
            " Ubicacion de Outliers \n",
            " 0      False\n",
            "1      False\n",
            "2      False\n",
            "3       True\n",
            "4      False\n",
            "       ...  \n",
            "153    False\n",
            "154    False\n",
            "155    False\n",
            "156    False\n",
            "157    False\n",
            "Name: Usuarios, Length: 158, dtype: bool\n"
          ]
        }
      ]
    },
    {
      "cell_type": "markdown",
      "source": [
        "Aqui estamos ubicando donde se encuentran los datos atipicos para saber que datos poder eliminar para que nos salgan datos atipicos en la proxima caja de bigote."
      ],
      "metadata": {
        "id": "fUhpNVJ4sSqY"
      }
    },
    {
      "cell_type": "code",
      "source": [
        "outliers = data[ubicacion_outliers]\n",
        "print(\"\\n Lista de Outliers \\n\", outliers)"
      ],
      "metadata": {
        "colab": {
          "base_uri": "https://localhost:8080/"
        },
        "id": "D68xIIpHLoVV",
        "outputId": "4413be29-5200-4724-fc44-526ac1de0781"
      },
      "execution_count": null,
      "outputs": [
        {
          "output_type": "stream",
          "name": "stdout",
          "text": [
            "\n",
            " Lista de Outliers \n",
            "                                 Proyecto    Tipo  Capacidad     Departamento  \\\n",
            "3       EL PASO SOLAR (ENEL GREEN POWER)   Solar      67.00            CESAR   \n",
            "49                          SAN FERNANDO   Solar      61.00             META   \n",
            "58      LA LOMA SOLAR (ENEL GREEN POWER)   Solar     170.00            CESAR   \n",
            "69          CSF SAN FELIPE (TRINA SOLAR)   Solar      90.00           TOLIMA   \n",
            "73             CSF CARTAGO (TRINA SOLAR)   Solar      99.00  VALLE DEL CAUCA   \n",
            "81                 CAMPANO (TRINA SOLAR)   Solar      99.90          CÓRDOBA   \n",
            "88                          BETHA (EDPR)  Eólico     270.00       LA GUAJIRA   \n",
            "89                          ALPHA (EDPR)  Eólico     212.00       LA GUAJIRA   \n",
            "107                             RUBIALES   Solar      87.00             META   \n",
            "108                     CHICAMOCHA (1-3)   Solar      59.70        SANTANDER   \n",
            "109                 PUERTA DE ORO Fase 1   Solar     120.00     CUNDINAMARCA   \n",
            "110                       GUAYEPO FASE I   Solar     200.00        ATLÁNTICO   \n",
            "124                            WINDPESHI  Eólico     195.03       LA GUAJIRA   \n",
            "126                 CASA ELÉCTRICA (AES)  Eólico     176.30       LA GUAJIRA   \n",
            "127                     APOTOLORRU (AES)  Eólico      75.00       LA GUAJIRA   \n",
            "128                           PV LA MATA   Solar      80.00            CESAR   \n",
            "129                          PV LA UNIÓN   Solar     100.00          CÓRDOBA   \n",
            "132                           SEBASTOSOL   Solar     700.00        SANTANDER   \n",
            "133  BOSQUES SOLARES DE BOLÍVAR (5X19.9)   Solar      99.50        ATLÁNTICO   \n",
            "135                           CARACOLÍ I   Solar      50.00        ATLÁNTICO   \n",
            "137                      GUAYEPO FASE II   Solar     200.00        ATLÁNTICO   \n",
            "138                               SIERRA   Solar     200.00        ANTIOQUIA   \n",
            "139                                TEPUY   Solar      83.00           CALDAS   \n",
            "140                           SHANGRI-LA   Solar     160.00           TOLIMA   \n",
            "141          CHEMESKY (ENEL GREEN POWER)  Eólico      98.85       LA GUAJIRA   \n",
            "142                 PUERTA DE ORO Fase 2   Solar     180.00     CUNDINAMARCA   \n",
            "143                   ACACIAS 2 (CELSIA)  Eólico      80.00       LA GUAJIRA   \n",
            "144          TUMAWIND (ENEL GREEN POWER)  Eólico     197.77       LA GUAJIRA   \n",
            "145                     CAMELIA (CELSIA)  Eólico     250.00       LA GUAJIRA   \n",
            "146                       ESCOBAL 1 AL 5   Solar      99.50           TOLIMA   \n",
            "148                         Pubenza PSR2   Solar      50.00      BOGOTÁ D.C.   \n",
            "149                          SABANALARGA   Solar     200.00        ATLÁNTICO   \n",
            "150  PARQUE SOLAR FOTOVOLTAICO FUNDACIÓN   Solar      99.00        MAGDALENA   \n",
            "\n",
            "             Municipio  Código Departamento  Código Municipio  \\\n",
            "3              EL PASO                   20             20250   \n",
            "49   CASTILLA LA NUEVA                   50             50150   \n",
            "58             EL PASO                   20             20250   \n",
            "69              ARMERO                   73             73055   \n",
            "73             CARTAGO                   76             76147   \n",
            "81               CHINÚ                   23             23182   \n",
            "88              MAICAO                   44             44430   \n",
            "89              MAICAO                   44             44430   \n",
            "107      PUERTO GAITÁN                   50             50568   \n",
            "108         LOS SANTOS                   68             68418   \n",
            "109            GUADUAS                   25             25320   \n",
            "110        SABANALARGA                    8              8638   \n",
            "124             MAICAO                   44             44430   \n",
            "126             URIBIA                   44             44847   \n",
            "127             URIBIA                   44             44847   \n",
            "128          LA GLORIA                   20             20383   \n",
            "129           MONTERÍA                   23             23001   \n",
            "132          CIMITARRA                   68             68190   \n",
            "133        SABANALARGA                    8              8638   \n",
            "135            MALAMBO                    8              8433   \n",
            "137        SABANALARGA                    8              8638   \n",
            "138        PUERTO NARE                    5              5585   \n",
            "139          LA DORADA                   17             17380   \n",
            "140             IBAGUÉ                   73             73001   \n",
            "141             URIBIA                   44             44847   \n",
            "142            GUADUAS                   25             25320   \n",
            "143             MAICAO                   44             44430   \n",
            "144             URIBIA                   44             44847   \n",
            "145             URIBIA                   44             44847   \n",
            "146           ALVARADO                   73             73026   \n",
            "148        BOGOTÁ D.C.                   11             11001   \n",
            "149        SABANALARGA                    8              8638   \n",
            "150          FUNDACIÓN                   47             47288   \n",
            "\n",
            "          Fecha estimada FPO  Energía [kWh/día]  Usuarios  \\\n",
            "3    2019-04-05T00:00:00.000             321600     55769   \n",
            "49   2021-10-22T00:00:00.000             292800     50775   \n",
            "58   2021-12-31T00:00:00.000             816000    141503   \n",
            "69   2023-06-01T00:00:00.000             432000     74913   \n",
            "73   2023-07-01T00:00:00.000             475200     82405   \n",
            "81   2023-09-30T00:00:00.000             479520     83154   \n",
            "88   2022-09-30T00:00:00.000            2592000    449480   \n",
            "89   2022-12-31T00:00:00.000            2035200    352925   \n",
            "107  2023-11-30T00:00:00.000             417600     72416   \n",
            "108  2023-06-30T00:00:00.000             286560     49692   \n",
            "109  2999-12-31T00:00:00.000             576000     99884   \n",
            "110  2023-05-31T00:00:00.000             960000    166474   \n",
            "124  2024-01-01T00:00:00.000            1872288    324674   \n",
            "126  2024-01-01T00:00:00.000            1692480    293494   \n",
            "127  2024-01-01T00:00:00.000             720000    124855   \n",
            "128  2023-12-31T00:00:00.000             384000     66590   \n",
            "129  2023-12-31T00:00:00.000             480000     83237   \n",
            "132  2023-12-31T00:00:00.000            3360000    582659   \n",
            "133  2023-12-31T00:00:00.000             477600     82821   \n",
            "135  2023-08-31T00:00:00.000             240000     41618   \n",
            "137  2023-12-31T00:00:00.000             960000    166474   \n",
            "138  2023-05-12T00:00:00.000             960000    166474   \n",
            "139  2023-07-31T00:00:00.000             398400     69087   \n",
            "140  2023-06-30T00:00:00.000             768000    133179   \n",
            "141  2024-01-01T00:00:00.000             948960    164560   \n",
            "142  2999-12-31T00:00:00.000             864000    149827   \n",
            "143  2023-11-01T00:00:00.000             768000    133179   \n",
            "144  2024-01-01T00:00:00.000            1898592    329236   \n",
            "145  2023-12-01T00:00:00.000            2400000    416185   \n",
            "146  2023-12-31T00:00:00.000             477600     82821   \n",
            "148  2023-12-31T00:00:00.000             240000     41618   \n",
            "149  2024-04-09T00:00:00.000             960000    166474   \n",
            "150  2024-06-30T00:00:00.000             475200     82405   \n",
            "\n",
            "     Inversión estimada [COP]  Empleos estimados  Emisiones CO2 [Ton/año]  \n",
            "3                288100000000                466                    93907  \n",
            "49               262300000000                425                    85498  \n",
            "58               731000000000               1183                   238272  \n",
            "69               337500000000                626                   126144  \n",
            "73               371250000000                689                   138758  \n",
            "81               374625000000                695                   140020  \n",
            "88              1012500000000                751                   756864  \n",
            "89               795000000000                589                   594278  \n",
            "107              326250000000                606                   121939  \n",
            "108              223875000000                416                    83676  \n",
            "109              450000000000                835                   168192  \n",
            "110              750000000000               1392                   280320  \n",
            "124              731363000000                542                   546708  \n",
            "126              661125000000                490                   494204  \n",
            "127              281250000000                209                   210240  \n",
            "128              344000000000                557                   112128  \n",
            "129              375000000000                696                   140160  \n",
            "132             2625000000000               4872                   981120  \n",
            "133              373125000000                693                   139459  \n",
            "135              187500000000                348                    70080  \n",
            "137              750000000000               1392                   280320  \n",
            "138              750000000000               1392                   280320  \n",
            "139              311250000000                578                   116333  \n",
            "140              600000000000               1114                   224256  \n",
            "141              370688000000                275                   277096  \n",
            "142              675000000000               1253                   252288  \n",
            "143              300000000000                222                   224256  \n",
            "144              741638000000                550                   554389  \n",
            "145              937500000000                695                   700800  \n",
            "146              373125000000                693                   139459  \n",
            "148              187500000000                348                    70080  \n",
            "149              750000000000               1392                   280320  \n",
            "150              371250000000                689                   138758  \n"
          ]
        }
      ]
    },
    {
      "cell_type": "markdown",
      "source": [
        "Aqui llamamos la data para ver en donde se encuentran los datos atipicos, y saber columnas tenemos con los datos."
      ],
      "metadata": {
        "id": "3NFR_MkQvYhY"
      }
    },
    {
      "cell_type": "code",
      "source": [
        "Outliers_Ordenados = outliers.sort_values(\"Usuarios\")\n",
        "Outliers_Ordenados"
      ],
      "metadata": {
        "colab": {
          "base_uri": "https://localhost:8080/",
          "height": 1000
        },
        "id": "AG5juOLtLwf7",
        "outputId": "8df3d9eb-2606-4af0-8729-99acd37dac43"
      },
      "execution_count": null,
      "outputs": [
        {
          "output_type": "execute_result",
          "data": {
            "text/plain": [
              "                                Proyecto    Tipo  Capacidad     Departamento  \\\n",
              "148                         Pubenza PSR2   Solar      50.00      BOGOTÁ D.C.   \n",
              "135                           CARACOLÍ I   Solar      50.00        ATLÁNTICO   \n",
              "108                     CHICAMOCHA (1-3)   Solar      59.70        SANTANDER   \n",
              "49                          SAN FERNANDO   Solar      61.00             META   \n",
              "3       EL PASO SOLAR (ENEL GREEN POWER)   Solar      67.00            CESAR   \n",
              "128                           PV LA MATA   Solar      80.00            CESAR   \n",
              "139                                TEPUY   Solar      83.00           CALDAS   \n",
              "107                             RUBIALES   Solar      87.00             META   \n",
              "69          CSF SAN FELIPE (TRINA SOLAR)   Solar      90.00           TOLIMA   \n",
              "150  PARQUE SOLAR FOTOVOLTAICO FUNDACIÓN   Solar      99.00        MAGDALENA   \n",
              "73             CSF CARTAGO (TRINA SOLAR)   Solar      99.00  VALLE DEL CAUCA   \n",
              "146                       ESCOBAL 1 AL 5   Solar      99.50           TOLIMA   \n",
              "133  BOSQUES SOLARES DE BOLÍVAR (5X19.9)   Solar      99.50        ATLÁNTICO   \n",
              "81                 CAMPANO (TRINA SOLAR)   Solar      99.90          CÓRDOBA   \n",
              "129                          PV LA UNIÓN   Solar     100.00          CÓRDOBA   \n",
              "109                 PUERTA DE ORO Fase 1   Solar     120.00     CUNDINAMARCA   \n",
              "127                     APOTOLORRU (AES)  Eólico      75.00       LA GUAJIRA   \n",
              "143                   ACACIAS 2 (CELSIA)  Eólico      80.00       LA GUAJIRA   \n",
              "140                           SHANGRI-LA   Solar     160.00           TOLIMA   \n",
              "58      LA LOMA SOLAR (ENEL GREEN POWER)   Solar     170.00            CESAR   \n",
              "142                 PUERTA DE ORO Fase 2   Solar     180.00     CUNDINAMARCA   \n",
              "141          CHEMESKY (ENEL GREEN POWER)  Eólico      98.85       LA GUAJIRA   \n",
              "110                       GUAYEPO FASE I   Solar     200.00        ATLÁNTICO   \n",
              "149                          SABANALARGA   Solar     200.00        ATLÁNTICO   \n",
              "137                      GUAYEPO FASE II   Solar     200.00        ATLÁNTICO   \n",
              "138                               SIERRA   Solar     200.00        ANTIOQUIA   \n",
              "126                 CASA ELÉCTRICA (AES)  Eólico     176.30       LA GUAJIRA   \n",
              "124                            WINDPESHI  Eólico     195.03       LA GUAJIRA   \n",
              "144          TUMAWIND (ENEL GREEN POWER)  Eólico     197.77       LA GUAJIRA   \n",
              "89                          ALPHA (EDPR)  Eólico     212.00       LA GUAJIRA   \n",
              "145                     CAMELIA (CELSIA)  Eólico     250.00       LA GUAJIRA   \n",
              "88                          BETHA (EDPR)  Eólico     270.00       LA GUAJIRA   \n",
              "132                           SEBASTOSOL   Solar     700.00        SANTANDER   \n",
              "\n",
              "             Municipio  Código Departamento  Código Municipio  \\\n",
              "148        BOGOTÁ D.C.                   11             11001   \n",
              "135            MALAMBO                    8              8433   \n",
              "108         LOS SANTOS                   68             68418   \n",
              "49   CASTILLA LA NUEVA                   50             50150   \n",
              "3              EL PASO                   20             20250   \n",
              "128          LA GLORIA                   20             20383   \n",
              "139          LA DORADA                   17             17380   \n",
              "107      PUERTO GAITÁN                   50             50568   \n",
              "69              ARMERO                   73             73055   \n",
              "150          FUNDACIÓN                   47             47288   \n",
              "73             CARTAGO                   76             76147   \n",
              "146           ALVARADO                   73             73026   \n",
              "133        SABANALARGA                    8              8638   \n",
              "81               CHINÚ                   23             23182   \n",
              "129           MONTERÍA                   23             23001   \n",
              "109            GUADUAS                   25             25320   \n",
              "127             URIBIA                   44             44847   \n",
              "143             MAICAO                   44             44430   \n",
              "140             IBAGUÉ                   73             73001   \n",
              "58             EL PASO                   20             20250   \n",
              "142            GUADUAS                   25             25320   \n",
              "141             URIBIA                   44             44847   \n",
              "110        SABANALARGA                    8              8638   \n",
              "149        SABANALARGA                    8              8638   \n",
              "137        SABANALARGA                    8              8638   \n",
              "138        PUERTO NARE                    5              5585   \n",
              "126             URIBIA                   44             44847   \n",
              "124             MAICAO                   44             44430   \n",
              "144             URIBIA                   44             44847   \n",
              "89              MAICAO                   44             44430   \n",
              "145             URIBIA                   44             44847   \n",
              "88              MAICAO                   44             44430   \n",
              "132          CIMITARRA                   68             68190   \n",
              "\n",
              "          Fecha estimada FPO  Energía [kWh/día]  Usuarios  \\\n",
              "148  2023-12-31T00:00:00.000             240000     41618   \n",
              "135  2023-08-31T00:00:00.000             240000     41618   \n",
              "108  2023-06-30T00:00:00.000             286560     49692   \n",
              "49   2021-10-22T00:00:00.000             292800     50775   \n",
              "3    2019-04-05T00:00:00.000             321600     55769   \n",
              "128  2023-12-31T00:00:00.000             384000     66590   \n",
              "139  2023-07-31T00:00:00.000             398400     69087   \n",
              "107  2023-11-30T00:00:00.000             417600     72416   \n",
              "69   2023-06-01T00:00:00.000             432000     74913   \n",
              "150  2024-06-30T00:00:00.000             475200     82405   \n",
              "73   2023-07-01T00:00:00.000             475200     82405   \n",
              "146  2023-12-31T00:00:00.000             477600     82821   \n",
              "133  2023-12-31T00:00:00.000             477600     82821   \n",
              "81   2023-09-30T00:00:00.000             479520     83154   \n",
              "129  2023-12-31T00:00:00.000             480000     83237   \n",
              "109  2999-12-31T00:00:00.000             576000     99884   \n",
              "127  2024-01-01T00:00:00.000             720000    124855   \n",
              "143  2023-11-01T00:00:00.000             768000    133179   \n",
              "140  2023-06-30T00:00:00.000             768000    133179   \n",
              "58   2021-12-31T00:00:00.000             816000    141503   \n",
              "142  2999-12-31T00:00:00.000             864000    149827   \n",
              "141  2024-01-01T00:00:00.000             948960    164560   \n",
              "110  2023-05-31T00:00:00.000             960000    166474   \n",
              "149  2024-04-09T00:00:00.000             960000    166474   \n",
              "137  2023-12-31T00:00:00.000             960000    166474   \n",
              "138  2023-05-12T00:00:00.000             960000    166474   \n",
              "126  2024-01-01T00:00:00.000            1692480    293494   \n",
              "124  2024-01-01T00:00:00.000            1872288    324674   \n",
              "144  2024-01-01T00:00:00.000            1898592    329236   \n",
              "89   2022-12-31T00:00:00.000            2035200    352925   \n",
              "145  2023-12-01T00:00:00.000            2400000    416185   \n",
              "88   2022-09-30T00:00:00.000            2592000    449480   \n",
              "132  2023-12-31T00:00:00.000            3360000    582659   \n",
              "\n",
              "     Inversión estimada [COP]  Empleos estimados  Emisiones CO2 [Ton/año]  \n",
              "148              187500000000                348                    70080  \n",
              "135              187500000000                348                    70080  \n",
              "108              223875000000                416                    83676  \n",
              "49               262300000000                425                    85498  \n",
              "3                288100000000                466                    93907  \n",
              "128              344000000000                557                   112128  \n",
              "139              311250000000                578                   116333  \n",
              "107              326250000000                606                   121939  \n",
              "69               337500000000                626                   126144  \n",
              "150              371250000000                689                   138758  \n",
              "73               371250000000                689                   138758  \n",
              "146              373125000000                693                   139459  \n",
              "133              373125000000                693                   139459  \n",
              "81               374625000000                695                   140020  \n",
              "129              375000000000                696                   140160  \n",
              "109              450000000000                835                   168192  \n",
              "127              281250000000                209                   210240  \n",
              "143              300000000000                222                   224256  \n",
              "140              600000000000               1114                   224256  \n",
              "58               731000000000               1183                   238272  \n",
              "142              675000000000               1253                   252288  \n",
              "141              370688000000                275                   277096  \n",
              "110              750000000000               1392                   280320  \n",
              "149              750000000000               1392                   280320  \n",
              "137              750000000000               1392                   280320  \n",
              "138              750000000000               1392                   280320  \n",
              "126              661125000000                490                   494204  \n",
              "124              731363000000                542                   546708  \n",
              "144              741638000000                550                   554389  \n",
              "89               795000000000                589                   594278  \n",
              "145              937500000000                695                   700800  \n",
              "88              1012500000000                751                   756864  \n",
              "132             2625000000000               4872                   981120  "
            ],
            "text/html": [
              "\n",
              "  <div id=\"df-b6a4c3ab-3136-49d4-865d-cbb60d41ad40\">\n",
              "    <div class=\"colab-df-container\">\n",
              "      <div>\n",
              "<style scoped>\n",
              "    .dataframe tbody tr th:only-of-type {\n",
              "        vertical-align: middle;\n",
              "    }\n",
              "\n",
              "    .dataframe tbody tr th {\n",
              "        vertical-align: top;\n",
              "    }\n",
              "\n",
              "    .dataframe thead th {\n",
              "        text-align: right;\n",
              "    }\n",
              "</style>\n",
              "<table border=\"1\" class=\"dataframe\">\n",
              "  <thead>\n",
              "    <tr style=\"text-align: right;\">\n",
              "      <th></th>\n",
              "      <th>Proyecto</th>\n",
              "      <th>Tipo</th>\n",
              "      <th>Capacidad</th>\n",
              "      <th>Departamento</th>\n",
              "      <th>Municipio</th>\n",
              "      <th>Código Departamento</th>\n",
              "      <th>Código Municipio</th>\n",
              "      <th>Fecha estimada FPO</th>\n",
              "      <th>Energía [kWh/día]</th>\n",
              "      <th>Usuarios</th>\n",
              "      <th>Inversión estimada [COP]</th>\n",
              "      <th>Empleos estimados</th>\n",
              "      <th>Emisiones CO2 [Ton/año]</th>\n",
              "    </tr>\n",
              "  </thead>\n",
              "  <tbody>\n",
              "    <tr>\n",
              "      <th>148</th>\n",
              "      <td>Pubenza PSR2</td>\n",
              "      <td>Solar</td>\n",
              "      <td>50.00</td>\n",
              "      <td>BOGOTÁ D.C.</td>\n",
              "      <td>BOGOTÁ D.C.</td>\n",
              "      <td>11</td>\n",
              "      <td>11001</td>\n",
              "      <td>2023-12-31T00:00:00.000</td>\n",
              "      <td>240000</td>\n",
              "      <td>41618</td>\n",
              "      <td>187500000000</td>\n",
              "      <td>348</td>\n",
              "      <td>70080</td>\n",
              "    </tr>\n",
              "    <tr>\n",
              "      <th>135</th>\n",
              "      <td>CARACOLÍ I</td>\n",
              "      <td>Solar</td>\n",
              "      <td>50.00</td>\n",
              "      <td>ATLÁNTICO</td>\n",
              "      <td>MALAMBO</td>\n",
              "      <td>8</td>\n",
              "      <td>8433</td>\n",
              "      <td>2023-08-31T00:00:00.000</td>\n",
              "      <td>240000</td>\n",
              "      <td>41618</td>\n",
              "      <td>187500000000</td>\n",
              "      <td>348</td>\n",
              "      <td>70080</td>\n",
              "    </tr>\n",
              "    <tr>\n",
              "      <th>108</th>\n",
              "      <td>CHICAMOCHA (1-3)</td>\n",
              "      <td>Solar</td>\n",
              "      <td>59.70</td>\n",
              "      <td>SANTANDER</td>\n",
              "      <td>LOS SANTOS</td>\n",
              "      <td>68</td>\n",
              "      <td>68418</td>\n",
              "      <td>2023-06-30T00:00:00.000</td>\n",
              "      <td>286560</td>\n",
              "      <td>49692</td>\n",
              "      <td>223875000000</td>\n",
              "      <td>416</td>\n",
              "      <td>83676</td>\n",
              "    </tr>\n",
              "    <tr>\n",
              "      <th>49</th>\n",
              "      <td>SAN FERNANDO</td>\n",
              "      <td>Solar</td>\n",
              "      <td>61.00</td>\n",
              "      <td>META</td>\n",
              "      <td>CASTILLA LA NUEVA</td>\n",
              "      <td>50</td>\n",
              "      <td>50150</td>\n",
              "      <td>2021-10-22T00:00:00.000</td>\n",
              "      <td>292800</td>\n",
              "      <td>50775</td>\n",
              "      <td>262300000000</td>\n",
              "      <td>425</td>\n",
              "      <td>85498</td>\n",
              "    </tr>\n",
              "    <tr>\n",
              "      <th>3</th>\n",
              "      <td>EL PASO SOLAR (ENEL GREEN POWER)</td>\n",
              "      <td>Solar</td>\n",
              "      <td>67.00</td>\n",
              "      <td>CESAR</td>\n",
              "      <td>EL PASO</td>\n",
              "      <td>20</td>\n",
              "      <td>20250</td>\n",
              "      <td>2019-04-05T00:00:00.000</td>\n",
              "      <td>321600</td>\n",
              "      <td>55769</td>\n",
              "      <td>288100000000</td>\n",
              "      <td>466</td>\n",
              "      <td>93907</td>\n",
              "    </tr>\n",
              "    <tr>\n",
              "      <th>128</th>\n",
              "      <td>PV LA MATA</td>\n",
              "      <td>Solar</td>\n",
              "      <td>80.00</td>\n",
              "      <td>CESAR</td>\n",
              "      <td>LA GLORIA</td>\n",
              "      <td>20</td>\n",
              "      <td>20383</td>\n",
              "      <td>2023-12-31T00:00:00.000</td>\n",
              "      <td>384000</td>\n",
              "      <td>66590</td>\n",
              "      <td>344000000000</td>\n",
              "      <td>557</td>\n",
              "      <td>112128</td>\n",
              "    </tr>\n",
              "    <tr>\n",
              "      <th>139</th>\n",
              "      <td>TEPUY</td>\n",
              "      <td>Solar</td>\n",
              "      <td>83.00</td>\n",
              "      <td>CALDAS</td>\n",
              "      <td>LA DORADA</td>\n",
              "      <td>17</td>\n",
              "      <td>17380</td>\n",
              "      <td>2023-07-31T00:00:00.000</td>\n",
              "      <td>398400</td>\n",
              "      <td>69087</td>\n",
              "      <td>311250000000</td>\n",
              "      <td>578</td>\n",
              "      <td>116333</td>\n",
              "    </tr>\n",
              "    <tr>\n",
              "      <th>107</th>\n",
              "      <td>RUBIALES</td>\n",
              "      <td>Solar</td>\n",
              "      <td>87.00</td>\n",
              "      <td>META</td>\n",
              "      <td>PUERTO GAITÁN</td>\n",
              "      <td>50</td>\n",
              "      <td>50568</td>\n",
              "      <td>2023-11-30T00:00:00.000</td>\n",
              "      <td>417600</td>\n",
              "      <td>72416</td>\n",
              "      <td>326250000000</td>\n",
              "      <td>606</td>\n",
              "      <td>121939</td>\n",
              "    </tr>\n",
              "    <tr>\n",
              "      <th>69</th>\n",
              "      <td>CSF SAN FELIPE (TRINA SOLAR)</td>\n",
              "      <td>Solar</td>\n",
              "      <td>90.00</td>\n",
              "      <td>TOLIMA</td>\n",
              "      <td>ARMERO</td>\n",
              "      <td>73</td>\n",
              "      <td>73055</td>\n",
              "      <td>2023-06-01T00:00:00.000</td>\n",
              "      <td>432000</td>\n",
              "      <td>74913</td>\n",
              "      <td>337500000000</td>\n",
              "      <td>626</td>\n",
              "      <td>126144</td>\n",
              "    </tr>\n",
              "    <tr>\n",
              "      <th>150</th>\n",
              "      <td>PARQUE SOLAR FOTOVOLTAICO FUNDACIÓN</td>\n",
              "      <td>Solar</td>\n",
              "      <td>99.00</td>\n",
              "      <td>MAGDALENA</td>\n",
              "      <td>FUNDACIÓN</td>\n",
              "      <td>47</td>\n",
              "      <td>47288</td>\n",
              "      <td>2024-06-30T00:00:00.000</td>\n",
              "      <td>475200</td>\n",
              "      <td>82405</td>\n",
              "      <td>371250000000</td>\n",
              "      <td>689</td>\n",
              "      <td>138758</td>\n",
              "    </tr>\n",
              "    <tr>\n",
              "      <th>73</th>\n",
              "      <td>CSF CARTAGO (TRINA SOLAR)</td>\n",
              "      <td>Solar</td>\n",
              "      <td>99.00</td>\n",
              "      <td>VALLE DEL CAUCA</td>\n",
              "      <td>CARTAGO</td>\n",
              "      <td>76</td>\n",
              "      <td>76147</td>\n",
              "      <td>2023-07-01T00:00:00.000</td>\n",
              "      <td>475200</td>\n",
              "      <td>82405</td>\n",
              "      <td>371250000000</td>\n",
              "      <td>689</td>\n",
              "      <td>138758</td>\n",
              "    </tr>\n",
              "    <tr>\n",
              "      <th>146</th>\n",
              "      <td>ESCOBAL 1 AL 5</td>\n",
              "      <td>Solar</td>\n",
              "      <td>99.50</td>\n",
              "      <td>TOLIMA</td>\n",
              "      <td>ALVARADO</td>\n",
              "      <td>73</td>\n",
              "      <td>73026</td>\n",
              "      <td>2023-12-31T00:00:00.000</td>\n",
              "      <td>477600</td>\n",
              "      <td>82821</td>\n",
              "      <td>373125000000</td>\n",
              "      <td>693</td>\n",
              "      <td>139459</td>\n",
              "    </tr>\n",
              "    <tr>\n",
              "      <th>133</th>\n",
              "      <td>BOSQUES SOLARES DE BOLÍVAR (5X19.9)</td>\n",
              "      <td>Solar</td>\n",
              "      <td>99.50</td>\n",
              "      <td>ATLÁNTICO</td>\n",
              "      <td>SABANALARGA</td>\n",
              "      <td>8</td>\n",
              "      <td>8638</td>\n",
              "      <td>2023-12-31T00:00:00.000</td>\n",
              "      <td>477600</td>\n",
              "      <td>82821</td>\n",
              "      <td>373125000000</td>\n",
              "      <td>693</td>\n",
              "      <td>139459</td>\n",
              "    </tr>\n",
              "    <tr>\n",
              "      <th>81</th>\n",
              "      <td>CAMPANO (TRINA SOLAR)</td>\n",
              "      <td>Solar</td>\n",
              "      <td>99.90</td>\n",
              "      <td>CÓRDOBA</td>\n",
              "      <td>CHINÚ</td>\n",
              "      <td>23</td>\n",
              "      <td>23182</td>\n",
              "      <td>2023-09-30T00:00:00.000</td>\n",
              "      <td>479520</td>\n",
              "      <td>83154</td>\n",
              "      <td>374625000000</td>\n",
              "      <td>695</td>\n",
              "      <td>140020</td>\n",
              "    </tr>\n",
              "    <tr>\n",
              "      <th>129</th>\n",
              "      <td>PV LA UNIÓN</td>\n",
              "      <td>Solar</td>\n",
              "      <td>100.00</td>\n",
              "      <td>CÓRDOBA</td>\n",
              "      <td>MONTERÍA</td>\n",
              "      <td>23</td>\n",
              "      <td>23001</td>\n",
              "      <td>2023-12-31T00:00:00.000</td>\n",
              "      <td>480000</td>\n",
              "      <td>83237</td>\n",
              "      <td>375000000000</td>\n",
              "      <td>696</td>\n",
              "      <td>140160</td>\n",
              "    </tr>\n",
              "    <tr>\n",
              "      <th>109</th>\n",
              "      <td>PUERTA DE ORO Fase 1</td>\n",
              "      <td>Solar</td>\n",
              "      <td>120.00</td>\n",
              "      <td>CUNDINAMARCA</td>\n",
              "      <td>GUADUAS</td>\n",
              "      <td>25</td>\n",
              "      <td>25320</td>\n",
              "      <td>2999-12-31T00:00:00.000</td>\n",
              "      <td>576000</td>\n",
              "      <td>99884</td>\n",
              "      <td>450000000000</td>\n",
              "      <td>835</td>\n",
              "      <td>168192</td>\n",
              "    </tr>\n",
              "    <tr>\n",
              "      <th>127</th>\n",
              "      <td>APOTOLORRU (AES)</td>\n",
              "      <td>Eólico</td>\n",
              "      <td>75.00</td>\n",
              "      <td>LA GUAJIRA</td>\n",
              "      <td>URIBIA</td>\n",
              "      <td>44</td>\n",
              "      <td>44847</td>\n",
              "      <td>2024-01-01T00:00:00.000</td>\n",
              "      <td>720000</td>\n",
              "      <td>124855</td>\n",
              "      <td>281250000000</td>\n",
              "      <td>209</td>\n",
              "      <td>210240</td>\n",
              "    </tr>\n",
              "    <tr>\n",
              "      <th>143</th>\n",
              "      <td>ACACIAS 2 (CELSIA)</td>\n",
              "      <td>Eólico</td>\n",
              "      <td>80.00</td>\n",
              "      <td>LA GUAJIRA</td>\n",
              "      <td>MAICAO</td>\n",
              "      <td>44</td>\n",
              "      <td>44430</td>\n",
              "      <td>2023-11-01T00:00:00.000</td>\n",
              "      <td>768000</td>\n",
              "      <td>133179</td>\n",
              "      <td>300000000000</td>\n",
              "      <td>222</td>\n",
              "      <td>224256</td>\n",
              "    </tr>\n",
              "    <tr>\n",
              "      <th>140</th>\n",
              "      <td>SHANGRI-LA</td>\n",
              "      <td>Solar</td>\n",
              "      <td>160.00</td>\n",
              "      <td>TOLIMA</td>\n",
              "      <td>IBAGUÉ</td>\n",
              "      <td>73</td>\n",
              "      <td>73001</td>\n",
              "      <td>2023-06-30T00:00:00.000</td>\n",
              "      <td>768000</td>\n",
              "      <td>133179</td>\n",
              "      <td>600000000000</td>\n",
              "      <td>1114</td>\n",
              "      <td>224256</td>\n",
              "    </tr>\n",
              "    <tr>\n",
              "      <th>58</th>\n",
              "      <td>LA LOMA SOLAR (ENEL GREEN POWER)</td>\n",
              "      <td>Solar</td>\n",
              "      <td>170.00</td>\n",
              "      <td>CESAR</td>\n",
              "      <td>EL PASO</td>\n",
              "      <td>20</td>\n",
              "      <td>20250</td>\n",
              "      <td>2021-12-31T00:00:00.000</td>\n",
              "      <td>816000</td>\n",
              "      <td>141503</td>\n",
              "      <td>731000000000</td>\n",
              "      <td>1183</td>\n",
              "      <td>238272</td>\n",
              "    </tr>\n",
              "    <tr>\n",
              "      <th>142</th>\n",
              "      <td>PUERTA DE ORO Fase 2</td>\n",
              "      <td>Solar</td>\n",
              "      <td>180.00</td>\n",
              "      <td>CUNDINAMARCA</td>\n",
              "      <td>GUADUAS</td>\n",
              "      <td>25</td>\n",
              "      <td>25320</td>\n",
              "      <td>2999-12-31T00:00:00.000</td>\n",
              "      <td>864000</td>\n",
              "      <td>149827</td>\n",
              "      <td>675000000000</td>\n",
              "      <td>1253</td>\n",
              "      <td>252288</td>\n",
              "    </tr>\n",
              "    <tr>\n",
              "      <th>141</th>\n",
              "      <td>CHEMESKY (ENEL GREEN POWER)</td>\n",
              "      <td>Eólico</td>\n",
              "      <td>98.85</td>\n",
              "      <td>LA GUAJIRA</td>\n",
              "      <td>URIBIA</td>\n",
              "      <td>44</td>\n",
              "      <td>44847</td>\n",
              "      <td>2024-01-01T00:00:00.000</td>\n",
              "      <td>948960</td>\n",
              "      <td>164560</td>\n",
              "      <td>370688000000</td>\n",
              "      <td>275</td>\n",
              "      <td>277096</td>\n",
              "    </tr>\n",
              "    <tr>\n",
              "      <th>110</th>\n",
              "      <td>GUAYEPO FASE I</td>\n",
              "      <td>Solar</td>\n",
              "      <td>200.00</td>\n",
              "      <td>ATLÁNTICO</td>\n",
              "      <td>SABANALARGA</td>\n",
              "      <td>8</td>\n",
              "      <td>8638</td>\n",
              "      <td>2023-05-31T00:00:00.000</td>\n",
              "      <td>960000</td>\n",
              "      <td>166474</td>\n",
              "      <td>750000000000</td>\n",
              "      <td>1392</td>\n",
              "      <td>280320</td>\n",
              "    </tr>\n",
              "    <tr>\n",
              "      <th>149</th>\n",
              "      <td>SABANALARGA</td>\n",
              "      <td>Solar</td>\n",
              "      <td>200.00</td>\n",
              "      <td>ATLÁNTICO</td>\n",
              "      <td>SABANALARGA</td>\n",
              "      <td>8</td>\n",
              "      <td>8638</td>\n",
              "      <td>2024-04-09T00:00:00.000</td>\n",
              "      <td>960000</td>\n",
              "      <td>166474</td>\n",
              "      <td>750000000000</td>\n",
              "      <td>1392</td>\n",
              "      <td>280320</td>\n",
              "    </tr>\n",
              "    <tr>\n",
              "      <th>137</th>\n",
              "      <td>GUAYEPO FASE II</td>\n",
              "      <td>Solar</td>\n",
              "      <td>200.00</td>\n",
              "      <td>ATLÁNTICO</td>\n",
              "      <td>SABANALARGA</td>\n",
              "      <td>8</td>\n",
              "      <td>8638</td>\n",
              "      <td>2023-12-31T00:00:00.000</td>\n",
              "      <td>960000</td>\n",
              "      <td>166474</td>\n",
              "      <td>750000000000</td>\n",
              "      <td>1392</td>\n",
              "      <td>280320</td>\n",
              "    </tr>\n",
              "    <tr>\n",
              "      <th>138</th>\n",
              "      <td>SIERRA</td>\n",
              "      <td>Solar</td>\n",
              "      <td>200.00</td>\n",
              "      <td>ANTIOQUIA</td>\n",
              "      <td>PUERTO NARE</td>\n",
              "      <td>5</td>\n",
              "      <td>5585</td>\n",
              "      <td>2023-05-12T00:00:00.000</td>\n",
              "      <td>960000</td>\n",
              "      <td>166474</td>\n",
              "      <td>750000000000</td>\n",
              "      <td>1392</td>\n",
              "      <td>280320</td>\n",
              "    </tr>\n",
              "    <tr>\n",
              "      <th>126</th>\n",
              "      <td>CASA ELÉCTRICA (AES)</td>\n",
              "      <td>Eólico</td>\n",
              "      <td>176.30</td>\n",
              "      <td>LA GUAJIRA</td>\n",
              "      <td>URIBIA</td>\n",
              "      <td>44</td>\n",
              "      <td>44847</td>\n",
              "      <td>2024-01-01T00:00:00.000</td>\n",
              "      <td>1692480</td>\n",
              "      <td>293494</td>\n",
              "      <td>661125000000</td>\n",
              "      <td>490</td>\n",
              "      <td>494204</td>\n",
              "    </tr>\n",
              "    <tr>\n",
              "      <th>124</th>\n",
              "      <td>WINDPESHI</td>\n",
              "      <td>Eólico</td>\n",
              "      <td>195.03</td>\n",
              "      <td>LA GUAJIRA</td>\n",
              "      <td>MAICAO</td>\n",
              "      <td>44</td>\n",
              "      <td>44430</td>\n",
              "      <td>2024-01-01T00:00:00.000</td>\n",
              "      <td>1872288</td>\n",
              "      <td>324674</td>\n",
              "      <td>731363000000</td>\n",
              "      <td>542</td>\n",
              "      <td>546708</td>\n",
              "    </tr>\n",
              "    <tr>\n",
              "      <th>144</th>\n",
              "      <td>TUMAWIND (ENEL GREEN POWER)</td>\n",
              "      <td>Eólico</td>\n",
              "      <td>197.77</td>\n",
              "      <td>LA GUAJIRA</td>\n",
              "      <td>URIBIA</td>\n",
              "      <td>44</td>\n",
              "      <td>44847</td>\n",
              "      <td>2024-01-01T00:00:00.000</td>\n",
              "      <td>1898592</td>\n",
              "      <td>329236</td>\n",
              "      <td>741638000000</td>\n",
              "      <td>550</td>\n",
              "      <td>554389</td>\n",
              "    </tr>\n",
              "    <tr>\n",
              "      <th>89</th>\n",
              "      <td>ALPHA (EDPR)</td>\n",
              "      <td>Eólico</td>\n",
              "      <td>212.00</td>\n",
              "      <td>LA GUAJIRA</td>\n",
              "      <td>MAICAO</td>\n",
              "      <td>44</td>\n",
              "      <td>44430</td>\n",
              "      <td>2022-12-31T00:00:00.000</td>\n",
              "      <td>2035200</td>\n",
              "      <td>352925</td>\n",
              "      <td>795000000000</td>\n",
              "      <td>589</td>\n",
              "      <td>594278</td>\n",
              "    </tr>\n",
              "    <tr>\n",
              "      <th>145</th>\n",
              "      <td>CAMELIA (CELSIA)</td>\n",
              "      <td>Eólico</td>\n",
              "      <td>250.00</td>\n",
              "      <td>LA GUAJIRA</td>\n",
              "      <td>URIBIA</td>\n",
              "      <td>44</td>\n",
              "      <td>44847</td>\n",
              "      <td>2023-12-01T00:00:00.000</td>\n",
              "      <td>2400000</td>\n",
              "      <td>416185</td>\n",
              "      <td>937500000000</td>\n",
              "      <td>695</td>\n",
              "      <td>700800</td>\n",
              "    </tr>\n",
              "    <tr>\n",
              "      <th>88</th>\n",
              "      <td>BETHA (EDPR)</td>\n",
              "      <td>Eólico</td>\n",
              "      <td>270.00</td>\n",
              "      <td>LA GUAJIRA</td>\n",
              "      <td>MAICAO</td>\n",
              "      <td>44</td>\n",
              "      <td>44430</td>\n",
              "      <td>2022-09-30T00:00:00.000</td>\n",
              "      <td>2592000</td>\n",
              "      <td>449480</td>\n",
              "      <td>1012500000000</td>\n",
              "      <td>751</td>\n",
              "      <td>756864</td>\n",
              "    </tr>\n",
              "    <tr>\n",
              "      <th>132</th>\n",
              "      <td>SEBASTOSOL</td>\n",
              "      <td>Solar</td>\n",
              "      <td>700.00</td>\n",
              "      <td>SANTANDER</td>\n",
              "      <td>CIMITARRA</td>\n",
              "      <td>68</td>\n",
              "      <td>68190</td>\n",
              "      <td>2023-12-31T00:00:00.000</td>\n",
              "      <td>3360000</td>\n",
              "      <td>582659</td>\n",
              "      <td>2625000000000</td>\n",
              "      <td>4872</td>\n",
              "      <td>981120</td>\n",
              "    </tr>\n",
              "  </tbody>\n",
              "</table>\n",
              "</div>\n",
              "      <button class=\"colab-df-convert\" onclick=\"convertToInteractive('df-b6a4c3ab-3136-49d4-865d-cbb60d41ad40')\"\n",
              "              title=\"Convert this dataframe to an interactive table.\"\n",
              "              style=\"display:none;\">\n",
              "        \n",
              "  <svg xmlns=\"http://www.w3.org/2000/svg\" height=\"24px\"viewBox=\"0 0 24 24\"\n",
              "       width=\"24px\">\n",
              "    <path d=\"M0 0h24v24H0V0z\" fill=\"none\"/>\n",
              "    <path d=\"M18.56 5.44l.94 2.06.94-2.06 2.06-.94-2.06-.94-.94-2.06-.94 2.06-2.06.94zm-11 1L8.5 8.5l.94-2.06 2.06-.94-2.06-.94L8.5 2.5l-.94 2.06-2.06.94zm10 10l.94 2.06.94-2.06 2.06-.94-2.06-.94-.94-2.06-.94 2.06-2.06.94z\"/><path d=\"M17.41 7.96l-1.37-1.37c-.4-.4-.92-.59-1.43-.59-.52 0-1.04.2-1.43.59L10.3 9.45l-7.72 7.72c-.78.78-.78 2.05 0 2.83L4 21.41c.39.39.9.59 1.41.59.51 0 1.02-.2 1.41-.59l7.78-7.78 2.81-2.81c.8-.78.8-2.07 0-2.86zM5.41 20L4 18.59l7.72-7.72 1.47 1.35L5.41 20z\"/>\n",
              "  </svg>\n",
              "      </button>\n",
              "      \n",
              "  <style>\n",
              "    .colab-df-container {\n",
              "      display:flex;\n",
              "      flex-wrap:wrap;\n",
              "      gap: 12px;\n",
              "    }\n",
              "\n",
              "    .colab-df-convert {\n",
              "      background-color: #E8F0FE;\n",
              "      border: none;\n",
              "      border-radius: 50%;\n",
              "      cursor: pointer;\n",
              "      display: none;\n",
              "      fill: #1967D2;\n",
              "      height: 32px;\n",
              "      padding: 0 0 0 0;\n",
              "      width: 32px;\n",
              "    }\n",
              "\n",
              "    .colab-df-convert:hover {\n",
              "      background-color: #E2EBFA;\n",
              "      box-shadow: 0px 1px 2px rgba(60, 64, 67, 0.3), 0px 1px 3px 1px rgba(60, 64, 67, 0.15);\n",
              "      fill: #174EA6;\n",
              "    }\n",
              "\n",
              "    [theme=dark] .colab-df-convert {\n",
              "      background-color: #3B4455;\n",
              "      fill: #D2E3FC;\n",
              "    }\n",
              "\n",
              "    [theme=dark] .colab-df-convert:hover {\n",
              "      background-color: #434B5C;\n",
              "      box-shadow: 0px 1px 3px 1px rgba(0, 0, 0, 0.15);\n",
              "      filter: drop-shadow(0px 1px 2px rgba(0, 0, 0, 0.3));\n",
              "      fill: #FFFFFF;\n",
              "    }\n",
              "  </style>\n",
              "\n",
              "      <script>\n",
              "        const buttonEl =\n",
              "          document.querySelector('#df-b6a4c3ab-3136-49d4-865d-cbb60d41ad40 button.colab-df-convert');\n",
              "        buttonEl.style.display =\n",
              "          google.colab.kernel.accessAllowed ? 'block' : 'none';\n",
              "\n",
              "        async function convertToInteractive(key) {\n",
              "          const element = document.querySelector('#df-b6a4c3ab-3136-49d4-865d-cbb60d41ad40');\n",
              "          const dataTable =\n",
              "            await google.colab.kernel.invokeFunction('convertToInteractive',\n",
              "                                                     [key], {});\n",
              "          if (!dataTable) return;\n",
              "\n",
              "          const docLinkHtml = 'Like what you see? Visit the ' +\n",
              "            '<a target=\"_blank\" href=https://colab.research.google.com/notebooks/data_table.ipynb>data table notebook</a>'\n",
              "            + ' to learn more about interactive tables.';\n",
              "          element.innerHTML = '';\n",
              "          dataTable['output_type'] = 'display_data';\n",
              "          await google.colab.output.renderOutput(dataTable, element);\n",
              "          const docLink = document.createElement('div');\n",
              "          docLink.innerHTML = docLinkHtml;\n",
              "          element.appendChild(docLink);\n",
              "        }\n",
              "      </script>\n",
              "    </div>\n",
              "  </div>\n",
              "  "
            ]
          },
          "metadata": {},
          "execution_count": 912
        }
      ]
    },
    {
      "cell_type": "markdown",
      "source": [
        "En esta sección Llamamos a ordenar los datos de la columna usuario, para poder saber el orden de los usuarios, para poder hacer una buena limpieza de datos y que no tengamos en la data los datos atipicos que teniamos antes."
      ],
      "metadata": {
        "id": "3gX0vjdcwXD_"
      }
    },
    {
      "cell_type": "code",
      "source": [
        "Ubicacion_sin_out = ((data['Usuarios'] >= BI_Calculado) & (data['Usuarios'] <= BS_Calculado))\n",
        "sin_outliers = data[Ubicacion_sin_out]\n",
        "sin_outliers"
      ],
      "metadata": {
        "colab": {
          "base_uri": "https://localhost:8080/",
          "height": 659
        },
        "id": "Oc1ISiQwL3NM",
        "outputId": "5c2ebdba-9c2f-429a-fd2d-13fec616afbb"
      },
      "execution_count": null,
      "outputs": [
        {
          "output_type": "execute_result",
          "data": {
            "text/plain": [
              "                            Proyecto    Tipo  Capacidad     Departamento  \\\n",
              "0                          JEPIRACHI  Eólico      18.42       LA GUAJIRA   \n",
              "1           AUTOG CELSIA SOLAR YUMBO   Solar       9.80  VALLE DEL CAUCA   \n",
              "2               CELSIA SOLAR BOLIVAR   Solar       8.06          BOLÍVAR   \n",
              "4                 SOLAR CASTILLA ECP   Solar      20.00             META   \n",
              "5    AGPE TECNOEMPAQUES DE OCCIDENTE   Solar       0.10  VALLE DEL CAUCA   \n",
              "..                               ...     ...        ...              ...   \n",
              "153                   BUGA 1 PARTE 2   Solar       5.94  VALLE DEL CAUCA   \n",
              "154                   BUGA 1 PARTE 1   Solar       3.96  VALLE DEL CAUCA   \n",
              "155                    REFINERÍA GRB   Solar      21.00        SANTANDER   \n",
              "156      EMSA GD Y AG (34 Proyectos)   Solar       1.90             META   \n",
              "157     ENELAR GD Y AG (4 Proyectos)   Solar       0.11           ARAUCA   \n",
              "\n",
              "             Municipio  Código Departamento  Código Municipio  \\\n",
              "0               URIBIA                   44             44847   \n",
              "1                YUMBO                   76             76892   \n",
              "2           SANTA ROSA                   13             13683   \n",
              "4    CASTILLA LA NUEVA                   50             50150   \n",
              "5                 CALI                   76             76001   \n",
              "..                 ...                  ...               ...   \n",
              "153        SANTA LUCIA                   76                76   \n",
              "154        SANTA LUCIA                   76                76   \n",
              "155    BARRANCABERMEJA                   68             68081   \n",
              "156      VILLAVICENCIO                   50             50001   \n",
              "157             ARAUCA                   81             81001   \n",
              "\n",
              "          Fecha estimada FPO  Energía [kWh/día]  Usuarios  \\\n",
              "0    2004-04-27T00:00:00.000             176832     30665   \n",
              "1    2017-03-09T00:00:00.000              47040      8157   \n",
              "2    2019-02-01T00:00:00.000              38688      6709   \n",
              "4    2019-10-10T00:00:00.000              96000     16647   \n",
              "5    2019-12-19T00:00:00.000                480        83   \n",
              "..                       ...                ...       ...   \n",
              "153  2022-12-31T00:00:00.000              28512      4944   \n",
              "154  2022-07-31T00:00:00.000              19008      3296   \n",
              "155  2023-12-31T00:00:00.000             100800     17480   \n",
              "156  2022-05-31T00:00:00.000               9120      1582   \n",
              "157  2022-05-31T00:00:00.000                528        92   \n",
              "\n",
              "     Inversión estimada [COP]  Empleos estimados  Emisiones CO2 [Ton/año]  \n",
              "0                 79206000000                 51                    51635  \n",
              "1                 42140000000                 68                    13736  \n",
              "2                 34658000000                 56                    11297  \n",
              "4                 86000000000                139                    28032  \n",
              "5                   430000000                  1                      140  \n",
              "..                        ...                ...                      ...  \n",
              "153               22275000000                 41                     8326  \n",
              "154               14850000000                 28                     5550  \n",
              "155               78750000000                146                    29434  \n",
              "156                8170000000                 13                     2663  \n",
              "157                 473000000                  1                      154  \n",
              "\n",
              "[125 rows x 13 columns]"
            ],
            "text/html": [
              "\n",
              "  <div id=\"df-d4ec58c3-f44f-4040-8e6f-6121cb772df1\">\n",
              "    <div class=\"colab-df-container\">\n",
              "      <div>\n",
              "<style scoped>\n",
              "    .dataframe tbody tr th:only-of-type {\n",
              "        vertical-align: middle;\n",
              "    }\n",
              "\n",
              "    .dataframe tbody tr th {\n",
              "        vertical-align: top;\n",
              "    }\n",
              "\n",
              "    .dataframe thead th {\n",
              "        text-align: right;\n",
              "    }\n",
              "</style>\n",
              "<table border=\"1\" class=\"dataframe\">\n",
              "  <thead>\n",
              "    <tr style=\"text-align: right;\">\n",
              "      <th></th>\n",
              "      <th>Proyecto</th>\n",
              "      <th>Tipo</th>\n",
              "      <th>Capacidad</th>\n",
              "      <th>Departamento</th>\n",
              "      <th>Municipio</th>\n",
              "      <th>Código Departamento</th>\n",
              "      <th>Código Municipio</th>\n",
              "      <th>Fecha estimada FPO</th>\n",
              "      <th>Energía [kWh/día]</th>\n",
              "      <th>Usuarios</th>\n",
              "      <th>Inversión estimada [COP]</th>\n",
              "      <th>Empleos estimados</th>\n",
              "      <th>Emisiones CO2 [Ton/año]</th>\n",
              "    </tr>\n",
              "  </thead>\n",
              "  <tbody>\n",
              "    <tr>\n",
              "      <th>0</th>\n",
              "      <td>JEPIRACHI</td>\n",
              "      <td>Eólico</td>\n",
              "      <td>18.42</td>\n",
              "      <td>LA GUAJIRA</td>\n",
              "      <td>URIBIA</td>\n",
              "      <td>44</td>\n",
              "      <td>44847</td>\n",
              "      <td>2004-04-27T00:00:00.000</td>\n",
              "      <td>176832</td>\n",
              "      <td>30665</td>\n",
              "      <td>79206000000</td>\n",
              "      <td>51</td>\n",
              "      <td>51635</td>\n",
              "    </tr>\n",
              "    <tr>\n",
              "      <th>1</th>\n",
              "      <td>AUTOG CELSIA SOLAR YUMBO</td>\n",
              "      <td>Solar</td>\n",
              "      <td>9.80</td>\n",
              "      <td>VALLE DEL CAUCA</td>\n",
              "      <td>YUMBO</td>\n",
              "      <td>76</td>\n",
              "      <td>76892</td>\n",
              "      <td>2017-03-09T00:00:00.000</td>\n",
              "      <td>47040</td>\n",
              "      <td>8157</td>\n",
              "      <td>42140000000</td>\n",
              "      <td>68</td>\n",
              "      <td>13736</td>\n",
              "    </tr>\n",
              "    <tr>\n",
              "      <th>2</th>\n",
              "      <td>CELSIA SOLAR BOLIVAR</td>\n",
              "      <td>Solar</td>\n",
              "      <td>8.06</td>\n",
              "      <td>BOLÍVAR</td>\n",
              "      <td>SANTA ROSA</td>\n",
              "      <td>13</td>\n",
              "      <td>13683</td>\n",
              "      <td>2019-02-01T00:00:00.000</td>\n",
              "      <td>38688</td>\n",
              "      <td>6709</td>\n",
              "      <td>34658000000</td>\n",
              "      <td>56</td>\n",
              "      <td>11297</td>\n",
              "    </tr>\n",
              "    <tr>\n",
              "      <th>4</th>\n",
              "      <td>SOLAR CASTILLA ECP</td>\n",
              "      <td>Solar</td>\n",
              "      <td>20.00</td>\n",
              "      <td>META</td>\n",
              "      <td>CASTILLA LA NUEVA</td>\n",
              "      <td>50</td>\n",
              "      <td>50150</td>\n",
              "      <td>2019-10-10T00:00:00.000</td>\n",
              "      <td>96000</td>\n",
              "      <td>16647</td>\n",
              "      <td>86000000000</td>\n",
              "      <td>139</td>\n",
              "      <td>28032</td>\n",
              "    </tr>\n",
              "    <tr>\n",
              "      <th>5</th>\n",
              "      <td>AGPE TECNOEMPAQUES DE OCCIDENTE</td>\n",
              "      <td>Solar</td>\n",
              "      <td>0.10</td>\n",
              "      <td>VALLE DEL CAUCA</td>\n",
              "      <td>CALI</td>\n",
              "      <td>76</td>\n",
              "      <td>76001</td>\n",
              "      <td>2019-12-19T00:00:00.000</td>\n",
              "      <td>480</td>\n",
              "      <td>83</td>\n",
              "      <td>430000000</td>\n",
              "      <td>1</td>\n",
              "      <td>140</td>\n",
              "    </tr>\n",
              "    <tr>\n",
              "      <th>...</th>\n",
              "      <td>...</td>\n",
              "      <td>...</td>\n",
              "      <td>...</td>\n",
              "      <td>...</td>\n",
              "      <td>...</td>\n",
              "      <td>...</td>\n",
              "      <td>...</td>\n",
              "      <td>...</td>\n",
              "      <td>...</td>\n",
              "      <td>...</td>\n",
              "      <td>...</td>\n",
              "      <td>...</td>\n",
              "      <td>...</td>\n",
              "    </tr>\n",
              "    <tr>\n",
              "      <th>153</th>\n",
              "      <td>BUGA 1 PARTE 2</td>\n",
              "      <td>Solar</td>\n",
              "      <td>5.94</td>\n",
              "      <td>VALLE DEL CAUCA</td>\n",
              "      <td>SANTA LUCIA</td>\n",
              "      <td>76</td>\n",
              "      <td>76</td>\n",
              "      <td>2022-12-31T00:00:00.000</td>\n",
              "      <td>28512</td>\n",
              "      <td>4944</td>\n",
              "      <td>22275000000</td>\n",
              "      <td>41</td>\n",
              "      <td>8326</td>\n",
              "    </tr>\n",
              "    <tr>\n",
              "      <th>154</th>\n",
              "      <td>BUGA 1 PARTE 1</td>\n",
              "      <td>Solar</td>\n",
              "      <td>3.96</td>\n",
              "      <td>VALLE DEL CAUCA</td>\n",
              "      <td>SANTA LUCIA</td>\n",
              "      <td>76</td>\n",
              "      <td>76</td>\n",
              "      <td>2022-07-31T00:00:00.000</td>\n",
              "      <td>19008</td>\n",
              "      <td>3296</td>\n",
              "      <td>14850000000</td>\n",
              "      <td>28</td>\n",
              "      <td>5550</td>\n",
              "    </tr>\n",
              "    <tr>\n",
              "      <th>155</th>\n",
              "      <td>REFINERÍA GRB</td>\n",
              "      <td>Solar</td>\n",
              "      <td>21.00</td>\n",
              "      <td>SANTANDER</td>\n",
              "      <td>BARRANCABERMEJA</td>\n",
              "      <td>68</td>\n",
              "      <td>68081</td>\n",
              "      <td>2023-12-31T00:00:00.000</td>\n",
              "      <td>100800</td>\n",
              "      <td>17480</td>\n",
              "      <td>78750000000</td>\n",
              "      <td>146</td>\n",
              "      <td>29434</td>\n",
              "    </tr>\n",
              "    <tr>\n",
              "      <th>156</th>\n",
              "      <td>EMSA GD Y AG (34 Proyectos)</td>\n",
              "      <td>Solar</td>\n",
              "      <td>1.90</td>\n",
              "      <td>META</td>\n",
              "      <td>VILLAVICENCIO</td>\n",
              "      <td>50</td>\n",
              "      <td>50001</td>\n",
              "      <td>2022-05-31T00:00:00.000</td>\n",
              "      <td>9120</td>\n",
              "      <td>1582</td>\n",
              "      <td>8170000000</td>\n",
              "      <td>13</td>\n",
              "      <td>2663</td>\n",
              "    </tr>\n",
              "    <tr>\n",
              "      <th>157</th>\n",
              "      <td>ENELAR GD Y AG (4 Proyectos)</td>\n",
              "      <td>Solar</td>\n",
              "      <td>0.11</td>\n",
              "      <td>ARAUCA</td>\n",
              "      <td>ARAUCA</td>\n",
              "      <td>81</td>\n",
              "      <td>81001</td>\n",
              "      <td>2022-05-31T00:00:00.000</td>\n",
              "      <td>528</td>\n",
              "      <td>92</td>\n",
              "      <td>473000000</td>\n",
              "      <td>1</td>\n",
              "      <td>154</td>\n",
              "    </tr>\n",
              "  </tbody>\n",
              "</table>\n",
              "<p>125 rows × 13 columns</p>\n",
              "</div>\n",
              "      <button class=\"colab-df-convert\" onclick=\"convertToInteractive('df-d4ec58c3-f44f-4040-8e6f-6121cb772df1')\"\n",
              "              title=\"Convert this dataframe to an interactive table.\"\n",
              "              style=\"display:none;\">\n",
              "        \n",
              "  <svg xmlns=\"http://www.w3.org/2000/svg\" height=\"24px\"viewBox=\"0 0 24 24\"\n",
              "       width=\"24px\">\n",
              "    <path d=\"M0 0h24v24H0V0z\" fill=\"none\"/>\n",
              "    <path d=\"M18.56 5.44l.94 2.06.94-2.06 2.06-.94-2.06-.94-.94-2.06-.94 2.06-2.06.94zm-11 1L8.5 8.5l.94-2.06 2.06-.94-2.06-.94L8.5 2.5l-.94 2.06-2.06.94zm10 10l.94 2.06.94-2.06 2.06-.94-2.06-.94-.94-2.06-.94 2.06-2.06.94z\"/><path d=\"M17.41 7.96l-1.37-1.37c-.4-.4-.92-.59-1.43-.59-.52 0-1.04.2-1.43.59L10.3 9.45l-7.72 7.72c-.78.78-.78 2.05 0 2.83L4 21.41c.39.39.9.59 1.41.59.51 0 1.02-.2 1.41-.59l7.78-7.78 2.81-2.81c.8-.78.8-2.07 0-2.86zM5.41 20L4 18.59l7.72-7.72 1.47 1.35L5.41 20z\"/>\n",
              "  </svg>\n",
              "      </button>\n",
              "      \n",
              "  <style>\n",
              "    .colab-df-container {\n",
              "      display:flex;\n",
              "      flex-wrap:wrap;\n",
              "      gap: 12px;\n",
              "    }\n",
              "\n",
              "    .colab-df-convert {\n",
              "      background-color: #E8F0FE;\n",
              "      border: none;\n",
              "      border-radius: 50%;\n",
              "      cursor: pointer;\n",
              "      display: none;\n",
              "      fill: #1967D2;\n",
              "      height: 32px;\n",
              "      padding: 0 0 0 0;\n",
              "      width: 32px;\n",
              "    }\n",
              "\n",
              "    .colab-df-convert:hover {\n",
              "      background-color: #E2EBFA;\n",
              "      box-shadow: 0px 1px 2px rgba(60, 64, 67, 0.3), 0px 1px 3px 1px rgba(60, 64, 67, 0.15);\n",
              "      fill: #174EA6;\n",
              "    }\n",
              "\n",
              "    [theme=dark] .colab-df-convert {\n",
              "      background-color: #3B4455;\n",
              "      fill: #D2E3FC;\n",
              "    }\n",
              "\n",
              "    [theme=dark] .colab-df-convert:hover {\n",
              "      background-color: #434B5C;\n",
              "      box-shadow: 0px 1px 3px 1px rgba(0, 0, 0, 0.15);\n",
              "      filter: drop-shadow(0px 1px 2px rgba(0, 0, 0, 0.3));\n",
              "      fill: #FFFFFF;\n",
              "    }\n",
              "  </style>\n",
              "\n",
              "      <script>\n",
              "        const buttonEl =\n",
              "          document.querySelector('#df-d4ec58c3-f44f-4040-8e6f-6121cb772df1 button.colab-df-convert');\n",
              "        buttonEl.style.display =\n",
              "          google.colab.kernel.accessAllowed ? 'block' : 'none';\n",
              "\n",
              "        async function convertToInteractive(key) {\n",
              "          const element = document.querySelector('#df-d4ec58c3-f44f-4040-8e6f-6121cb772df1');\n",
              "          const dataTable =\n",
              "            await google.colab.kernel.invokeFunction('convertToInteractive',\n",
              "                                                     [key], {});\n",
              "          if (!dataTable) return;\n",
              "\n",
              "          const docLinkHtml = 'Like what you see? Visit the ' +\n",
              "            '<a target=\"_blank\" href=https://colab.research.google.com/notebooks/data_table.ipynb>data table notebook</a>'\n",
              "            + ' to learn more about interactive tables.';\n",
              "          element.innerHTML = '';\n",
              "          dataTable['output_type'] = 'display_data';\n",
              "          await google.colab.output.renderOutput(dataTable, element);\n",
              "          const docLink = document.createElement('div');\n",
              "          docLink.innerHTML = docLinkHtml;\n",
              "          element.appendChild(docLink);\n",
              "        }\n",
              "      </script>\n",
              "    </div>\n",
              "  </div>\n",
              "  "
            ]
          },
          "metadata": {},
          "execution_count": 913
        }
      ]
    },
    {
      "cell_type": "markdown",
      "source": [
        "En esta seccion de la tabla le pedimos que nos de la ubicacion de lo data en la columna usuario, sin datos atipicos para poder realizar otra vez la caja de bigotes sin que nos salgan mas datos atipicos."
      ],
      "metadata": {
        "id": "XCOu-2QxxgYT"
      }
    },
    {
      "cell_type": "code",
      "source": [
        "plt.boxplot(x=sin_outliers['Usuarios'])\n",
        "plt.show(\"Usuarios\")\n",
        "plt.show(\"Cantidad\")"
      ],
      "metadata": {
        "colab": {
          "base_uri": "https://localhost:8080/",
          "height": 265
        },
        "id": "K6hzOpU-MC_-",
        "outputId": "34a5576b-e1ac-4093-e906-4a12d632e4c9"
      },
      "execution_count": null,
      "outputs": [
        {
          "output_type": "display_data",
          "data": {
            "text/plain": [
              "<Figure size 432x288 with 1 Axes>"
            ],
            "image/png": "[encoded data removed]"
          },
          "metadata": {
            "needs_background": "light"
          }
        }
      ]
    },
    {
      "cell_type": "markdown",
      "source": [
        "Luego de hacer todo el proceso de la limpieza de los datos, mostramos otra vez la caja de bigotes, para tratar de ver que no hayan datos atipicos, pero como podemos observar que todavia tenemos datos atipicos y tenemos que hacer otra vez la limpieza de datos."
      ],
      "metadata": {
        "id": "5fA_-at-9bPq"
      }
    },
    {
      "cell_type": "code",
      "source": [
        "Q1 = sin_outliers['Usuarios'].quantile(0.25)\n",
        "print(\"Primer Cuartil\", Q1)\n",
        "\n",
        "Q3 = sin_outliers['Usuarios'].quantile(0.75)\n",
        "print(\"Tercer Cuartil\", Q3)\n",
        "\n",
        "IQR = Q3 - Q1\n",
        "print(\"Rango Intercuartil\", IQR)\n",
        "\n",
        "Mediana = sin_outliers['Usuarios'].median()\n",
        "print(\"Mediana\", Mediana)\n",
        "\n",
        "Valor_Miniom = sin_outliers['Usuarios'].min()\n",
        "print(\"Valor Minimo\", Valor_Miniom)\n",
        "\n",
        "Valor_Maximo = sin_outliers['Usuarios'].max()\n",
        "print(\"Valor Máximo\", Valor_Maximo)"
      ],
      "metadata": {
        "colab": {
          "base_uri": "https://localhost:8080/"
        },
        "id": "O9y9igqjNRDK",
        "outputId": "413e5829-972a-4327-885b-5fc9ce1449c4"
      },
      "execution_count": null,
      "outputs": [
        {
          "output_type": "stream",
          "name": "stdout",
          "text": [
            "Primer Cuartil 1249.0\n",
            "Tercer Cuartil 11595.0\n",
            "Rango Intercuartil 10346.0\n",
            "Mediana 6975.0\n",
            "Valor Minimo 4\n",
            "Valor Máximo 37457\n"
          ]
        }
      ]
    },
    {
      "cell_type": "markdown",
      "source": [
        "Como podemos observar en la anterior sección tenemos demasiados datos atipicos, entonces aqui estamos haciendo la limpieza de los datos, tomamos los valores del primer y tercer cuartil, luego le sacamos la mediana y el valor minimo y el maximo para poder ver que datos tienen. "
      ],
      "metadata": {
        "id": "P-obcU2X_Xiv"
      }
    },
    {
      "cell_type": "code",
      "source": [
        "BI_Calculado = (Q1 - 1.5 * IQR)\n",
        "print(\"BI_CALCULADO \\n\", BI_Calculado)\n",
        "\n",
        "BS_Calculado = (Q3 + 1.5 * IQR)\n",
        "print(\"BS_CALCULADO \\n\", BS_Calculado)"
      ],
      "metadata": {
        "colab": {
          "base_uri": "https://localhost:8080/"
        },
        "id": "fWoQWhMMNowS",
        "outputId": "33f2609d-ab98-4502-c996-6f7faaf67ab0"
      },
      "execution_count": null,
      "outputs": [
        {
          "output_type": "stream",
          "name": "stdout",
          "text": [
            "BI_CALCULADO \n",
            " -14270.0\n",
            "BS_CALCULADO \n",
            " 27114.0\n"
          ]
        }
      ]
    },
    {
      "cell_type": "markdown",
      "source": [
        "En esta seccion estamos sacando una resta del primer cuartil menos el 1.5 de datos por el rango de caurtil, y luego hacemos otra operacion, el valor del tercer cuartil mas el 1.5 por el rengo de cuartil."
      ],
      "metadata": {
        "id": "rp2M_9WL_ejU"
      }
    },
    {
      "cell_type": "code",
      "source": [
        "ubicacion_outliers = ((sin_outliers['Usuarios'] < BI_Calculado) | (sin_outliers['Usuarios'] > BS_Calculado))\n",
        "print(\"\\n Ubicacion de Outliers \\n\", ubicacion_outliers)"
      ],
      "metadata": {
        "colab": {
          "base_uri": "https://localhost:8080/"
        },
        "id": "sAxqw5ySOIAn",
        "outputId": "8f8a2a55-ec27-45b8-ff06-8ed71404b21f"
      },
      "execution_count": null,
      "outputs": [
        {
          "output_type": "stream",
          "name": "stdout",
          "text": [
            "\n",
            " Ubicacion de Outliers \n",
            " 0       True\n",
            "1      False\n",
            "2      False\n",
            "4      False\n",
            "5      False\n",
            "       ...  \n",
            "153    False\n",
            "154    False\n",
            "155    False\n",
            "156    False\n",
            "157    False\n",
            "Name: Usuarios, Length: 125, dtype: bool\n"
          ]
        }
      ]
    },
    {
      "cell_type": "markdown",
      "source": [
        "Aqui estamos ubicando donde se encuentran los datos atipicos para saber que datos poder eliminar para que nos salgan datos atipicos en la proxima caja de bigote."
      ],
      "metadata": {
        "id": "PnNn8nmo_qIq"
      }
    },
    {
      "cell_type": "code",
      "source": [
        "outliers = sin_outliers[ubicacion_outliers]\n",
        "print(\"\\n Lista de Outliers \\n\", outliers)"
      ],
      "metadata": {
        "colab": {
          "base_uri": "https://localhost:8080/"
        },
        "id": "ji9fixQ4OO3H",
        "outputId": "27a75d25-b652-40b3-a0bc-d0a7dc2f47c5"
      },
      "execution_count": null,
      "outputs": [
        {
          "output_type": "stream",
          "name": "stdout",
          "text": [
            "\n",
            " Lista de Outliers \n",
            "                          Proyecto    Tipo  Capacidad        Departamento  \\\n",
            "0                       JEPIRACHI  Eólico      18.42          LA GUAJIRA   \n",
            "57        PARQUE EÓLICO GUAJIRA I  Eólico      19.90          LA GUAJIRA   \n",
            "125          SOL DE GAMARRITA 1-3   Solar      45.00               CESAR   \n",
            "147  Parque Fotovoltaico Sunnorte   Solar      35.00  NORTE DE SANTANDER   \n",
            "\n",
            "       Municipio  Código Departamento  Código Municipio  \\\n",
            "0         URIBIA                   44             44847   \n",
            "57        URIBIA                   44             44847   \n",
            "125    AGUACHICA                   20             20011   \n",
            "147  SANTA LUCIA                   54                54   \n",
            "\n",
            "          Fecha estimada FPO  Energía [kWh/día]  Usuarios  \\\n",
            "0    2004-04-27T00:00:00.000             176832     30665   \n",
            "57   2021-12-31T00:00:00.000             191040     33128   \n",
            "125  2023-02-09T00:00:00.000             216000     37457   \n",
            "147  2023-12-31T00:00:00.000             168000     29133   \n",
            "\n",
            "     Inversión estimada [COP]  Empleos estimados  Emisiones CO2 [Ton/año]  \n",
            "0                 79206000000                 51                    51635  \n",
            "57                85570000000                 55                    55784  \n",
            "125              168750000000                313                    63072  \n",
            "147              131250000000                244                    49056  \n"
          ]
        }
      ]
    },
    {
      "cell_type": "markdown",
      "source": [
        "Aqui llamamos la data para ver en donde se encuentran los datos atipicos, y saber columnas tenemos con los datos."
      ],
      "metadata": {
        "id": "FFV2I-C__7UK"
      }
    },
    {
      "cell_type": "code",
      "source": [
        "Outliers_Ordenados = outliers.sort_values(\"Usuarios\")\n",
        "Outliers_Ordenados"
      ],
      "metadata": {
        "colab": {
          "base_uri": "https://localhost:8080/",
          "height": 306
        },
        "id": "2ucUxZktORtX",
        "outputId": "f22372eb-5161-458c-f4e7-3acc5ad828e2"
      },
      "execution_count": null,
      "outputs": [
        {
          "output_type": "execute_result",
          "data": {
            "text/plain": [
              "                         Proyecto    Tipo  Capacidad        Departamento  \\\n",
              "147  Parque Fotovoltaico Sunnorte   Solar      35.00  NORTE DE SANTANDER   \n",
              "0                       JEPIRACHI  Eólico      18.42          LA GUAJIRA   \n",
              "57        PARQUE EÓLICO GUAJIRA I  Eólico      19.90          LA GUAJIRA   \n",
              "125          SOL DE GAMARRITA 1-3   Solar      45.00               CESAR   \n",
              "\n",
              "       Municipio  Código Departamento  Código Municipio  \\\n",
              "147  SANTA LUCIA                   54                54   \n",
              "0         URIBIA                   44             44847   \n",
              "57        URIBIA                   44             44847   \n",
              "125    AGUACHICA                   20             20011   \n",
              "\n",
              "          Fecha estimada FPO  Energía [kWh/día]  Usuarios  \\\n",
              "147  2023-12-31T00:00:00.000             168000     29133   \n",
              "0    2004-04-27T00:00:00.000             176832     30665   \n",
              "57   2021-12-31T00:00:00.000             191040     33128   \n",
              "125  2023-02-09T00:00:00.000             216000     37457   \n",
              "\n",
              "     Inversión estimada [COP]  Empleos estimados  Emisiones CO2 [Ton/año]  \n",
              "147              131250000000                244                    49056  \n",
              "0                 79206000000                 51                    51635  \n",
              "57                85570000000                 55                    55784  \n",
              "125              168750000000                313                    63072  "
            ],
            "text/html": [
              "\n",
              "  <div id=\"df-18fb7345-37de-4904-b912-b4d4d1a62ae3\">\n",
              "    <div class=\"colab-df-container\">\n",
              "      <div>\n",
              "<style scoped>\n",
              "    .dataframe tbody tr th:only-of-type {\n",
              "        vertical-align: middle;\n",
              "    }\n",
              "\n",
              "    .dataframe tbody tr th {\n",
              "        vertical-align: top;\n",
              "    }\n",
              "\n",
              "    .dataframe thead th {\n",
              "        text-align: right;\n",
              "    }\n",
              "</style>\n",
              "<table border=\"1\" class=\"dataframe\">\n",
              "  <thead>\n",
              "    <tr style=\"text-align: right;\">\n",
              "      <th></th>\n",
              "      <th>Proyecto</th>\n",
              "      <th>Tipo</th>\n",
              "      <th>Capacidad</th>\n",
              "      <th>Departamento</th>\n",
              "      <th>Municipio</th>\n",
              "      <th>Código Departamento</th>\n",
              "      <th>Código Municipio</th>\n",
              "      <th>Fecha estimada FPO</th>\n",
              "      <th>Energía [kWh/día]</th>\n",
              "      <th>Usuarios</th>\n",
              "      <th>Inversión estimada [COP]</th>\n",
              "      <th>Empleos estimados</th>\n",
              "      <th>Emisiones CO2 [Ton/año]</th>\n",
              "    </tr>\n",
              "  </thead>\n",
              "  <tbody>\n",
              "    <tr>\n",
              "      <th>147</th>\n",
              "      <td>Parque Fotovoltaico Sunnorte</td>\n",
              "      <td>Solar</td>\n",
              "      <td>35.00</td>\n",
              "      <td>NORTE DE SANTANDER</td>\n",
              "      <td>SANTA LUCIA</td>\n",
              "      <td>54</td>\n",
              "      <td>54</td>\n",
              "      <td>2023-12-31T00:00:00.000</td>\n",
              "      <td>168000</td>\n",
              "      <td>29133</td>\n",
              "      <td>131250000000</td>\n",
              "      <td>244</td>\n",
              "      <td>49056</td>\n",
              "    </tr>\n",
              "    <tr>\n",
              "      <th>0</th>\n",
              "      <td>JEPIRACHI</td>\n",
              "      <td>Eólico</td>\n",
              "      <td>18.42</td>\n",
              "      <td>LA GUAJIRA</td>\n",
              "      <td>URIBIA</td>\n",
              "      <td>44</td>\n",
              "      <td>44847</td>\n",
              "      <td>2004-04-27T00:00:00.000</td>\n",
              "      <td>176832</td>\n",
              "      <td>30665</td>\n",
              "      <td>79206000000</td>\n",
              "      <td>51</td>\n",
              "      <td>51635</td>\n",
              "    </tr>\n",
              "    <tr>\n",
              "      <th>57</th>\n",
              "      <td>PARQUE EÓLICO GUAJIRA I</td>\n",
              "      <td>Eólico</td>\n",
              "      <td>19.90</td>\n",
              "      <td>LA GUAJIRA</td>\n",
              "      <td>URIBIA</td>\n",
              "      <td>44</td>\n",
              "      <td>44847</td>\n",
              "      <td>2021-12-31T00:00:00.000</td>\n",
              "      <td>191040</td>\n",
              "      <td>33128</td>\n",
              "      <td>85570000000</td>\n",
              "      <td>55</td>\n",
              "      <td>55784</td>\n",
              "    </tr>\n",
              "    <tr>\n",
              "      <th>125</th>\n",
              "      <td>SOL DE GAMARRITA 1-3</td>\n",
              "      <td>Solar</td>\n",
              "      <td>45.00</td>\n",
              "      <td>CESAR</td>\n",
              "      <td>AGUACHICA</td>\n",
              "      <td>20</td>\n",
              "      <td>20011</td>\n",
              "      <td>2023-02-09T00:00:00.000</td>\n",
              "      <td>216000</td>\n",
              "      <td>37457</td>\n",
              "      <td>168750000000</td>\n",
              "      <td>313</td>\n",
              "      <td>63072</td>\n",
              "    </tr>\n",
              "  </tbody>\n",
              "</table>\n",
              "</div>\n",
              "      <button class=\"colab-df-convert\" onclick=\"convertToInteractive('df-18fb7345-37de-4904-b912-b4d4d1a62ae3')\"\n",
              "              title=\"Convert this dataframe to an interactive table.\"\n",
              "              style=\"display:none;\">\n",
              "        \n",
              "  <svg xmlns=\"http://www.w3.org/2000/svg\" height=\"24px\"viewBox=\"0 0 24 24\"\n",
              "       width=\"24px\">\n",
              "    <path d=\"M0 0h24v24H0V0z\" fill=\"none\"/>\n",
              "    <path d=\"M18.56 5.44l.94 2.06.94-2.06 2.06-.94-2.06-.94-.94-2.06-.94 2.06-2.06.94zm-11 1L8.5 8.5l.94-2.06 2.06-.94-2.06-.94L8.5 2.5l-.94 2.06-2.06.94zm10 10l.94 2.06.94-2.06 2.06-.94-2.06-.94-.94-2.06-.94 2.06-2.06.94z\"/><path d=\"M17.41 7.96l-1.37-1.37c-.4-.4-.92-.59-1.43-.59-.52 0-1.04.2-1.43.59L10.3 9.45l-7.72 7.72c-.78.78-.78 2.05 0 2.83L4 21.41c.39.39.9.59 1.41.59.51 0 1.02-.2 1.41-.59l7.78-7.78 2.81-2.81c.8-.78.8-2.07 0-2.86zM5.41 20L4 18.59l7.72-7.72 1.47 1.35L5.41 20z\"/>\n",
              "  </svg>\n",
              "      </button>\n",
              "      \n",
              "  <style>\n",
              "    .colab-df-container {\n",
              "      display:flex;\n",
              "      flex-wrap:wrap;\n",
              "      gap: 12px;\n",
              "    }\n",
              "\n",
              "    .colab-df-convert {\n",
              "      background-color: #E8F0FE;\n",
              "      border: none;\n",
              "      border-radius: 50%;\n",
              "      cursor: pointer;\n",
              "      display: none;\n",
              "      fill: #1967D2;\n",
              "      height: 32px;\n",
              "      padding: 0 0 0 0;\n",
              "      width: 32px;\n",
              "    }\n",
              "\n",
              "    .colab-df-convert:hover {\n",
              "      background-color: #E2EBFA;\n",
              "      box-shadow: 0px 1px 2px rgba(60, 64, 67, 0.3), 0px 1px 3px 1px rgba(60, 64, 67, 0.15);\n",
              "      fill: #174EA6;\n",
              "    }\n",
              "\n",
              "    [theme=dark] .colab-df-convert {\n",
              "      background-color: #3B4455;\n",
              "      fill: #D2E3FC;\n",
              "    }\n",
              "\n",
              "    [theme=dark] .colab-df-convert:hover {\n",
              "      background-color: #434B5C;\n",
              "      box-shadow: 0px 1px 3px 1px rgba(0, 0, 0, 0.15);\n",
              "      filter: drop-shadow(0px 1px 2px rgba(0, 0, 0, 0.3));\n",
              "      fill: #FFFFFF;\n",
              "    }\n",
              "  </style>\n",
              "\n",
              "      <script>\n",
              "        const buttonEl =\n",
              "          document.querySelector('#df-18fb7345-37de-4904-b912-b4d4d1a62ae3 button.colab-df-convert');\n",
              "        buttonEl.style.display =\n",
              "          google.colab.kernel.accessAllowed ? 'block' : 'none';\n",
              "\n",
              "        async function convertToInteractive(key) {\n",
              "          const element = document.querySelector('#df-18fb7345-37de-4904-b912-b4d4d1a62ae3');\n",
              "          const dataTable =\n",
              "            await google.colab.kernel.invokeFunction('convertToInteractive',\n",
              "                                                     [key], {});\n",
              "          if (!dataTable) return;\n",
              "\n",
              "          const docLinkHtml = 'Like what you see? Visit the ' +\n",
              "            '<a target=\"_blank\" href=https://colab.research.google.com/notebooks/data_table.ipynb>data table notebook</a>'\n",
              "            + ' to learn more about interactive tables.';\n",
              "          element.innerHTML = '';\n",
              "          dataTable['output_type'] = 'display_data';\n",
              "          await google.colab.output.renderOutput(dataTable, element);\n",
              "          const docLink = document.createElement('div');\n",
              "          docLink.innerHTML = docLinkHtml;\n",
              "          element.appendChild(docLink);\n",
              "        }\n",
              "      </script>\n",
              "    </div>\n",
              "  </div>\n",
              "  "
            ]
          },
          "metadata": {},
          "execution_count": 919
        }
      ]
    },
    {
      "cell_type": "markdown",
      "source": [
        "En esta sección Llamamos a ordenar los datos de la columna usuario, para poder saber el orden de los usuarios, para poder hacer una buena limpieza de datos y que no tengamos en la data los datos atipicos que teniamos antes."
      ],
      "metadata": {
        "id": "lJuPp6rGBAiX"
      }
    },
    {
      "cell_type": "code",
      "source": [
        "Ubicacion_sin_out = ((sin_outliers['Usuarios'] >= BI_Calculado) & (sin_outliers['Usuarios'] <= BS_Calculado))\n",
        "sin_outliers_2 = sin_outliers[Ubicacion_sin_out]\n",
        "sin_outliers_2"
      ],
      "metadata": {
        "colab": {
          "base_uri": "https://localhost:8080/",
          "height": 659
        },
        "id": "mRNnKqrQOaNv",
        "outputId": "a77bc29d-fb0a-44c8-fd6b-0a80852e176e"
      },
      "execution_count": null,
      "outputs": [
        {
          "output_type": "execute_result",
          "data": {
            "text/plain": [
              "                            Proyecto   Tipo  Capacidad  \\\n",
              "1           AUTOG CELSIA SOLAR YUMBO  Solar       9.80   \n",
              "2               CELSIA SOLAR BOLIVAR  Solar       8.06   \n",
              "4                 SOLAR CASTILLA ECP  Solar      20.00   \n",
              "5    AGPE TECNOEMPAQUES DE OCCIDENTE  Solar       0.10   \n",
              "6               RADAR FAC SAN ANDRÉS  Solar       0.01   \n",
              "..                               ...    ...        ...   \n",
              "153                   BUGA 1 PARTE 2  Solar       5.94   \n",
              "154                   BUGA 1 PARTE 1  Solar       3.96   \n",
              "155                    REFINERÍA GRB  Solar      21.00   \n",
              "156      EMSA GD Y AG (34 Proyectos)  Solar       1.90   \n",
              "157     ENELAR GD Y AG (4 Proyectos)  Solar       0.11   \n",
              "\n",
              "                                          Departamento          Municipio  \\\n",
              "1                                      VALLE DEL CAUCA              YUMBO   \n",
              "2                                              BOLÍVAR         SANTA ROSA   \n",
              "4                                                 META  CASTILLA LA NUEVA   \n",
              "5                                      VALLE DEL CAUCA               CALI   \n",
              "6    ARCHIPIÉLAGO DE SAN ANDRÉS, PROVIDENCIA Y SANT...         SAN ANDRÉS   \n",
              "..                                                 ...                ...   \n",
              "153                                    VALLE DEL CAUCA        SANTA LUCIA   \n",
              "154                                    VALLE DEL CAUCA        SANTA LUCIA   \n",
              "155                                          SANTANDER    BARRANCABERMEJA   \n",
              "156                                               META      VILLAVICENCIO   \n",
              "157                                             ARAUCA             ARAUCA   \n",
              "\n",
              "     Código Departamento  Código Municipio       Fecha estimada FPO  \\\n",
              "1                     76             76892  2017-03-09T00:00:00.000   \n",
              "2                     13             13683  2019-02-01T00:00:00.000   \n",
              "4                     50             50150  2019-10-10T00:00:00.000   \n",
              "5                     76             76001  2019-12-19T00:00:00.000   \n",
              "6                     88             88001  2019-12-30T00:00:00.000   \n",
              "..                   ...               ...                      ...   \n",
              "153                   76                76  2022-12-31T00:00:00.000   \n",
              "154                   76                76  2022-07-31T00:00:00.000   \n",
              "155                   68             68081  2023-12-31T00:00:00.000   \n",
              "156                   50             50001  2022-05-31T00:00:00.000   \n",
              "157                   81             81001  2022-05-31T00:00:00.000   \n",
              "\n",
              "     Energía [kWh/día]  Usuarios  Inversión estimada [COP]  Empleos estimados  \\\n",
              "1                47040      8157               42140000000                 68   \n",
              "2                38688      6709               34658000000                 56   \n",
              "4                96000     16647               86000000000                139   \n",
              "5                  480        83                 430000000                  1   \n",
              "6                   48         8                  43000000                  0   \n",
              "..                 ...       ...                       ...                ...   \n",
              "153              28512      4944               22275000000                 41   \n",
              "154              19008      3296               14850000000                 28   \n",
              "155             100800     17480               78750000000                146   \n",
              "156               9120      1582                8170000000                 13   \n",
              "157                528        92                 473000000                  1   \n",
              "\n",
              "     Emisiones CO2 [Ton/año]  \n",
              "1                      13736  \n",
              "2                      11297  \n",
              "4                      28032  \n",
              "5                        140  \n",
              "6                         14  \n",
              "..                       ...  \n",
              "153                     8326  \n",
              "154                     5550  \n",
              "155                    29434  \n",
              "156                     2663  \n",
              "157                      154  \n",
              "\n",
              "[121 rows x 13 columns]"
            ],
            "text/html": [
              "\n",
              "  <div id=\"df-1605af53-a2e6-4372-89b5-1a4c66ac88f1\">\n",
              "    <div class=\"colab-df-container\">\n",
              "      <div>\n",
              "<style scoped>\n",
              "    .dataframe tbody tr th:only-of-type {\n",
              "        vertical-align: middle;\n",
              "    }\n",
              "\n",
              "    .dataframe tbody tr th {\n",
              "        vertical-align: top;\n",
              "    }\n",
              "\n",
              "    .dataframe thead th {\n",
              "        text-align: right;\n",
              "    }\n",
              "</style>\n",
              "<table border=\"1\" class=\"dataframe\">\n",
              "  <thead>\n",
              "    <tr style=\"text-align: right;\">\n",
              "      <th></th>\n",
              "      <th>Proyecto</th>\n",
              "      <th>Tipo</th>\n",
              "      <th>Capacidad</th>\n",
              "      <th>Departamento</th>\n",
              "      <th>Municipio</th>\n",
              "      <th>Código Departamento</th>\n",
              "      <th>Código Municipio</th>\n",
              "      <th>Fecha estimada FPO</th>\n",
              "      <th>Energía [kWh/día]</th>\n",
              "      <th>Usuarios</th>\n",
              "      <th>Inversión estimada [COP]</th>\n",
              "      <th>Empleos estimados</th>\n",
              "      <th>Emisiones CO2 [Ton/año]</th>\n",
              "    </tr>\n",
              "  </thead>\n",
              "  <tbody>\n",
              "    <tr>\n",
              "      <th>1</th>\n",
              "      <td>AUTOG CELSIA SOLAR YUMBO</td>\n",
              "      <td>Solar</td>\n",
              "      <td>9.80</td>\n",
              "      <td>VALLE DEL CAUCA</td>\n",
              "      <td>YUMBO</td>\n",
              "      <td>76</td>\n",
              "      <td>76892</td>\n",
              "      <td>2017-03-09T00:00:00.000</td>\n",
              "      <td>47040</td>\n",
              "      <td>8157</td>\n",
              "      <td>42140000000</td>\n",
              "      <td>68</td>\n",
              "      <td>13736</td>\n",
              "    </tr>\n",
              "    <tr>\n",
              "      <th>2</th>\n",
              "      <td>CELSIA SOLAR BOLIVAR</td>\n",
              "      <td>Solar</td>\n",
              "      <td>8.06</td>\n",
              "      <td>BOLÍVAR</td>\n",
              "      <td>SANTA ROSA</td>\n",
              "      <td>13</td>\n",
              "      <td>13683</td>\n",
              "      <td>2019-02-01T00:00:00.000</td>\n",
              "      <td>38688</td>\n",
              "      <td>6709</td>\n",
              "      <td>34658000000</td>\n",
              "      <td>56</td>\n",
              "      <td>11297</td>\n",
              "    </tr>\n",
              "    <tr>\n",
              "      <th>4</th>\n",
              "      <td>SOLAR CASTILLA ECP</td>\n",
              "      <td>Solar</td>\n",
              "      <td>20.00</td>\n",
              "      <td>META</td>\n",
              "      <td>CASTILLA LA NUEVA</td>\n",
              "      <td>50</td>\n",
              "      <td>50150</td>\n",
              "      <td>2019-10-10T00:00:00.000</td>\n",
              "      <td>96000</td>\n",
              "      <td>16647</td>\n",
              "      <td>86000000000</td>\n",
              "      <td>139</td>\n",
              "      <td>28032</td>\n",
              "    </tr>\n",
              "    <tr>\n",
              "      <th>5</th>\n",
              "      <td>AGPE TECNOEMPAQUES DE OCCIDENTE</td>\n",
              "      <td>Solar</td>\n",
              "      <td>0.10</td>\n",
              "      <td>VALLE DEL CAUCA</td>\n",
              "      <td>CALI</td>\n",
              "      <td>76</td>\n",
              "      <td>76001</td>\n",
              "      <td>2019-12-19T00:00:00.000</td>\n",
              "      <td>480</td>\n",
              "      <td>83</td>\n",
              "      <td>430000000</td>\n",
              "      <td>1</td>\n",
              "      <td>140</td>\n",
              "    </tr>\n",
              "    <tr>\n",
              "      <th>6</th>\n",
              "      <td>RADAR FAC SAN ANDRÉS</td>\n",
              "      <td>Solar</td>\n",
              "      <td>0.01</td>\n",
              "      <td>ARCHIPIÉLAGO DE SAN ANDRÉS, PROVIDENCIA Y SANT...</td>\n",
              "      <td>SAN ANDRÉS</td>\n",
              "      <td>88</td>\n",
              "      <td>88001</td>\n",
              "      <td>2019-12-30T00:00:00.000</td>\n",
              "      <td>48</td>\n",
              "      <td>8</td>\n",
              "      <td>43000000</td>\n",
              "      <td>0</td>\n",
              "      <td>14</td>\n",
              "    </tr>\n",
              "    <tr>\n",
              "      <th>...</th>\n",
              "      <td>...</td>\n",
              "      <td>...</td>\n",
              "      <td>...</td>\n",
              "      <td>...</td>\n",
              "      <td>...</td>\n",
              "      <td>...</td>\n",
              "      <td>...</td>\n",
              "      <td>...</td>\n",
              "      <td>...</td>\n",
              "      <td>...</td>\n",
              "      <td>...</td>\n",
              "      <td>...</td>\n",
              "      <td>...</td>\n",
              "    </tr>\n",
              "    <tr>\n",
              "      <th>153</th>\n",
              "      <td>BUGA 1 PARTE 2</td>\n",
              "      <td>Solar</td>\n",
              "      <td>5.94</td>\n",
              "      <td>VALLE DEL CAUCA</td>\n",
              "      <td>SANTA LUCIA</td>\n",
              "      <td>76</td>\n",
              "      <td>76</td>\n",
              "      <td>2022-12-31T00:00:00.000</td>\n",
              "      <td>28512</td>\n",
              "      <td>4944</td>\n",
              "      <td>22275000000</td>\n",
              "      <td>41</td>\n",
              "      <td>8326</td>\n",
              "    </tr>\n",
              "    <tr>\n",
              "      <th>154</th>\n",
              "      <td>BUGA 1 PARTE 1</td>\n",
              "      <td>Solar</td>\n",
              "      <td>3.96</td>\n",
              "      <td>VALLE DEL CAUCA</td>\n",
              "      <td>SANTA LUCIA</td>\n",
              "      <td>76</td>\n",
              "      <td>76</td>\n",
              "      <td>2022-07-31T00:00:00.000</td>\n",
              "      <td>19008</td>\n",
              "      <td>3296</td>\n",
              "      <td>14850000000</td>\n",
              "      <td>28</td>\n",
              "      <td>5550</td>\n",
              "    </tr>\n",
              "    <tr>\n",
              "      <th>155</th>\n",
              "      <td>REFINERÍA GRB</td>\n",
              "      <td>Solar</td>\n",
              "      <td>21.00</td>\n",
              "      <td>SANTANDER</td>\n",
              "      <td>BARRANCABERMEJA</td>\n",
              "      <td>68</td>\n",
              "      <td>68081</td>\n",
              "      <td>2023-12-31T00:00:00.000</td>\n",
              "      <td>100800</td>\n",
              "      <td>17480</td>\n",
              "      <td>78750000000</td>\n",
              "      <td>146</td>\n",
              "      <td>29434</td>\n",
              "    </tr>\n",
              "    <tr>\n",
              "      <th>156</th>\n",
              "      <td>EMSA GD Y AG (34 Proyectos)</td>\n",
              "      <td>Solar</td>\n",
              "      <td>1.90</td>\n",
              "      <td>META</td>\n",
              "      <td>VILLAVICENCIO</td>\n",
              "      <td>50</td>\n",
              "      <td>50001</td>\n",
              "      <td>2022-05-31T00:00:00.000</td>\n",
              "      <td>9120</td>\n",
              "      <td>1582</td>\n",
              "      <td>8170000000</td>\n",
              "      <td>13</td>\n",
              "      <td>2663</td>\n",
              "    </tr>\n",
              "    <tr>\n",
              "      <th>157</th>\n",
              "      <td>ENELAR GD Y AG (4 Proyectos)</td>\n",
              "      <td>Solar</td>\n",
              "      <td>0.11</td>\n",
              "      <td>ARAUCA</td>\n",
              "      <td>ARAUCA</td>\n",
              "      <td>81</td>\n",
              "      <td>81001</td>\n",
              "      <td>2022-05-31T00:00:00.000</td>\n",
              "      <td>528</td>\n",
              "      <td>92</td>\n",
              "      <td>473000000</td>\n",
              "      <td>1</td>\n",
              "      <td>154</td>\n",
              "    </tr>\n",
              "  </tbody>\n",
              "</table>\n",
              "<p>121 rows × 13 columns</p>\n",
              "</div>\n",
              "      <button class=\"colab-df-convert\" onclick=\"convertToInteractive('df-1605af53-a2e6-4372-89b5-1a4c66ac88f1')\"\n",
              "              title=\"Convert this dataframe to an interactive table.\"\n",
              "              style=\"display:none;\">\n",
              "        \n",
              "  <svg xmlns=\"http://www.w3.org/2000/svg\" height=\"24px\"viewBox=\"0 0 24 24\"\n",
              "       width=\"24px\">\n",
              "    <path d=\"M0 0h24v24H0V0z\" fill=\"none\"/>\n",
              "    <path d=\"M18.56 5.44l.94 2.06.94-2.06 2.06-.94-2.06-.94-.94-2.06-.94 2.06-2.06.94zm-11 1L8.5 8.5l.94-2.06 2.06-.94-2.06-.94L8.5 2.5l-.94 2.06-2.06.94zm10 10l.94 2.06.94-2.06 2.06-.94-2.06-.94-.94-2.06-.94 2.06-2.06.94z\"/><path d=\"M17.41 7.96l-1.37-1.37c-.4-.4-.92-.59-1.43-.59-.52 0-1.04.2-1.43.59L10.3 9.45l-7.72 7.72c-.78.78-.78 2.05 0 2.83L4 21.41c.39.39.9.59 1.41.59.51 0 1.02-.2 1.41-.59l7.78-7.78 2.81-2.81c.8-.78.8-2.07 0-2.86zM5.41 20L4 18.59l7.72-7.72 1.47 1.35L5.41 20z\"/>\n",
              "  </svg>\n",
              "      </button>\n",
              "      \n",
              "  <style>\n",
              "    .colab-df-container {\n",
              "      display:flex;\n",
              "      flex-wrap:wrap;\n",
              "      gap: 12px;\n",
              "    }\n",
              "\n",
              "    .colab-df-convert {\n",
              "      background-color: #E8F0FE;\n",
              "      border: none;\n",
              "      border-radius: 50%;\n",
              "      cursor: pointer;\n",
              "      display: none;\n",
              "      fill: #1967D2;\n",
              "      height: 32px;\n",
              "      padding: 0 0 0 0;\n",
              "      width: 32px;\n",
              "    }\n",
              "\n",
              "    .colab-df-convert:hover {\n",
              "      background-color: #E2EBFA;\n",
              "      box-shadow: 0px 1px 2px rgba(60, 64, 67, 0.3), 0px 1px 3px 1px rgba(60, 64, 67, 0.15);\n",
              "      fill: #174EA6;\n",
              "    }\n",
              "\n",
              "    [theme=dark] .colab-df-convert {\n",
              "      background-color: #3B4455;\n",
              "      fill: #D2E3FC;\n",
              "    }\n",
              "\n",
              "    [theme=dark] .colab-df-convert:hover {\n",
              "      background-color: #434B5C;\n",
              "      box-shadow: 0px 1px 3px 1px rgba(0, 0, 0, 0.15);\n",
              "      filter: drop-shadow(0px 1px 2px rgba(0, 0, 0, 0.3));\n",
              "      fill: #FFFFFF;\n",
              "    }\n",
              "  </style>\n",
              "\n",
              "      <script>\n",
              "        const buttonEl =\n",
              "          document.querySelector('#df-1605af53-a2e6-4372-89b5-1a4c66ac88f1 button.colab-df-convert');\n",
              "        buttonEl.style.display =\n",
              "          google.colab.kernel.accessAllowed ? 'block' : 'none';\n",
              "\n",
              "        async function convertToInteractive(key) {\n",
              "          const element = document.querySelector('#df-1605af53-a2e6-4372-89b5-1a4c66ac88f1');\n",
              "          const dataTable =\n",
              "            await google.colab.kernel.invokeFunction('convertToInteractive',\n",
              "                                                     [key], {});\n",
              "          if (!dataTable) return;\n",
              "\n",
              "          const docLinkHtml = 'Like what you see? Visit the ' +\n",
              "            '<a target=\"_blank\" href=https://colab.research.google.com/notebooks/data_table.ipynb>data table notebook</a>'\n",
              "            + ' to learn more about interactive tables.';\n",
              "          element.innerHTML = '';\n",
              "          dataTable['output_type'] = 'display_data';\n",
              "          await google.colab.output.renderOutput(dataTable, element);\n",
              "          const docLink = document.createElement('div');\n",
              "          docLink.innerHTML = docLinkHtml;\n",
              "          element.appendChild(docLink);\n",
              "        }\n",
              "      </script>\n",
              "    </div>\n",
              "  </div>\n",
              "  "
            ]
          },
          "metadata": {},
          "execution_count": 920
        }
      ]
    },
    {
      "cell_type": "markdown",
      "source": [
        "En esta sección Llamamos a ordenar los datos de la columna usuario, para poder saber el orden de los usuarios, para poder hacer una buena limpieza de datos y que no tengamos en la data los datos atipicos que teniamos antes."
      ],
      "metadata": {
        "id": "nEio3Px9AEWb"
      }
    },
    {
      "cell_type": "code",
      "source": [
        "plt.boxplot(x = sin_outliers_2['Usuarios'])\n",
        "plt.show(\"Usuarios\")\n",
        "plt.show(\"Cantidad\")"
      ],
      "metadata": {
        "colab": {
          "base_uri": "https://localhost:8080/",
          "height": 265
        },
        "id": "USLM_ZfxOhko",
        "outputId": "1016e4bd-b83d-4512-a3a5-3d201f5e8d44"
      },
      "execution_count": null,
      "outputs": [
        {
          "output_type": "display_data",
          "data": {
            "text/plain": [
              "<Figure size 432x288 with 1 Axes>"
            ],
            "image/png": "[encoded data removed]"
          },
          "metadata": {
            "needs_background": "light"
          }
        }
      ]
    },
    {
      "cell_type": "markdown",
      "source": [
        "Luego de hacer todo el proceso de la limpieza de los datos, mostramos otra vez la caja de bigotes, para tratar de ver que no hayan datos atipicos, pero como podemos observar que todavia tenemos datos atipicos y tenemos que hacer otra vez la limpieza de datos."
      ],
      "metadata": {
        "id": "cpouBUqiAKWc"
      }
    },
    {
      "cell_type": "code",
      "source": [
        "Q1 = sin_outliers['Usuarios'].quantile(0.18)\n",
        "print(\"Primer Cuartil\", Q1)\n",
        "\n",
        "Q3 = sin_outliers['Usuarios'].quantile(0.65)\n",
        "print(\"Tercer Cuartil\", Q3)\n",
        "\n",
        "IQR = Q3 - Q1\n",
        "print(\"Rango Intercuartil\", IQR)\n",
        "\n",
        "Mediana = sin_outliers['Usuarios'].median()\n",
        "print(\"Mediana\", Mediana)\n",
        "\n",
        "Valor_Miniom = sin_outliers['Usuarios'].min()\n",
        "print(\"Valor Minimo\", Valor_Miniom)\n",
        "\n",
        "Valor_Maximo = sin_outliers['Usuarios'].max()\n",
        "print(\"Valor Máximo\", Valor_Maximo)"
      ],
      "metadata": {
        "colab": {
          "base_uri": "https://localhost:8080/"
        },
        "id": "Mc5jCv-qO3mY",
        "outputId": "1cf57af2-0201-45bd-b789-84c939c6c7b5"
      },
      "execution_count": null,
      "outputs": [
        {
          "output_type": "stream",
          "name": "stdout",
          "text": [
            "Primer Cuartil 577.1200000000001\n",
            "Tercer Cuartil 8240.0\n",
            "Rango Intercuartil 7662.88\n",
            "Mediana 6975.0\n",
            "Valor Minimo 4\n",
            "Valor Máximo 37457\n"
          ]
        }
      ]
    },
    {
      "cell_type": "markdown",
      "source": [
        "Como podemos observar en la anterior sección tenemos demasiados datos atipicos, entonces aqui estamos haciendo la limpieza de los datos, tomamos los valores del primer y tercer cuartil, luego le sacamos la mediana y el valor minimo y el maximo para poder ver que datos tienen. "
      ],
      "metadata": {
        "id": "DrZjmKp8AVWj"
      }
    },
    {
      "cell_type": "code",
      "source": [
        "BI_Calculado = (Q1 - 1.5 * IQR)\n",
        "print(\"BI_CALCULADO \\n\", BI_Calculado)\n",
        "\n",
        "BS_Calculado = (Q3 + 1.5 * IQR)\n",
        "print(\"BS_CALCULADO \\n\", BS_Calculado)"
      ],
      "metadata": {
        "colab": {
          "base_uri": "https://localhost:8080/"
        },
        "id": "Q3HsoV01O-kW",
        "outputId": "910fc343-dbed-4810-8ec5-a3dd79e62cd6"
      },
      "execution_count": null,
      "outputs": [
        {
          "output_type": "stream",
          "name": "stdout",
          "text": [
            "BI_CALCULADO \n",
            " -10917.199999999999\n",
            "BS_CALCULADO \n",
            " 19734.32\n"
          ]
        }
      ]
    },
    {
      "cell_type": "markdown",
      "source": [
        "En esta seccion estamos sacando una resta del primer cuartil menos el 1.5 de datos por el rango de caurtil, y luego hacemos otra operacion, el valor del tercer cuartil mas el 1.5 por el rengo de cuartil."
      ],
      "metadata": {
        "id": "w8q3n9mkAboJ"
      }
    },
    {
      "cell_type": "code",
      "source": [
        "ubicacion_outliers = ((sin_outliers['Usuarios'] < BI_Calculado) | (sin_outliers['Usuarios'] > BS_Calculado))\n",
        "print(\"\\n Ubicacion de Outliers \\n\", ubicacion_outliers)"
      ],
      "metadata": {
        "colab": {
          "base_uri": "https://localhost:8080/"
        },
        "id": "h5BmRw8BPC0V",
        "outputId": "98bc2dd1-1dc0-4e69-9062-d114c5e2f4fa"
      },
      "execution_count": null,
      "outputs": [
        {
          "output_type": "stream",
          "name": "stdout",
          "text": [
            "\n",
            " Ubicacion de Outliers \n",
            " 0       True\n",
            "1      False\n",
            "2      False\n",
            "4      False\n",
            "5      False\n",
            "       ...  \n",
            "153    False\n",
            "154    False\n",
            "155    False\n",
            "156    False\n",
            "157    False\n",
            "Name: Usuarios, Length: 125, dtype: bool\n"
          ]
        }
      ]
    },
    {
      "cell_type": "markdown",
      "source": [
        "Aqui estamos ubicando donde se encuentran los datos atipicos para saber que datos poder eliminar para que nos salgan datos atipicos en la proxima caja de bigote."
      ],
      "metadata": {
        "id": "4s_6s39lAj8q"
      }
    },
    {
      "cell_type": "code",
      "source": [
        "outliers = sin_outliers[ubicacion_outliers]\n",
        "print(\"\\n Lista de Outliers \\n\", outliers)"
      ],
      "metadata": {
        "colab": {
          "base_uri": "https://localhost:8080/"
        },
        "id": "2kmUuPIkPG2N",
        "outputId": "f5dcd80c-19ae-483a-8bad-de5dd1d93fc7"
      },
      "execution_count": null,
      "outputs": [
        {
          "output_type": "stream",
          "name": "stdout",
          "text": [
            "\n",
            " Lista de Outliers \n",
            "                          Proyecto    Tipo  Capacidad        Departamento  \\\n",
            "0                       JEPIRACHI  Eólico      18.42          LA GUAJIRA   \n",
            "41   EPM GD Y AG (1469 Proyectos)   Solar      23.92           ANTIOQUIA   \n",
            "57        PARQUE EÓLICO GUAJIRA I  Eólico      19.90          LA GUAJIRA   \n",
            "82                         WESP01  Eólico      12.00          LA GUAJIRA   \n",
            "85        BRISAS – YAGUARÁ – AIPE   Solar      26.00               HUILA   \n",
            "125          SOL DE GAMARRITA 1-3   Solar      45.00               CESAR   \n",
            "147  Parque Fotovoltaico Sunnorte   Solar      35.00  NORTE DE SANTANDER   \n",
            "\n",
            "       Municipio  Código Departamento  Código Municipio  \\\n",
            "0         URIBIA                   44             44847   \n",
            "41      MEDELLÍN                    5              5001   \n",
            "57        URIBIA                   44             44847   \n",
            "82        URIBIA                   44             44847   \n",
            "85       YAGUARÁ                   41             41885   \n",
            "125    AGUACHICA                   20             20011   \n",
            "147  SANTA LUCIA                   54                54   \n",
            "\n",
            "          Fecha estimada FPO  Energía [kWh/día]  Usuarios  \\\n",
            "0    2004-04-27T00:00:00.000             176832     30665   \n",
            "41   2022-05-31T00:00:00.000             114816     19910   \n",
            "57   2021-12-31T00:00:00.000             191040     33128   \n",
            "82   2022-08-05T00:00:00.000             115200     19977   \n",
            "85   2022-12-31T00:00:00.000             124800     21642   \n",
            "125  2023-02-09T00:00:00.000             216000     37457   \n",
            "147  2023-12-31T00:00:00.000             168000     29133   \n",
            "\n",
            "     Inversión estimada [COP]  Empleos estimados  Emisiones CO2 [Ton/año]  \n",
            "0                 79206000000                 51                    51635  \n",
            "41               102856000000                166                    33526  \n",
            "57                85570000000                 55                    55784  \n",
            "82                51600000000                 33                    33638  \n",
            "85                97500000000                181                    36442  \n",
            "125              168750000000                313                    63072  \n",
            "147              131250000000                244                    49056  \n"
          ]
        }
      ]
    },
    {
      "cell_type": "markdown",
      "source": [
        "Aqui llamamos la data para ver en donde se encuentran los datos atipicos, y saber columnas tenemos con los datos."
      ],
      "metadata": {
        "id": "bDGirR0tAzYl"
      }
    },
    {
      "cell_type": "code",
      "source": [
        "Outliers_Ordenados = outliers.sort_values(\"Usuarios\")\n",
        "Outliers_Ordenados"
      ],
      "metadata": {
        "colab": {
          "base_uri": "https://localhost:8080/",
          "height": 452
        },
        "id": "Mqux00rMPKx-",
        "outputId": "6382286e-cfe8-4990-f55d-7e4bbb70efc5"
      },
      "execution_count": null,
      "outputs": [
        {
          "output_type": "execute_result",
          "data": {
            "text/plain": [
              "                         Proyecto    Tipo  Capacidad        Departamento  \\\n",
              "41   EPM GD Y AG (1469 Proyectos)   Solar      23.92           ANTIOQUIA   \n",
              "82                         WESP01  Eólico      12.00          LA GUAJIRA   \n",
              "85        BRISAS – YAGUARÁ – AIPE   Solar      26.00               HUILA   \n",
              "147  Parque Fotovoltaico Sunnorte   Solar      35.00  NORTE DE SANTANDER   \n",
              "0                       JEPIRACHI  Eólico      18.42          LA GUAJIRA   \n",
              "57        PARQUE EÓLICO GUAJIRA I  Eólico      19.90          LA GUAJIRA   \n",
              "125          SOL DE GAMARRITA 1-3   Solar      45.00               CESAR   \n",
              "\n",
              "       Municipio  Código Departamento  Código Municipio  \\\n",
              "41      MEDELLÍN                    5              5001   \n",
              "82        URIBIA                   44             44847   \n",
              "85       YAGUARÁ                   41             41885   \n",
              "147  SANTA LUCIA                   54                54   \n",
              "0         URIBIA                   44             44847   \n",
              "57        URIBIA                   44             44847   \n",
              "125    AGUACHICA                   20             20011   \n",
              "\n",
              "          Fecha estimada FPO  Energía [kWh/día]  Usuarios  \\\n",
              "41   2022-05-31T00:00:00.000             114816     19910   \n",
              "82   2022-08-05T00:00:00.000             115200     19977   \n",
              "85   2022-12-31T00:00:00.000             124800     21642   \n",
              "147  2023-12-31T00:00:00.000             168000     29133   \n",
              "0    2004-04-27T00:00:00.000             176832     30665   \n",
              "57   2021-12-31T00:00:00.000             191040     33128   \n",
              "125  2023-02-09T00:00:00.000             216000     37457   \n",
              "\n",
              "     Inversión estimada [COP]  Empleos estimados  Emisiones CO2 [Ton/año]  \n",
              "41               102856000000                166                    33526  \n",
              "82                51600000000                 33                    33638  \n",
              "85                97500000000                181                    36442  \n",
              "147              131250000000                244                    49056  \n",
              "0                 79206000000                 51                    51635  \n",
              "57                85570000000                 55                    55784  \n",
              "125              168750000000                313                    63072  "
            ],
            "text/html": [
              "\n",
              "  <div id=\"df-77a5e86e-f5b5-439d-8fd5-6fbf31473f2c\">\n",
              "    <div class=\"colab-df-container\">\n",
              "      <div>\n",
              "<style scoped>\n",
              "    .dataframe tbody tr th:only-of-type {\n",
              "        vertical-align: middle;\n",
              "    }\n",
              "\n",
              "    .dataframe tbody tr th {\n",
              "        vertical-align: top;\n",
              "    }\n",
              "\n",
              "    .dataframe thead th {\n",
              "        text-align: right;\n",
              "    }\n",
              "</style>\n",
              "<table border=\"1\" class=\"dataframe\">\n",
              "  <thead>\n",
              "    <tr style=\"text-align: right;\">\n",
              "      <th></th>\n",
              "      <th>Proyecto</th>\n",
              "      <th>Tipo</th>\n",
              "      <th>Capacidad</th>\n",
              "      <th>Departamento</th>\n",
              "      <th>Municipio</th>\n",
              "      <th>Código Departamento</th>\n",
              "      <th>Código Municipio</th>\n",
              "      <th>Fecha estimada FPO</th>\n",
              "      <th>Energía [kWh/día]</th>\n",
              "      <th>Usuarios</th>\n",
              "      <th>Inversión estimada [COP]</th>\n",
              "      <th>Empleos estimados</th>\n",
              "      <th>Emisiones CO2 [Ton/año]</th>\n",
              "    </tr>\n",
              "  </thead>\n",
              "  <tbody>\n",
              "    <tr>\n",
              "      <th>41</th>\n",
              "      <td>EPM GD Y AG (1469 Proyectos)</td>\n",
              "      <td>Solar</td>\n",
              "      <td>23.92</td>\n",
              "      <td>ANTIOQUIA</td>\n",
              "      <td>MEDELLÍN</td>\n",
              "      <td>5</td>\n",
              "      <td>5001</td>\n",
              "      <td>2022-05-31T00:00:00.000</td>\n",
              "      <td>114816</td>\n",
              "      <td>19910</td>\n",
              "      <td>102856000000</td>\n",
              "      <td>166</td>\n",
              "      <td>33526</td>\n",
              "    </tr>\n",
              "    <tr>\n",
              "      <th>82</th>\n",
              "      <td>WESP01</td>\n",
              "      <td>Eólico</td>\n",
              "      <td>12.00</td>\n",
              "      <td>LA GUAJIRA</td>\n",
              "      <td>URIBIA</td>\n",
              "      <td>44</td>\n",
              "      <td>44847</td>\n",
              "      <td>2022-08-05T00:00:00.000</td>\n",
              "      <td>115200</td>\n",
              "      <td>19977</td>\n",
              "      <td>51600000000</td>\n",
              "      <td>33</td>\n",
              "      <td>33638</td>\n",
              "    </tr>\n",
              "    <tr>\n",
              "      <th>85</th>\n",
              "      <td>BRISAS – YAGUARÁ – AIPE</td>\n",
              "      <td>Solar</td>\n",
              "      <td>26.00</td>\n",
              "      <td>HUILA</td>\n",
              "      <td>YAGUARÁ</td>\n",
              "      <td>41</td>\n",
              "      <td>41885</td>\n",
              "      <td>2022-12-31T00:00:00.000</td>\n",
              "      <td>124800</td>\n",
              "      <td>21642</td>\n",
              "      <td>97500000000</td>\n",
              "      <td>181</td>\n",
              "      <td>36442</td>\n",
              "    </tr>\n",
              "    <tr>\n",
              "      <th>147</th>\n",
              "      <td>Parque Fotovoltaico Sunnorte</td>\n",
              "      <td>Solar</td>\n",
              "      <td>35.00</td>\n",
              "      <td>NORTE DE SANTANDER</td>\n",
              "      <td>SANTA LUCIA</td>\n",
              "      <td>54</td>\n",
              "      <td>54</td>\n",
              "      <td>2023-12-31T00:00:00.000</td>\n",
              "      <td>168000</td>\n",
              "      <td>29133</td>\n",
              "      <td>131250000000</td>\n",
              "      <td>244</td>\n",
              "      <td>49056</td>\n",
              "    </tr>\n",
              "    <tr>\n",
              "      <th>0</th>\n",
              "      <td>JEPIRACHI</td>\n",
              "      <td>Eólico</td>\n",
              "      <td>18.42</td>\n",
              "      <td>LA GUAJIRA</td>\n",
              "      <td>URIBIA</td>\n",
              "      <td>44</td>\n",
              "      <td>44847</td>\n",
              "      <td>2004-04-27T00:00:00.000</td>\n",
              "      <td>176832</td>\n",
              "      <td>30665</td>\n",
              "      <td>79206000000</td>\n",
              "      <td>51</td>\n",
              "      <td>51635</td>\n",
              "    </tr>\n",
              "    <tr>\n",
              "      <th>57</th>\n",
              "      <td>PARQUE EÓLICO GUAJIRA I</td>\n",
              "      <td>Eólico</td>\n",
              "      <td>19.90</td>\n",
              "      <td>LA GUAJIRA</td>\n",
              "      <td>URIBIA</td>\n",
              "      <td>44</td>\n",
              "      <td>44847</td>\n",
              "      <td>2021-12-31T00:00:00.000</td>\n",
              "      <td>191040</td>\n",
              "      <td>33128</td>\n",
              "      <td>85570000000</td>\n",
              "      <td>55</td>\n",
              "      <td>55784</td>\n",
              "    </tr>\n",
              "    <tr>\n",
              "      <th>125</th>\n",
              "      <td>SOL DE GAMARRITA 1-3</td>\n",
              "      <td>Solar</td>\n",
              "      <td>45.00</td>\n",
              "      <td>CESAR</td>\n",
              "      <td>AGUACHICA</td>\n",
              "      <td>20</td>\n",
              "      <td>20011</td>\n",
              "      <td>2023-02-09T00:00:00.000</td>\n",
              "      <td>216000</td>\n",
              "      <td>37457</td>\n",
              "      <td>168750000000</td>\n",
              "      <td>313</td>\n",
              "      <td>63072</td>\n",
              "    </tr>\n",
              "  </tbody>\n",
              "</table>\n",
              "</div>\n",
              "      <button class=\"colab-df-convert\" onclick=\"convertToInteractive('df-77a5e86e-f5b5-439d-8fd5-6fbf31473f2c')\"\n",
              "              title=\"Convert this dataframe to an interactive table.\"\n",
              "              style=\"display:none;\">\n",
              "        \n",
              "  <svg xmlns=\"http://www.w3.org/2000/svg\" height=\"24px\"viewBox=\"0 0 24 24\"\n",
              "       width=\"24px\">\n",
              "    <path d=\"M0 0h24v24H0V0z\" fill=\"none\"/>\n",
              "    <path d=\"M18.56 5.44l.94 2.06.94-2.06 2.06-.94-2.06-.94-.94-2.06-.94 2.06-2.06.94zm-11 1L8.5 8.5l.94-2.06 2.06-.94-2.06-.94L8.5 2.5l-.94 2.06-2.06.94zm10 10l.94 2.06.94-2.06 2.06-.94-2.06-.94-.94-2.06-.94 2.06-2.06.94z\"/><path d=\"M17.41 7.96l-1.37-1.37c-.4-.4-.92-.59-1.43-.59-.52 0-1.04.2-1.43.59L10.3 9.45l-7.72 7.72c-.78.78-.78 2.05 0 2.83L4 21.41c.39.39.9.59 1.41.59.51 0 1.02-.2 1.41-.59l7.78-7.78 2.81-2.81c.8-.78.8-2.07 0-2.86zM5.41 20L4 18.59l7.72-7.72 1.47 1.35L5.41 20z\"/>\n",
              "  </svg>\n",
              "      </button>\n",
              "      \n",
              "  <style>\n",
              "    .colab-df-container {\n",
              "      display:flex;\n",
              "      flex-wrap:wrap;\n",
              "      gap: 12px;\n",
              "    }\n",
              "\n",
              "    .colab-df-convert {\n",
              "      background-color: #E8F0FE;\n",
              "      border: none;\n",
              "      border-radius: 50%;\n",
              "      cursor: pointer;\n",
              "      display: none;\n",
              "      fill: #1967D2;\n",
              "      height: 32px;\n",
              "      padding: 0 0 0 0;\n",
              "      width: 32px;\n",
              "    }\n",
              "\n",
              "    .colab-df-convert:hover {\n",
              "      background-color: #E2EBFA;\n",
              "      box-shadow: 0px 1px 2px rgba(60, 64, 67, 0.3), 0px 1px 3px 1px rgba(60, 64, 67, 0.15);\n",
              "      fill: #174EA6;\n",
              "    }\n",
              "\n",
              "    [theme=dark] .colab-df-convert {\n",
              "      background-color: #3B4455;\n",
              "      fill: #D2E3FC;\n",
              "    }\n",
              "\n",
              "    [theme=dark] .colab-df-convert:hover {\n",
              "      background-color: #434B5C;\n",
              "      box-shadow: 0px 1px 3px 1px rgba(0, 0, 0, 0.15);\n",
              "      filter: drop-shadow(0px 1px 2px rgba(0, 0, 0, 0.3));\n",
              "      fill: #FFFFFF;\n",
              "    }\n",
              "  </style>\n",
              "\n",
              "      <script>\n",
              "        const buttonEl =\n",
              "          document.querySelector('#df-77a5e86e-f5b5-439d-8fd5-6fbf31473f2c button.colab-df-convert');\n",
              "        buttonEl.style.display =\n",
              "          google.colab.kernel.accessAllowed ? 'block' : 'none';\n",
              "\n",
              "        async function convertToInteractive(key) {\n",
              "          const element = document.querySelector('#df-77a5e86e-f5b5-439d-8fd5-6fbf31473f2c');\n",
              "          const dataTable =\n",
              "            await google.colab.kernel.invokeFunction('convertToInteractive',\n",
              "                                                     [key], {});\n",
              "          if (!dataTable) return;\n",
              "\n",
              "          const docLinkHtml = 'Like what you see? Visit the ' +\n",
              "            '<a target=\"_blank\" href=https://colab.research.google.com/notebooks/data_table.ipynb>data table notebook</a>'\n",
              "            + ' to learn more about interactive tables.';\n",
              "          element.innerHTML = '';\n",
              "          dataTable['output_type'] = 'display_data';\n",
              "          await google.colab.output.renderOutput(dataTable, element);\n",
              "          const docLink = document.createElement('div');\n",
              "          docLink.innerHTML = docLinkHtml;\n",
              "          element.appendChild(docLink);\n",
              "        }\n",
              "      </script>\n",
              "    </div>\n",
              "  </div>\n",
              "  "
            ]
          },
          "metadata": {},
          "execution_count": 926
        }
      ]
    },
    {
      "cell_type": "markdown",
      "source": [
        "En esta sección Llamamos a ordenar los datos de la columna usuario, para poder saber el orden de los usuarios, para poder hacer una buena limpieza de datos y que no tengamos en la data los datos atipicos que teniamos antes."
      ],
      "metadata": {
        "id": "a-8cM9NGBEoR"
      }
    },
    {
      "cell_type": "code",
      "source": [
        "Ubicacion_sin_out = ((sin_outliers['Usuarios'] >= BI_Calculado) & (sin_outliers['Usuarios'] <= BS_Calculado))\n",
        "sin_outliers_2 = sin_outliers[Ubicacion_sin_out]\n",
        "sin_outliers_2"
      ],
      "metadata": {
        "colab": {
          "base_uri": "https://localhost:8080/",
          "height": 659
        },
        "id": "vgTzIJaVPO2X",
        "outputId": "823bf038-1fcd-4114-8d75-276040f213bd"
      },
      "execution_count": null,
      "outputs": [
        {
          "output_type": "execute_result",
          "data": {
            "text/plain": [
              "                            Proyecto   Tipo  Capacidad  \\\n",
              "1           AUTOG CELSIA SOLAR YUMBO  Solar       9.80   \n",
              "2               CELSIA SOLAR BOLIVAR  Solar       8.06   \n",
              "4                 SOLAR CASTILLA ECP  Solar      20.00   \n",
              "5    AGPE TECNOEMPAQUES DE OCCIDENTE  Solar       0.10   \n",
              "6               RADAR FAC SAN ANDRÉS  Solar       0.01   \n",
              "..                               ...    ...        ...   \n",
              "153                   BUGA 1 PARTE 2  Solar       5.94   \n",
              "154                   BUGA 1 PARTE 1  Solar       3.96   \n",
              "155                    REFINERÍA GRB  Solar      21.00   \n",
              "156      EMSA GD Y AG (34 Proyectos)  Solar       1.90   \n",
              "157     ENELAR GD Y AG (4 Proyectos)  Solar       0.11   \n",
              "\n",
              "                                          Departamento          Municipio  \\\n",
              "1                                      VALLE DEL CAUCA              YUMBO   \n",
              "2                                              BOLÍVAR         SANTA ROSA   \n",
              "4                                                 META  CASTILLA LA NUEVA   \n",
              "5                                      VALLE DEL CAUCA               CALI   \n",
              "6    ARCHIPIÉLAGO DE SAN ANDRÉS, PROVIDENCIA Y SANT...         SAN ANDRÉS   \n",
              "..                                                 ...                ...   \n",
              "153                                    VALLE DEL CAUCA        SANTA LUCIA   \n",
              "154                                    VALLE DEL CAUCA        SANTA LUCIA   \n",
              "155                                          SANTANDER    BARRANCABERMEJA   \n",
              "156                                               META      VILLAVICENCIO   \n",
              "157                                             ARAUCA             ARAUCA   \n",
              "\n",
              "     Código Departamento  Código Municipio       Fecha estimada FPO  \\\n",
              "1                     76             76892  2017-03-09T00:00:00.000   \n",
              "2                     13             13683  2019-02-01T00:00:00.000   \n",
              "4                     50             50150  2019-10-10T00:00:00.000   \n",
              "5                     76             76001  2019-12-19T00:00:00.000   \n",
              "6                     88             88001  2019-12-30T00:00:00.000   \n",
              "..                   ...               ...                      ...   \n",
              "153                   76                76  2022-12-31T00:00:00.000   \n",
              "154                   76                76  2022-07-31T00:00:00.000   \n",
              "155                   68             68081  2023-12-31T00:00:00.000   \n",
              "156                   50             50001  2022-05-31T00:00:00.000   \n",
              "157                   81             81001  2022-05-31T00:00:00.000   \n",
              "\n",
              "     Energía [kWh/día]  Usuarios  Inversión estimada [COP]  Empleos estimados  \\\n",
              "1                47040      8157               42140000000                 68   \n",
              "2                38688      6709               34658000000                 56   \n",
              "4                96000     16647               86000000000                139   \n",
              "5                  480        83                 430000000                  1   \n",
              "6                   48         8                  43000000                  0   \n",
              "..                 ...       ...                       ...                ...   \n",
              "153              28512      4944               22275000000                 41   \n",
              "154              19008      3296               14850000000                 28   \n",
              "155             100800     17480               78750000000                146   \n",
              "156               9120      1582                8170000000                 13   \n",
              "157                528        92                 473000000                  1   \n",
              "\n",
              "     Emisiones CO2 [Ton/año]  \n",
              "1                      13736  \n",
              "2                      11297  \n",
              "4                      28032  \n",
              "5                        140  \n",
              "6                         14  \n",
              "..                       ...  \n",
              "153                     8326  \n",
              "154                     5550  \n",
              "155                    29434  \n",
              "156                     2663  \n",
              "157                      154  \n",
              "\n",
              "[118 rows x 13 columns]"
            ],
            "text/html": [
              "\n",
              "  <div id=\"df-9de73c5f-bb2d-4ecd-8c8a-ba81063c8c44\">\n",
              "    <div class=\"colab-df-container\">\n",
              "      <div>\n",
              "<style scoped>\n",
              "    .dataframe tbody tr th:only-of-type {\n",
              "        vertical-align: middle;\n",
              "    }\n",
              "\n",
              "    .dataframe tbody tr th {\n",
              "        vertical-align: top;\n",
              "    }\n",
              "\n",
              "    .dataframe thead th {\n",
              "        text-align: right;\n",
              "    }\n",
              "</style>\n",
              "<table border=\"1\" class=\"dataframe\">\n",
              "  <thead>\n",
              "    <tr style=\"text-align: right;\">\n",
              "      <th></th>\n",
              "      <th>Proyecto</th>\n",
              "      <th>Tipo</th>\n",
              "      <th>Capacidad</th>\n",
              "      <th>Departamento</th>\n",
              "      <th>Municipio</th>\n",
              "      <th>Código Departamento</th>\n",
              "      <th>Código Municipio</th>\n",
              "      <th>Fecha estimada FPO</th>\n",
              "      <th>Energía [kWh/día]</th>\n",
              "      <th>Usuarios</th>\n",
              "      <th>Inversión estimada [COP]</th>\n",
              "      <th>Empleos estimados</th>\n",
              "      <th>Emisiones CO2 [Ton/año]</th>\n",
              "    </tr>\n",
              "  </thead>\n",
              "  <tbody>\n",
              "    <tr>\n",
              "      <th>1</th>\n",
              "      <td>AUTOG CELSIA SOLAR YUMBO</td>\n",
              "      <td>Solar</td>\n",
              "      <td>9.80</td>\n",
              "      <td>VALLE DEL CAUCA</td>\n",
              "      <td>YUMBO</td>\n",
              "      <td>76</td>\n",
              "      <td>76892</td>\n",
              "      <td>2017-03-09T00:00:00.000</td>\n",
              "      <td>47040</td>\n",
              "      <td>8157</td>\n",
              "      <td>42140000000</td>\n",
              "      <td>68</td>\n",
              "      <td>13736</td>\n",
              "    </tr>\n",
              "    <tr>\n",
              "      <th>2</th>\n",
              "      <td>CELSIA SOLAR BOLIVAR</td>\n",
              "      <td>Solar</td>\n",
              "      <td>8.06</td>\n",
              "      <td>BOLÍVAR</td>\n",
              "      <td>SANTA ROSA</td>\n",
              "      <td>13</td>\n",
              "      <td>13683</td>\n",
              "      <td>2019-02-01T00:00:00.000</td>\n",
              "      <td>38688</td>\n",
              "      <td>6709</td>\n",
              "      <td>34658000000</td>\n",
              "      <td>56</td>\n",
              "      <td>11297</td>\n",
              "    </tr>\n",
              "    <tr>\n",
              "      <th>4</th>\n",
              "      <td>SOLAR CASTILLA ECP</td>\n",
              "      <td>Solar</td>\n",
              "      <td>20.00</td>\n",
              "      <td>META</td>\n",
              "      <td>CASTILLA LA NUEVA</td>\n",
              "      <td>50</td>\n",
              "      <td>50150</td>\n",
              "      <td>2019-10-10T00:00:00.000</td>\n",
              "      <td>96000</td>\n",
              "      <td>16647</td>\n",
              "      <td>86000000000</td>\n",
              "      <td>139</td>\n",
              "      <td>28032</td>\n",
              "    </tr>\n",
              "    <tr>\n",
              "      <th>5</th>\n",
              "      <td>AGPE TECNOEMPAQUES DE OCCIDENTE</td>\n",
              "      <td>Solar</td>\n",
              "      <td>0.10</td>\n",
              "      <td>VALLE DEL CAUCA</td>\n",
              "      <td>CALI</td>\n",
              "      <td>76</td>\n",
              "      <td>76001</td>\n",
              "      <td>2019-12-19T00:00:00.000</td>\n",
              "      <td>480</td>\n",
              "      <td>83</td>\n",
              "      <td>430000000</td>\n",
              "      <td>1</td>\n",
              "      <td>140</td>\n",
              "    </tr>\n",
              "    <tr>\n",
              "      <th>6</th>\n",
              "      <td>RADAR FAC SAN ANDRÉS</td>\n",
              "      <td>Solar</td>\n",
              "      <td>0.01</td>\n",
              "      <td>ARCHIPIÉLAGO DE SAN ANDRÉS, PROVIDENCIA Y SANT...</td>\n",
              "      <td>SAN ANDRÉS</td>\n",
              "      <td>88</td>\n",
              "      <td>88001</td>\n",
              "      <td>2019-12-30T00:00:00.000</td>\n",
              "      <td>48</td>\n",
              "      <td>8</td>\n",
              "      <td>43000000</td>\n",
              "      <td>0</td>\n",
              "      <td>14</td>\n",
              "    </tr>\n",
              "    <tr>\n",
              "      <th>...</th>\n",
              "      <td>...</td>\n",
              "      <td>...</td>\n",
              "      <td>...</td>\n",
              "      <td>...</td>\n",
              "      <td>...</td>\n",
              "      <td>...</td>\n",
              "      <td>...</td>\n",
              "      <td>...</td>\n",
              "      <td>...</td>\n",
              "      <td>...</td>\n",
              "      <td>...</td>\n",
              "      <td>...</td>\n",
              "      <td>...</td>\n",
              "    </tr>\n",
              "    <tr>\n",
              "      <th>153</th>\n",
              "      <td>BUGA 1 PARTE 2</td>\n",
              "      <td>Solar</td>\n",
              "      <td>5.94</td>\n",
              "      <td>VALLE DEL CAUCA</td>\n",
              "      <td>SANTA LUCIA</td>\n",
              "      <td>76</td>\n",
              "      <td>76</td>\n",
              "      <td>2022-12-31T00:00:00.000</td>\n",
              "      <td>28512</td>\n",
              "      <td>4944</td>\n",
              "      <td>22275000000</td>\n",
              "      <td>41</td>\n",
              "      <td>8326</td>\n",
              "    </tr>\n",
              "    <tr>\n",
              "      <th>154</th>\n",
              "      <td>BUGA 1 PARTE 1</td>\n",
              "      <td>Solar</td>\n",
              "      <td>3.96</td>\n",
              "      <td>VALLE DEL CAUCA</td>\n",
              "      <td>SANTA LUCIA</td>\n",
              "      <td>76</td>\n",
              "      <td>76</td>\n",
              "      <td>2022-07-31T00:00:00.000</td>\n",
              "      <td>19008</td>\n",
              "      <td>3296</td>\n",
              "      <td>14850000000</td>\n",
              "      <td>28</td>\n",
              "      <td>5550</td>\n",
              "    </tr>\n",
              "    <tr>\n",
              "      <th>155</th>\n",
              "      <td>REFINERÍA GRB</td>\n",
              "      <td>Solar</td>\n",
              "      <td>21.00</td>\n",
              "      <td>SANTANDER</td>\n",
              "      <td>BARRANCABERMEJA</td>\n",
              "      <td>68</td>\n",
              "      <td>68081</td>\n",
              "      <td>2023-12-31T00:00:00.000</td>\n",
              "      <td>100800</td>\n",
              "      <td>17480</td>\n",
              "      <td>78750000000</td>\n",
              "      <td>146</td>\n",
              "      <td>29434</td>\n",
              "    </tr>\n",
              "    <tr>\n",
              "      <th>156</th>\n",
              "      <td>EMSA GD Y AG (34 Proyectos)</td>\n",
              "      <td>Solar</td>\n",
              "      <td>1.90</td>\n",
              "      <td>META</td>\n",
              "      <td>VILLAVICENCIO</td>\n",
              "      <td>50</td>\n",
              "      <td>50001</td>\n",
              "      <td>2022-05-31T00:00:00.000</td>\n",
              "      <td>9120</td>\n",
              "      <td>1582</td>\n",
              "      <td>8170000000</td>\n",
              "      <td>13</td>\n",
              "      <td>2663</td>\n",
              "    </tr>\n",
              "    <tr>\n",
              "      <th>157</th>\n",
              "      <td>ENELAR GD Y AG (4 Proyectos)</td>\n",
              "      <td>Solar</td>\n",
              "      <td>0.11</td>\n",
              "      <td>ARAUCA</td>\n",
              "      <td>ARAUCA</td>\n",
              "      <td>81</td>\n",
              "      <td>81001</td>\n",
              "      <td>2022-05-31T00:00:00.000</td>\n",
              "      <td>528</td>\n",
              "      <td>92</td>\n",
              "      <td>473000000</td>\n",
              "      <td>1</td>\n",
              "      <td>154</td>\n",
              "    </tr>\n",
              "  </tbody>\n",
              "</table>\n",
              "<p>118 rows × 13 columns</p>\n",
              "</div>\n",
              "      <button class=\"colab-df-convert\" onclick=\"convertToInteractive('df-9de73c5f-bb2d-4ecd-8c8a-ba81063c8c44')\"\n",
              "              title=\"Convert this dataframe to an interactive table.\"\n",
              "              style=\"display:none;\">\n",
              "        \n",
              "  <svg xmlns=\"http://www.w3.org/2000/svg\" height=\"24px\"viewBox=\"0 0 24 24\"\n",
              "       width=\"24px\">\n",
              "    <path d=\"M0 0h24v24H0V0z\" fill=\"none\"/>\n",
              "    <path d=\"M18.56 5.44l.94 2.06.94-2.06 2.06-.94-2.06-.94-.94-2.06-.94 2.06-2.06.94zm-11 1L8.5 8.5l.94-2.06 2.06-.94-2.06-.94L8.5 2.5l-.94 2.06-2.06.94zm10 10l.94 2.06.94-2.06 2.06-.94-2.06-.94-.94-2.06-.94 2.06-2.06.94z\"/><path d=\"M17.41 7.96l-1.37-1.37c-.4-.4-.92-.59-1.43-.59-.52 0-1.04.2-1.43.59L10.3 9.45l-7.72 7.72c-.78.78-.78 2.05 0 2.83L4 21.41c.39.39.9.59 1.41.59.51 0 1.02-.2 1.41-.59l7.78-7.78 2.81-2.81c.8-.78.8-2.07 0-2.86zM5.41 20L4 18.59l7.72-7.72 1.47 1.35L5.41 20z\"/>\n",
              "  </svg>\n",
              "      </button>\n",
              "      \n",
              "  <style>\n",
              "    .colab-df-container {\n",
              "      display:flex;\n",
              "      flex-wrap:wrap;\n",
              "      gap: 12px;\n",
              "    }\n",
              "\n",
              "    .colab-df-convert {\n",
              "      background-color: #E8F0FE;\n",
              "      border: none;\n",
              "      border-radius: 50%;\n",
              "      cursor: pointer;\n",
              "      display: none;\n",
              "      fill: #1967D2;\n",
              "      height: 32px;\n",
              "      padding: 0 0 0 0;\n",
              "      width: 32px;\n",
              "    }\n",
              "\n",
              "    .colab-df-convert:hover {\n",
              "      background-color: #E2EBFA;\n",
              "      box-shadow: 0px 1px 2px rgba(60, 64, 67, 0.3), 0px 1px 3px 1px rgba(60, 64, 67, 0.15);\n",
              "      fill: #174EA6;\n",
              "    }\n",
              "\n",
              "    [theme=dark] .colab-df-convert {\n",
              "      background-color: #3B4455;\n",
              "      fill: #D2E3FC;\n",
              "    }\n",
              "\n",
              "    [theme=dark] .colab-df-convert:hover {\n",
              "      background-color: #434B5C;\n",
              "      box-shadow: 0px 1px 3px 1px rgba(0, 0, 0, 0.15);\n",
              "      filter: drop-shadow(0px 1px 2px rgba(0, 0, 0, 0.3));\n",
              "      fill: #FFFFFF;\n",
              "    }\n",
              "  </style>\n",
              "\n",
              "      <script>\n",
              "        const buttonEl =\n",
              "          document.querySelector('#df-9de73c5f-bb2d-4ecd-8c8a-ba81063c8c44 button.colab-df-convert');\n",
              "        buttonEl.style.display =\n",
              "          google.colab.kernel.accessAllowed ? 'block' : 'none';\n",
              "\n",
              "        async function convertToInteractive(key) {\n",
              "          const element = document.querySelector('#df-9de73c5f-bb2d-4ecd-8c8a-ba81063c8c44');\n",
              "          const dataTable =\n",
              "            await google.colab.kernel.invokeFunction('convertToInteractive',\n",
              "                                                     [key], {});\n",
              "          if (!dataTable) return;\n",
              "\n",
              "          const docLinkHtml = 'Like what you see? Visit the ' +\n",
              "            '<a target=\"_blank\" href=https://colab.research.google.com/notebooks/data_table.ipynb>data table notebook</a>'\n",
              "            + ' to learn more about interactive tables.';\n",
              "          element.innerHTML = '';\n",
              "          dataTable['output_type'] = 'display_data';\n",
              "          await google.colab.output.renderOutput(dataTable, element);\n",
              "          const docLink = document.createElement('div');\n",
              "          docLink.innerHTML = docLinkHtml;\n",
              "          element.appendChild(docLink);\n",
              "        }\n",
              "      </script>\n",
              "    </div>\n",
              "  </div>\n",
              "  "
            ]
          },
          "metadata": {},
          "execution_count": 927
        }
      ]
    },
    {
      "cell_type": "markdown",
      "source": [
        "En esta sección Llamamos a ordenar los datos de la columna usuario, para poder saber el orden de los usuarios, para poder hacer una buena limpieza de datos y que no tengamos en la data los datos atipicos que teniamos antes."
      ],
      "metadata": {
        "id": "18XWbyo2BLF1"
      }
    },
    {
      "cell_type": "code",
      "source": [
        "plt.boxplot(x = sin_outliers_2['Usuarios'])\n",
        "plt.show(\"Usuarios\")\n"
      ],
      "metadata": {
        "colab": {
          "base_uri": "https://localhost:8080/",
          "height": 265
        },
        "id": "iBsUp9ChPSgW",
        "outputId": "ba6d9863-8638-4b01-bdf2-9cc9ab2c0982"
      },
      "execution_count": null,
      "outputs": [
        {
          "output_type": "display_data",
          "data": {
            "text/plain": [
              "<Figure size 432x288 with 1 Axes>"
            ],
            "image/png": "[encoded data removed]"
          },
          "metadata": {
            "needs_background": "light"
          }
        }
      ]
    },
    {
      "cell_type": "markdown",
      "source": [
        "Luego de hacer todo el proceso de la limpieza de los datos, mostramos otra vez la caja de bigotes, para que nos muestre que ya no tenemos datos atipicos, es decir hicimos la limpieza de datos atipicos y  terminamos con la limpieza de datos."
      ],
      "metadata": {
        "id": "w8z7JFmSBQOB"
      }
    },
    {
      "cell_type": "markdown",
      "source": [
        " # **Columna Energia**"
      ],
      "metadata": {
        "id": "EcDJeNePu_-o"
      }
    },
    {
      "cell_type": "code",
      "source": [
        "plt.boxplot(data['Energía [kWh/día]'])\n",
        "plt.show()"
      ],
      "metadata": {
        "colab": {
          "base_uri": "https://localhost:8080/",
          "height": 276
        },
        "id": "ZojyYmkKSOmj",
        "outputId": "91b4a705-c3a8-47a1-f78b-052ab0646d65"
      },
      "execution_count": null,
      "outputs": [
        {
          "output_type": "display_data",
          "data": {
            "text/plain": [
              "<Figure size 432x288 with 1 Axes>"
            ],
            "image/png": "[encoded data removed]"
          },
          "metadata": {
            "needs_background": "light"
          }
        }
      ]
    },
    {
      "cell_type": "markdown",
      "source": [
        "Como primer resultado en la caja de bigote que realizamos para la columna **Energia** apreciamos que tenemos muchos valores que estan por fuera de la misma, lo que son llamado datos atipicos, por lo que tenemos que realizar la limpieza de estos datos."
      ],
      "metadata": {
        "id": "mScU6m1WvFOZ"
      }
    },
    {
      "cell_type": "markdown",
      "source": [
        "#  **LIMPIEZA DE LOS DATOS ATIPICOS**"
      ],
      "metadata": {
        "id": "rIIsKCVlwBua"
      }
    },
    {
      "cell_type": "code",
      "source": [
        "Q1 = data['Energía [kWh/día]'].quantile(0.25)\n",
        "print(\"Primer Cuartil\", Q1)\n",
        "\n",
        "Q3 = data['Energía [kWh/día]'].quantile(0.65)\n",
        "print(\"Tercer Cuartil\", Q3)\n",
        "\n",
        "IQR = Q3 - Q1\n",
        "print(\"Rango Intercuartil\", IQR)\n",
        "\n",
        "Mediana = data['Energía [kWh/día]'].median()\n",
        "print(\"Mediana\", Mediana)\n",
        "\n",
        "Valor_Miniom = data['Energía [kWh/día]'].min()\n",
        "print(\"Valor Minimo\", Valor_Miniom)\n",
        "\n",
        "Valor_Maximo = data['Energía [kWh/día]'].max()\n",
        "print(\"Valor Máximo\", Valor_Maximo)\n"
      ],
      "metadata": {
        "colab": {
          "base_uri": "https://localhost:8080/"
        },
        "id": "8rnCyXM9TM32",
        "outputId": "286fcb37-6af1-4498-e44d-f348408f563a"
      },
      "execution_count": null,
      "outputs": [
        {
          "output_type": "stream",
          "name": "stdout",
          "text": [
            "Primer Cuartil 10920.0\n",
            "Tercer Cuartil 95520.0\n",
            "Rango Intercuartil 84600.0\n",
            "Mediana 47520.0\n",
            "Valor Minimo 21\n",
            "Valor Máximo 3360000\n"
          ]
        }
      ]
    },
    {
      "cell_type": "markdown",
      "source": [
        "Como podemos observar en la anterior sección tenemos demasiados datos atipicos, entonces aqui estamos haciendo la limpieza de los datos, tomamos los valores del primer y tercer cuartil, luego le sacamos la mediana y el valor minimo y el maximo para poder ver que datos tienen."
      ],
      "metadata": {
        "id": "LaJ0Ho0nwEZC"
      }
    },
    {
      "cell_type": "code",
      "source": [
        "BI_Calculado = (Q1 - 1.5 * IQR)\n",
        "print(\"BI_CALCULADO \\n\", BI_Calculado)\n",
        "\n",
        "BS_Calculado = (Q3 + 1.5 * IQR)\n",
        "print(\"BS_CALCULADO \\n\", BS_Calculado)"
      ],
      "metadata": {
        "colab": {
          "base_uri": "https://localhost:8080/"
        },
        "id": "QGIpnWWKTlNh",
        "outputId": "cf3e780a-28ec-485d-9601-74ecc5d03b74"
      },
      "execution_count": null,
      "outputs": [
        {
          "output_type": "stream",
          "name": "stdout",
          "text": [
            "BI_CALCULADO \n",
            " -115980.0\n",
            "BS_CALCULADO \n",
            " 222420.0\n"
          ]
        }
      ]
    },
    {
      "cell_type": "markdown",
      "source": [
        "En esta seccion estamos sacando una resta del primer cuartil menos el 1.5 de datos por el rango de caurtil, y luego hacemos otra operacion, el valor del tercer cuartil mas el 1.5 por el rengo de cuartil."
      ],
      "metadata": {
        "id": "VgnqQtXQwXlS"
      }
    },
    {
      "cell_type": "code",
      "source": [
        "ubicacion_outliers = ((sin_outliers['Energía [kWh/día]'] < BI_Calculado) | (sin_outliers['Energía [kWh/día]'] > BS_Calculado))\n",
        "print(\"\\n Ubicacion de Outliers \\n\", ubicacion_outliers)"
      ],
      "metadata": {
        "colab": {
          "base_uri": "https://localhost:8080/"
        },
        "id": "9pCQ_iOhT0vV",
        "outputId": "e9132b56-d8bd-4de8-c4d5-0d25c7d599ce"
      },
      "execution_count": null,
      "outputs": [
        {
          "output_type": "stream",
          "name": "stdout",
          "text": [
            "\n",
            " Ubicacion de Outliers \n",
            " 0      False\n",
            "1      False\n",
            "2      False\n",
            "4      False\n",
            "5      False\n",
            "       ...  \n",
            "153    False\n",
            "154    False\n",
            "155    False\n",
            "156    False\n",
            "157    False\n",
            "Name: Energía [kWh/día], Length: 125, dtype: bool\n"
          ]
        }
      ]
    },
    {
      "cell_type": "markdown",
      "source": [
        "Aqui estamos ubicando donde se encuentran los datos atipicos para saber que datos poder eliminar para que nos salgan datos atipicos en la proxima caja de bigote."
      ],
      "metadata": {
        "id": "FaE3ikxwwlSp"
      }
    },
    {
      "cell_type": "code",
      "source": [
        "outliers = sin_outliers[ubicacion_outliers]\n",
        "print(\"\\n Lista de Outliers \\n\", outliers)"
      ],
      "metadata": {
        "colab": {
          "base_uri": "https://localhost:8080/"
        },
        "id": "05ExSNiDUhDH",
        "outputId": "72e9427c-2dad-4457-e4d6-e280f0f340e7"
      },
      "execution_count": null,
      "outputs": [
        {
          "output_type": "stream",
          "name": "stdout",
          "text": [
            "\n",
            " Lista de Outliers \n",
            " Empty DataFrame\n",
            "Columns: [Proyecto, Tipo, Capacidad, Departamento, Municipio, Código Departamento, Código Municipio, Fecha estimada FPO, Energía [kWh/día], Usuarios, Inversión estimada [COP], Empleos estimados, Emisiones CO2 [Ton/año]]\n",
            "Index: []\n"
          ]
        }
      ]
    },
    {
      "cell_type": "markdown",
      "source": [
        "Aqui llamamos la data para ver en donde se encuentran los datos atipicos, y saber columnas tenemos con los datos."
      ],
      "metadata": {
        "id": "jfmBNsjBwy_E"
      }
    },
    {
      "cell_type": "code",
      "source": [
        "Outliers_Ordenados = outliers.sort_values('Energía [kWh/día]')\n",
        "Outliers_Ordenados"
      ],
      "metadata": {
        "colab": {
          "base_uri": "https://localhost:8080/",
          "height": 49
        },
        "id": "TLXCsTDPUx1O",
        "outputId": "01c4463f-79a8-4a0d-dbdc-d092648e7895"
      },
      "execution_count": null,
      "outputs": [
        {
          "output_type": "execute_result",
          "data": {
            "text/plain": [
              "Empty DataFrame\n",
              "Columns: [Proyecto, Tipo, Capacidad, Departamento, Municipio, Código Departamento, Código Municipio, Fecha estimada FPO, Energía [kWh/día], Usuarios, Inversión estimada [COP], Empleos estimados, Emisiones CO2 [Ton/año]]\n",
              "Index: []"
            ],
            "text/html": [
              "\n",
              "  <div id=\"df-274da1c9-f86d-4bd8-a07f-3a90c11e75c4\">\n",
              "    <div class=\"colab-df-container\">\n",
              "      <div>\n",
              "<style scoped>\n",
              "    .dataframe tbody tr th:only-of-type {\n",
              "        vertical-align: middle;\n",
              "    }\n",
              "\n",
              "    .dataframe tbody tr th {\n",
              "        vertical-align: top;\n",
              "    }\n",
              "\n",
              "    .dataframe thead th {\n",
              "        text-align: right;\n",
              "    }\n",
              "</style>\n",
              "<table border=\"1\" class=\"dataframe\">\n",
              "  <thead>\n",
              "    <tr style=\"text-align: right;\">\n",
              "      <th></th>\n",
              "      <th>Proyecto</th>\n",
              "      <th>Tipo</th>\n",
              "      <th>Capacidad</th>\n",
              "      <th>Departamento</th>\n",
              "      <th>Municipio</th>\n",
              "      <th>Código Departamento</th>\n",
              "      <th>Código Municipio</th>\n",
              "      <th>Fecha estimada FPO</th>\n",
              "      <th>Energía [kWh/día]</th>\n",
              "      <th>Usuarios</th>\n",
              "      <th>Inversión estimada [COP]</th>\n",
              "      <th>Empleos estimados</th>\n",
              "      <th>Emisiones CO2 [Ton/año]</th>\n",
              "    </tr>\n",
              "  </thead>\n",
              "  <tbody>\n",
              "  </tbody>\n",
              "</table>\n",
              "</div>\n",
              "      <button class=\"colab-df-convert\" onclick=\"convertToInteractive('df-274da1c9-f86d-4bd8-a07f-3a90c11e75c4')\"\n",
              "              title=\"Convert this dataframe to an interactive table.\"\n",
              "              style=\"display:none;\">\n",
              "        \n",
              "  <svg xmlns=\"http://www.w3.org/2000/svg\" height=\"24px\"viewBox=\"0 0 24 24\"\n",
              "       width=\"24px\">\n",
              "    <path d=\"M0 0h24v24H0V0z\" fill=\"none\"/>\n",
              "    <path d=\"M18.56 5.44l.94 2.06.94-2.06 2.06-.94-2.06-.94-.94-2.06-.94 2.06-2.06.94zm-11 1L8.5 8.5l.94-2.06 2.06-.94-2.06-.94L8.5 2.5l-.94 2.06-2.06.94zm10 10l.94 2.06.94-2.06 2.06-.94-2.06-.94-.94-2.06-.94 2.06-2.06.94z\"/><path d=\"M17.41 7.96l-1.37-1.37c-.4-.4-.92-.59-1.43-.59-.52 0-1.04.2-1.43.59L10.3 9.45l-7.72 7.72c-.78.78-.78 2.05 0 2.83L4 21.41c.39.39.9.59 1.41.59.51 0 1.02-.2 1.41-.59l7.78-7.78 2.81-2.81c.8-.78.8-2.07 0-2.86zM5.41 20L4 18.59l7.72-7.72 1.47 1.35L5.41 20z\"/>\n",
              "  </svg>\n",
              "      </button>\n",
              "      \n",
              "  <style>\n",
              "    .colab-df-container {\n",
              "      display:flex;\n",
              "      flex-wrap:wrap;\n",
              "      gap: 12px;\n",
              "    }\n",
              "\n",
              "    .colab-df-convert {\n",
              "      background-color: #E8F0FE;\n",
              "      border: none;\n",
              "      border-radius: 50%;\n",
              "      cursor: pointer;\n",
              "      display: none;\n",
              "      fill: #1967D2;\n",
              "      height: 32px;\n",
              "      padding: 0 0 0 0;\n",
              "      width: 32px;\n",
              "    }\n",
              "\n",
              "    .colab-df-convert:hover {\n",
              "      background-color: #E2EBFA;\n",
              "      box-shadow: 0px 1px 2px rgba(60, 64, 67, 0.3), 0px 1px 3px 1px rgba(60, 64, 67, 0.15);\n",
              "      fill: #174EA6;\n",
              "    }\n",
              "\n",
              "    [theme=dark] .colab-df-convert {\n",
              "      background-color: #3B4455;\n",
              "      fill: #D2E3FC;\n",
              "    }\n",
              "\n",
              "    [theme=dark] .colab-df-convert:hover {\n",
              "      background-color: #434B5C;\n",
              "      box-shadow: 0px 1px 3px 1px rgba(0, 0, 0, 0.15);\n",
              "      filter: drop-shadow(0px 1px 2px rgba(0, 0, 0, 0.3));\n",
              "      fill: #FFFFFF;\n",
              "    }\n",
              "  </style>\n",
              "\n",
              "      <script>\n",
              "        const buttonEl =\n",
              "          document.querySelector('#df-274da1c9-f86d-4bd8-a07f-3a90c11e75c4 button.colab-df-convert');\n",
              "        buttonEl.style.display =\n",
              "          google.colab.kernel.accessAllowed ? 'block' : 'none';\n",
              "\n",
              "        async function convertToInteractive(key) {\n",
              "          const element = document.querySelector('#df-274da1c9-f86d-4bd8-a07f-3a90c11e75c4');\n",
              "          const dataTable =\n",
              "            await google.colab.kernel.invokeFunction('convertToInteractive',\n",
              "                                                     [key], {});\n",
              "          if (!dataTable) return;\n",
              "\n",
              "          const docLinkHtml = 'Like what you see? Visit the ' +\n",
              "            '<a target=\"_blank\" href=https://colab.research.google.com/notebooks/data_table.ipynb>data table notebook</a>'\n",
              "            + ' to learn more about interactive tables.';\n",
              "          element.innerHTML = '';\n",
              "          dataTable['output_type'] = 'display_data';\n",
              "          await google.colab.output.renderOutput(dataTable, element);\n",
              "          const docLink = document.createElement('div');\n",
              "          docLink.innerHTML = docLinkHtml;\n",
              "          element.appendChild(docLink);\n",
              "        }\n",
              "      </script>\n",
              "    </div>\n",
              "  </div>\n",
              "  "
            ]
          },
          "metadata": {},
          "execution_count": 934
        }
      ]
    },
    {
      "cell_type": "markdown",
      "source": [
        "\n",
        "En esta sección Llamamos a ordenar los datos de la columna usuario, para poder saber el orden de los usuarios, para poder hacer una buena limpieza de datos y que no tengamos en la data los datos atipicos que teniamos antes."
      ],
      "metadata": {
        "id": "G9ZfYU4Qw60d"
      }
    },
    {
      "cell_type": "code",
      "source": [
        "Ubicacion_sin_out = ((sin_outliers['Energía [kWh/día]'] >= BI_Calculado) & (sin_outliers['Energía [kWh/día]'] <= BS_Calculado))\n",
        "sin_outliers_2 = sin_outliers[Ubicacion_sin_out]\n",
        "sin_outliers_2"
      ],
      "metadata": {
        "colab": {
          "base_uri": "https://localhost:8080/",
          "height": 659
        },
        "id": "StL_Yu5sU_59",
        "outputId": "f655ba17-6946-4cd8-8123-5e35786620a7"
      },
      "execution_count": null,
      "outputs": [
        {
          "output_type": "execute_result",
          "data": {
            "text/plain": [
              "                            Proyecto    Tipo  Capacidad     Departamento  \\\n",
              "0                          JEPIRACHI  Eólico      18.42       LA GUAJIRA   \n",
              "1           AUTOG CELSIA SOLAR YUMBO   Solar       9.80  VALLE DEL CAUCA   \n",
              "2               CELSIA SOLAR BOLIVAR   Solar       8.06          BOLÍVAR   \n",
              "4                 SOLAR CASTILLA ECP   Solar      20.00             META   \n",
              "5    AGPE TECNOEMPAQUES DE OCCIDENTE   Solar       0.10  VALLE DEL CAUCA   \n",
              "..                               ...     ...        ...              ...   \n",
              "153                   BUGA 1 PARTE 2   Solar       5.94  VALLE DEL CAUCA   \n",
              "154                   BUGA 1 PARTE 1   Solar       3.96  VALLE DEL CAUCA   \n",
              "155                    REFINERÍA GRB   Solar      21.00        SANTANDER   \n",
              "156      EMSA GD Y AG (34 Proyectos)   Solar       1.90             META   \n",
              "157     ENELAR GD Y AG (4 Proyectos)   Solar       0.11           ARAUCA   \n",
              "\n",
              "             Municipio  Código Departamento  Código Municipio  \\\n",
              "0               URIBIA                   44             44847   \n",
              "1                YUMBO                   76             76892   \n",
              "2           SANTA ROSA                   13             13683   \n",
              "4    CASTILLA LA NUEVA                   50             50150   \n",
              "5                 CALI                   76             76001   \n",
              "..                 ...                  ...               ...   \n",
              "153        SANTA LUCIA                   76                76   \n",
              "154        SANTA LUCIA                   76                76   \n",
              "155    BARRANCABERMEJA                   68             68081   \n",
              "156      VILLAVICENCIO                   50             50001   \n",
              "157             ARAUCA                   81             81001   \n",
              "\n",
              "          Fecha estimada FPO  Energía [kWh/día]  Usuarios  \\\n",
              "0    2004-04-27T00:00:00.000             176832     30665   \n",
              "1    2017-03-09T00:00:00.000              47040      8157   \n",
              "2    2019-02-01T00:00:00.000              38688      6709   \n",
              "4    2019-10-10T00:00:00.000              96000     16647   \n",
              "5    2019-12-19T00:00:00.000                480        83   \n",
              "..                       ...                ...       ...   \n",
              "153  2022-12-31T00:00:00.000              28512      4944   \n",
              "154  2022-07-31T00:00:00.000              19008      3296   \n",
              "155  2023-12-31T00:00:00.000             100800     17480   \n",
              "156  2022-05-31T00:00:00.000               9120      1582   \n",
              "157  2022-05-31T00:00:00.000                528        92   \n",
              "\n",
              "     Inversión estimada [COP]  Empleos estimados  Emisiones CO2 [Ton/año]  \n",
              "0                 79206000000                 51                    51635  \n",
              "1                 42140000000                 68                    13736  \n",
              "2                 34658000000                 56                    11297  \n",
              "4                 86000000000                139                    28032  \n",
              "5                   430000000                  1                      140  \n",
              "..                        ...                ...                      ...  \n",
              "153               22275000000                 41                     8326  \n",
              "154               14850000000                 28                     5550  \n",
              "155               78750000000                146                    29434  \n",
              "156                8170000000                 13                     2663  \n",
              "157                 473000000                  1                      154  \n",
              "\n",
              "[125 rows x 13 columns]"
            ],
            "text/html": [
              "\n",
              "  <div id=\"df-8e6fec49-0853-44f1-8014-98d6ae6a2910\">\n",
              "    <div class=\"colab-df-container\">\n",
              "      <div>\n",
              "<style scoped>\n",
              "    .dataframe tbody tr th:only-of-type {\n",
              "        vertical-align: middle;\n",
              "    }\n",
              "\n",
              "    .dataframe tbody tr th {\n",
              "        vertical-align: top;\n",
              "    }\n",
              "\n",
              "    .dataframe thead th {\n",
              "        text-align: right;\n",
              "    }\n",
              "</style>\n",
              "<table border=\"1\" class=\"dataframe\">\n",
              "  <thead>\n",
              "    <tr style=\"text-align: right;\">\n",
              "      <th></th>\n",
              "      <th>Proyecto</th>\n",
              "      <th>Tipo</th>\n",
              "      <th>Capacidad</th>\n",
              "      <th>Departamento</th>\n",
              "      <th>Municipio</th>\n",
              "      <th>Código Departamento</th>\n",
              "      <th>Código Municipio</th>\n",
              "      <th>Fecha estimada FPO</th>\n",
              "      <th>Energía [kWh/día]</th>\n",
              "      <th>Usuarios</th>\n",
              "      <th>Inversión estimada [COP]</th>\n",
              "      <th>Empleos estimados</th>\n",
              "      <th>Emisiones CO2 [Ton/año]</th>\n",
              "    </tr>\n",
              "  </thead>\n",
              "  <tbody>\n",
              "    <tr>\n",
              "      <th>0</th>\n",
              "      <td>JEPIRACHI</td>\n",
              "      <td>Eólico</td>\n",
              "      <td>18.42</td>\n",
              "      <td>LA GUAJIRA</td>\n",
              "      <td>URIBIA</td>\n",
              "      <td>44</td>\n",
              "      <td>44847</td>\n",
              "      <td>2004-04-27T00:00:00.000</td>\n",
              "      <td>176832</td>\n",
              "      <td>30665</td>\n",
              "      <td>79206000000</td>\n",
              "      <td>51</td>\n",
              "      <td>51635</td>\n",
              "    </tr>\n",
              "    <tr>\n",
              "      <th>1</th>\n",
              "      <td>AUTOG CELSIA SOLAR YUMBO</td>\n",
              "      <td>Solar</td>\n",
              "      <td>9.80</td>\n",
              "      <td>VALLE DEL CAUCA</td>\n",
              "      <td>YUMBO</td>\n",
              "      <td>76</td>\n",
              "      <td>76892</td>\n",
              "      <td>2017-03-09T00:00:00.000</td>\n",
              "      <td>47040</td>\n",
              "      <td>8157</td>\n",
              "      <td>42140000000</td>\n",
              "      <td>68</td>\n",
              "      <td>13736</td>\n",
              "    </tr>\n",
              "    <tr>\n",
              "      <th>2</th>\n",
              "      <td>CELSIA SOLAR BOLIVAR</td>\n",
              "      <td>Solar</td>\n",
              "      <td>8.06</td>\n",
              "      <td>BOLÍVAR</td>\n",
              "      <td>SANTA ROSA</td>\n",
              "      <td>13</td>\n",
              "      <td>13683</td>\n",
              "      <td>2019-02-01T00:00:00.000</td>\n",
              "      <td>38688</td>\n",
              "      <td>6709</td>\n",
              "      <td>34658000000</td>\n",
              "      <td>56</td>\n",
              "      <td>11297</td>\n",
              "    </tr>\n",
              "    <tr>\n",
              "      <th>4</th>\n",
              "      <td>SOLAR CASTILLA ECP</td>\n",
              "      <td>Solar</td>\n",
              "      <td>20.00</td>\n",
              "      <td>META</td>\n",
              "      <td>CASTILLA LA NUEVA</td>\n",
              "      <td>50</td>\n",
              "      <td>50150</td>\n",
              "      <td>2019-10-10T00:00:00.000</td>\n",
              "      <td>96000</td>\n",
              "      <td>16647</td>\n",
              "      <td>86000000000</td>\n",
              "      <td>139</td>\n",
              "      <td>28032</td>\n",
              "    </tr>\n",
              "    <tr>\n",
              "      <th>5</th>\n",
              "      <td>AGPE TECNOEMPAQUES DE OCCIDENTE</td>\n",
              "      <td>Solar</td>\n",
              "      <td>0.10</td>\n",
              "      <td>VALLE DEL CAUCA</td>\n",
              "      <td>CALI</td>\n",
              "      <td>76</td>\n",
              "      <td>76001</td>\n",
              "      <td>2019-12-19T00:00:00.000</td>\n",
              "      <td>480</td>\n",
              "      <td>83</td>\n",
              "      <td>430000000</td>\n",
              "      <td>1</td>\n",
              "      <td>140</td>\n",
              "    </tr>\n",
              "    <tr>\n",
              "      <th>...</th>\n",
              "      <td>...</td>\n",
              "      <td>...</td>\n",
              "      <td>...</td>\n",
              "      <td>...</td>\n",
              "      <td>...</td>\n",
              "      <td>...</td>\n",
              "      <td>...</td>\n",
              "      <td>...</td>\n",
              "      <td>...</td>\n",
              "      <td>...</td>\n",
              "      <td>...</td>\n",
              "      <td>...</td>\n",
              "      <td>...</td>\n",
              "    </tr>\n",
              "    <tr>\n",
              "      <th>153</th>\n",
              "      <td>BUGA 1 PARTE 2</td>\n",
              "      <td>Solar</td>\n",
              "      <td>5.94</td>\n",
              "      <td>VALLE DEL CAUCA</td>\n",
              "      <td>SANTA LUCIA</td>\n",
              "      <td>76</td>\n",
              "      <td>76</td>\n",
              "      <td>2022-12-31T00:00:00.000</td>\n",
              "      <td>28512</td>\n",
              "      <td>4944</td>\n",
              "      <td>22275000000</td>\n",
              "      <td>41</td>\n",
              "      <td>8326</td>\n",
              "    </tr>\n",
              "    <tr>\n",
              "      <th>154</th>\n",
              "      <td>BUGA 1 PARTE 1</td>\n",
              "      <td>Solar</td>\n",
              "      <td>3.96</td>\n",
              "      <td>VALLE DEL CAUCA</td>\n",
              "      <td>SANTA LUCIA</td>\n",
              "      <td>76</td>\n",
              "      <td>76</td>\n",
              "      <td>2022-07-31T00:00:00.000</td>\n",
              "      <td>19008</td>\n",
              "      <td>3296</td>\n",
              "      <td>14850000000</td>\n",
              "      <td>28</td>\n",
              "      <td>5550</td>\n",
              "    </tr>\n",
              "    <tr>\n",
              "      <th>155</th>\n",
              "      <td>REFINERÍA GRB</td>\n",
              "      <td>Solar</td>\n",
              "      <td>21.00</td>\n",
              "      <td>SANTANDER</td>\n",
              "      <td>BARRANCABERMEJA</td>\n",
              "      <td>68</td>\n",
              "      <td>68081</td>\n",
              "      <td>2023-12-31T00:00:00.000</td>\n",
              "      <td>100800</td>\n",
              "      <td>17480</td>\n",
              "      <td>78750000000</td>\n",
              "      <td>146</td>\n",
              "      <td>29434</td>\n",
              "    </tr>\n",
              "    <tr>\n",
              "      <th>156</th>\n",
              "      <td>EMSA GD Y AG (34 Proyectos)</td>\n",
              "      <td>Solar</td>\n",
              "      <td>1.90</td>\n",
              "      <td>META</td>\n",
              "      <td>VILLAVICENCIO</td>\n",
              "      <td>50</td>\n",
              "      <td>50001</td>\n",
              "      <td>2022-05-31T00:00:00.000</td>\n",
              "      <td>9120</td>\n",
              "      <td>1582</td>\n",
              "      <td>8170000000</td>\n",
              "      <td>13</td>\n",
              "      <td>2663</td>\n",
              "    </tr>\n",
              "    <tr>\n",
              "      <th>157</th>\n",
              "      <td>ENELAR GD Y AG (4 Proyectos)</td>\n",
              "      <td>Solar</td>\n",
              "      <td>0.11</td>\n",
              "      <td>ARAUCA</td>\n",
              "      <td>ARAUCA</td>\n",
              "      <td>81</td>\n",
              "      <td>81001</td>\n",
              "      <td>2022-05-31T00:00:00.000</td>\n",
              "      <td>528</td>\n",
              "      <td>92</td>\n",
              "      <td>473000000</td>\n",
              "      <td>1</td>\n",
              "      <td>154</td>\n",
              "    </tr>\n",
              "  </tbody>\n",
              "</table>\n",
              "<p>125 rows × 13 columns</p>\n",
              "</div>\n",
              "      <button class=\"colab-df-convert\" onclick=\"convertToInteractive('df-8e6fec49-0853-44f1-8014-98d6ae6a2910')\"\n",
              "              title=\"Convert this dataframe to an interactive table.\"\n",
              "              style=\"display:none;\">\n",
              "        \n",
              "  <svg xmlns=\"http://www.w3.org/2000/svg\" height=\"24px\"viewBox=\"0 0 24 24\"\n",
              "       width=\"24px\">\n",
              "    <path d=\"M0 0h24v24H0V0z\" fill=\"none\"/>\n",
              "    <path d=\"M18.56 5.44l.94 2.06.94-2.06 2.06-.94-2.06-.94-.94-2.06-.94 2.06-2.06.94zm-11 1L8.5 8.5l.94-2.06 2.06-.94-2.06-.94L8.5 2.5l-.94 2.06-2.06.94zm10 10l.94 2.06.94-2.06 2.06-.94-2.06-.94-.94-2.06-.94 2.06-2.06.94z\"/><path d=\"M17.41 7.96l-1.37-1.37c-.4-.4-.92-.59-1.43-.59-.52 0-1.04.2-1.43.59L10.3 9.45l-7.72 7.72c-.78.78-.78 2.05 0 2.83L4 21.41c.39.39.9.59 1.41.59.51 0 1.02-.2 1.41-.59l7.78-7.78 2.81-2.81c.8-.78.8-2.07 0-2.86zM5.41 20L4 18.59l7.72-7.72 1.47 1.35L5.41 20z\"/>\n",
              "  </svg>\n",
              "      </button>\n",
              "      \n",
              "  <style>\n",
              "    .colab-df-container {\n",
              "      display:flex;\n",
              "      flex-wrap:wrap;\n",
              "      gap: 12px;\n",
              "    }\n",
              "\n",
              "    .colab-df-convert {\n",
              "      background-color: #E8F0FE;\n",
              "      border: none;\n",
              "      border-radius: 50%;\n",
              "      cursor: pointer;\n",
              "      display: none;\n",
              "      fill: #1967D2;\n",
              "      height: 32px;\n",
              "      padding: 0 0 0 0;\n",
              "      width: 32px;\n",
              "    }\n",
              "\n",
              "    .colab-df-convert:hover {\n",
              "      background-color: #E2EBFA;\n",
              "      box-shadow: 0px 1px 2px rgba(60, 64, 67, 0.3), 0px 1px 3px 1px rgba(60, 64, 67, 0.15);\n",
              "      fill: #174EA6;\n",
              "    }\n",
              "\n",
              "    [theme=dark] .colab-df-convert {\n",
              "      background-color: #3B4455;\n",
              "      fill: #D2E3FC;\n",
              "    }\n",
              "\n",
              "    [theme=dark] .colab-df-convert:hover {\n",
              "      background-color: #434B5C;\n",
              "      box-shadow: 0px 1px 3px 1px rgba(0, 0, 0, 0.15);\n",
              "      filter: drop-shadow(0px 1px 2px rgba(0, 0, 0, 0.3));\n",
              "      fill: #FFFFFF;\n",
              "    }\n",
              "  </style>\n",
              "\n",
              "      <script>\n",
              "        const buttonEl =\n",
              "          document.querySelector('#df-8e6fec49-0853-44f1-8014-98d6ae6a2910 button.colab-df-convert');\n",
              "        buttonEl.style.display =\n",
              "          google.colab.kernel.accessAllowed ? 'block' : 'none';\n",
              "\n",
              "        async function convertToInteractive(key) {\n",
              "          const element = document.querySelector('#df-8e6fec49-0853-44f1-8014-98d6ae6a2910');\n",
              "          const dataTable =\n",
              "            await google.colab.kernel.invokeFunction('convertToInteractive',\n",
              "                                                     [key], {});\n",
              "          if (!dataTable) return;\n",
              "\n",
              "          const docLinkHtml = 'Like what you see? Visit the ' +\n",
              "            '<a target=\"_blank\" href=https://colab.research.google.com/notebooks/data_table.ipynb>data table notebook</a>'\n",
              "            + ' to learn more about interactive tables.';\n",
              "          element.innerHTML = '';\n",
              "          dataTable['output_type'] = 'display_data';\n",
              "          await google.colab.output.renderOutput(dataTable, element);\n",
              "          const docLink = document.createElement('div');\n",
              "          docLink.innerHTML = docLinkHtml;\n",
              "          element.appendChild(docLink);\n",
              "        }\n",
              "      </script>\n",
              "    </div>\n",
              "  </div>\n",
              "  "
            ]
          },
          "metadata": {},
          "execution_count": 935
        }
      ]
    },
    {
      "cell_type": "markdown",
      "source": [
        "En esta sección Llamamos a ordenar los datos de la columna usuario, para poder saber el orden de los usuarios, para poder hacer una buena limpieza de datos y que no tengamos en la data los datos atipicos que teniamos antes."
      ],
      "metadata": {
        "id": "n3VF6sdHxBSu"
      }
    },
    {
      "cell_type": "code",
      "source": [
        "plt.boxplot(x=sin_outliers['Energía [kWh/día]'])\n",
        "plt.show(\"Energía [kWh/día]\")\n",
        "plt.show(\"Cantidad\")"
      ],
      "metadata": {
        "colab": {
          "base_uri": "https://localhost:8080/",
          "height": 265
        },
        "id": "qtuHaxUtVUJ-",
        "outputId": "71694cb1-17e4-476c-fe42-4b1182aab1ce"
      },
      "execution_count": null,
      "outputs": [
        {
          "output_type": "display_data",
          "data": {
            "text/plain": [
              "<Figure size 432x288 with 1 Axes>"
            ],
            "image/png": "[encoded data removed]"
          },
          "metadata": {
            "needs_background": "light"
          }
        }
      ]
    },
    {
      "cell_type": "markdown",
      "source": [
        "Luego de hacer todo el proceso de la limpieza de los datos, mostramos otra vez la caja de bigotes, para que nos muestre que ya no tenemos datos atipicos, en este caso seguimos encontrando datos atipicos pero la explicación de estos es que los consumos de energia estaban estandarizados para llegar a los **15000** KWH pero se espero y sucedio que se fuera superada esta cantidad."
      ],
      "metadata": {
        "id": "2_REw7VDxIEf"
      }
    }
  ]
}